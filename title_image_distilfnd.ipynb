{
 "cells": [
  {
   "cell_type": "markdown",
   "metadata": {},
   "source": [
    "# Title-Image DistilFND model variant"
   ]
  },
  {
   "cell_type": "markdown",
   "metadata": {},
   "source": [
    "`Title-Image DistilFND` extracts signficant textual and visual features from Reddit-post title and image in order to learn to classify Reddit-Posts from `Fakeddit`benchmark dataset by leveraging multi-modal feature extraction after *Nakamura et al. (2020)*. The `Image-Feature Extractor` leverages a pre-trained `ResNet34` model after *He et al. (2015)* trained on the `ImageNet 2012` benchmark dataset for image classification tasks. The `Title-Feature Extractor`leverages a pre-trained `DistilBert`model after *Sanh et al. (2020)* trained on the `English Wikipedia`and `Toronto Book Corpus` in lower cased letters. The model tries to reach a high generalzation capability by correctly classifing sample posts across *6* defined classes: authentic/true news content, Satire / Parody, content with false connection, imposter content, manipulated content and misleading content. Only the ladder *4* content types are to be understood as Fake News, whereas authentic/true content and Satire / Parody are to be understood as Authentic Content in terms of a *2*-way-classification task."
   ]
  },
  {
   "cell_type": "markdown",
   "metadata": {},
   "source": [
    "# Preparational steps"
   ]
  },
  {
   "cell_type": "markdown",
   "metadata": {},
   "source": [
    "Checking information about attached GPU resource."
   ]
  },
  {
   "cell_type": "code",
   "execution_count": 1,
   "metadata": {
    "id": "iNtV70SKpwi8"
   },
   "outputs": [
    {
     "name": "stdout",
     "output_type": "stream",
     "text": [
      "Fri Sep  3 18:33:17 2021       \r\n",
      "+-----------------------------------------------------------------------------+\r\n",
      "| NVIDIA-SMI 450.142.00   Driver Version: 450.142.00   CUDA Version: 11.0     |\r\n",
      "|-------------------------------+----------------------+----------------------+\r\n",
      "| GPU  Name        Persistence-M| Bus-Id        Disp.A | Volatile Uncorr. ECC |\r\n",
      "| Fan  Temp  Perf  Pwr:Usage/Cap|         Memory-Usage | GPU-Util  Compute M. |\r\n",
      "|                               |                      |               MIG M. |\r\n",
      "|===============================+======================+======================|\r\n",
      "|   0  Tesla K80           On   | 00000000:00:1E.0 Off |                    0 |\r\n",
      "| N/A   48C    P8    33W / 149W |      0MiB / 11441MiB |      0%      Default |\r\n",
      "|                               |                      |                  N/A |\r\n",
      "+-------------------------------+----------------------+----------------------+\r\n",
      "                                                                               \r\n",
      "+-----------------------------------------------------------------------------+\r\n",
      "| Processes:                                                                  |\r\n",
      "|  GPU   GI   CI        PID   Type   Process name                  GPU Memory |\r\n",
      "|        ID   ID                                                   Usage      |\r\n",
      "|=============================================================================|\r\n",
      "|  No running processes found                                                 |\r\n",
      "+-----------------------------------------------------------------------------+\r\n"
     ]
    }
   ],
   "source": [
    "!nvidia-smi"
   ]
  },
  {
   "cell_type": "markdown",
   "metadata": {},
   "source": [
    "Importing needed modules"
   ]
  },
  {
   "cell_type": "code",
   "execution_count": 2,
   "metadata": {
    "id": "Xdkoeo9PrKPM"
   },
   "outputs": [],
   "source": [
    "import os\n",
    "import numpy as np\n",
    "import keras\n",
    "import pandas as pd\n",
    "from tqdm.notebook import tqdm\n",
    "from collections import defaultdict\n",
    "from textwrap import wrap\n",
    "from PIL import Image, ImageFile, UnidentifiedImageError\n",
    "# Increasing maximum limit size for pixels per input image\n",
    "ImageFile.LOAD_TRUNCATED_IMAGES = True\n",
    "Image.MAX_IMAGE_PIXELS = 933120000"
   ]
  },
  {
   "cell_type": "code",
   "execution_count": 4,
   "metadata": {
    "id": "m4zVrP9MrMhf"
   },
   "outputs": [],
   "source": [
    "# Importing Pytorch and transformers from HuggingFace\n",
    "import torch\n",
    "# Import nn module for building stacked layers and optimizers\n",
    "from torch import nn, optim\n",
    "import torchvision\n",
    "from torchvision import datasets, models, transforms\n",
    "# Import modules for dataset configuration and loading\n",
    "from torch.utils.data import Dataset, DataLoader\n",
    "from transformers import AdamW, get_linear_schedule_with_warmup\n",
    "import torch.optim.lr_scheduler as lr_scheduler"
   ]
  },
  {
   "cell_type": "code",
   "execution_count": 3,
   "metadata": {
    "id": "EHoKU1_JrLST"
   },
   "outputs": [],
   "source": [
    "# Importing model evaluation tools\n",
    "from sklearn.metrics import confusion_matrix, classification_report, cohen_kappa_score\n",
    "import sklearn\n",
    "from sklearn.model_selection import train_test_split"
   ]
  },
  {
   "cell_type": "code",
   "execution_count": 7,
   "metadata": {
    "id": "-7jTMpM6rT9C"
   },
   "outputs": [],
   "source": [
    "# Importing visualization tools\n",
    "import seaborn as sns\n",
    "from pylab import rcParams\n",
    "import matplotlib.pyplot as plt\n",
    "from matplotlib import rc\n",
    "\n",
    "# Setting style of matplotlib graphic visualization\n",
    "%matplotlib inline\n",
    "%config InlineBackend.figure_format=\"retina\"\n",
    "\n",
    "# Setting style of seaborn graphic visualization\n",
    "sns.set(style=\"whitegrid\", palette=\"muted\", font_scale=1.2)\n",
    "COLOR_PALETTE = [\"#01BEFE\", \"#FFDD00\", \"#FF7D00\", \"#FF006D\", \"#ADFF02\", \"#8F00FF\"]\n",
    "sns.set_palette(sns.color_palette(COLOR_PALETTE))\n",
    "\n",
    "# Setting parameter figure sizes\n",
    "rcParams[\"figure.figsize\"] = 12, 8"
   ]
  },
  {
   "cell_type": "markdown",
   "metadata": {},
   "source": [
    "Checking if GPU resource is accessible."
   ]
  },
  {
   "cell_type": "code",
   "execution_count": 5,
   "metadata": {
    "id": "W0pk6tbyrN3c"
   },
   "outputs": [
    {
     "data": {
      "text/plain": [
       "True"
      ]
     },
     "execution_count": 5,
     "metadata": {},
     "output_type": "execute_result"
    }
   ],
   "source": [
    "torch.cuda.is_available()"
   ]
  },
  {
   "cell_type": "code",
   "execution_count": 6,
   "metadata": {
    "id": "o8TZMGChrSZY"
   },
   "outputs": [
    {
     "name": "stdout",
     "output_type": "stream",
     "text": [
      "GPU is allocated.\n"
     ]
    }
   ],
   "source": [
    "# Assigning available ressource to device variable, preferrably GPU resource\n",
    "device = torch.device(\"cuda:0\" if torch.cuda.is_available() else \"cpu\")\n",
    "\n",
    "# Print out if GPU or CPU is allocated\n",
    "if str(device) == \"cpu\":\n",
    "    print(\"CPU is allocated.\")\n",
    "else:\n",
    "    print(\"GPU is allocated.\")"
   ]
  },
  {
   "cell_type": "markdown",
   "metadata": {},
   "source": [
    "# Initializing and preparing Fakeddit-Benchmark dataset"
   ]
  },
  {
   "cell_type": "markdown",
   "metadata": {},
   "source": [
    "Helper function to read in tsv files and return clean pandas dataframe."
   ]
  },
  {
   "cell_type": "code",
   "execution_count": 8,
   "metadata": {
    "id": "vf4sDItLrWFT"
   },
   "outputs": [],
   "source": [
    "# Method to read input data from tsv file into dataframe\n",
    "def initialize_dataframe(path, file):\n",
    "    dataframe = pd.read_csv(os.path.join(path, file), delimiter=\"\\t\")\n",
    "    \n",
    "    # Drop redundant column, if existent\n",
    "    if \"Unnamed: 0\" in dataframe.columns:\n",
    "        dataframe = dataframe.drop([\"Unnamed: 0\"], 1)\n",
    "    \n",
    "    # Return dataframe\n",
    "    return dataframe"
   ]
  },
  {
   "cell_type": "markdown",
   "metadata": {},
   "source": [
    "Read in tsv file and assign returned dataframes to training, validate and test splits."
   ]
  },
  {
   "cell_type": "code",
   "execution_count": 9,
   "metadata": {
    "id": "G844a8MIrZzb"
   },
   "outputs": [],
   "source": [
    "# Read input into dataframes\n",
    "df_test = initialize_dataframe(\"dataset\", \"multimodal_test_public.tsv\")\n",
    "df_validate = initialize_dataframe(\"dataset\", \"multimodal_validate.tsv\")\n",
    "df_train = initialize_dataframe(\"dataset\", \"multimodal_train.tsv\")"
   ]
  },
  {
   "cell_type": "markdown",
   "metadata": {},
   "source": [
    "Apply `train_test_split()` function from Scikit-learn in order to minimize complete dataset\n",
    "with over *700.000* samples. Splitting complete dataset into custom training, validate and test sets,\n",
    "while reusing only *20%* of the original data (*80%* for training and *10%* for validation and testing each). \n",
    "Stratify function is applied in order to keep the\n",
    "per class sample distribution from original Fakeddit source dataset."
   ]
  },
  {
   "cell_type": "code",
   "execution_count": 10,
   "metadata": {},
   "outputs": [],
   "source": [
    "# Splitting complete Fakeddit-dataset into 20% training dataframe\n",
    "# and 80% backup dataframe\n",
    "df_train, df_backup = train_test_split(\n",
    "    df_train,\n",
    "    test_size=0.8,\n",
    "    shuffle=True,\n",
    "    # Apply stratification on basis of 6 way label classification\n",
    "    # maintaining percentage of samples per class as given by original dataset\n",
    "    stratify=df_train[\"6_way_label\"]\n",
    ")"
   ]
  },
  {
   "cell_type": "code",
   "execution_count": 11,
   "metadata": {},
   "outputs": [],
   "source": [
    "# Keeping 80% of data samples for training and 20% for testing purposes\n",
    "df_train, df_test = train_test_split(\n",
    "    df_train,\n",
    "    test_size=0.2,\n",
    "    shuffle=True,\n",
    "    # Apply stratification on basis of 6 way label classification\n",
    "    # maintaining percentage of samples per class as given by original dataset\n",
    "    stratify=df_train[\"6_way_label\"]\n",
    ")"
   ]
  },
  {
   "cell_type": "code",
   "execution_count": 12,
   "metadata": {},
   "outputs": [],
   "source": [
    "# Dividing test split dataframe by factor 0,5 to have identically\n",
    "# sized splits for validation and testing\n",
    "df_test, df_validate = train_test_split(\n",
    "    df_test,\n",
    "    test_size=0.5,\n",
    "    shuffle=True,\n",
    "    # Apply stratification on basis of 6 way label classification\n",
    "    # maintaining percentage of samples per class as given by original dataset\n",
    "    stratify=df_test[\"6_way_label\"]\n",
    ")"
   ]
  },
  {
   "cell_type": "code",
   "execution_count": 13,
   "metadata": {},
   "outputs": [
    {
     "data": {
      "text/plain": [
       "90240"
      ]
     },
     "execution_count": 13,
     "metadata": {},
     "output_type": "execute_result"
    }
   ],
   "source": [
    "# Checking size of training split dataframe\n",
    "len(df_train)"
   ]
  },
  {
   "cell_type": "code",
   "execution_count": 14,
   "metadata": {
    "id": "yUYwUH-crbXr"
   },
   "outputs": [
    {
     "name": "stdout",
     "output_type": "stream",
     "text": [
      "Fake News Classifier performs fine-grained fake news detection into a total of 6 classes.\n"
     ]
    }
   ],
   "source": [
    "# Fake News subtypes in order of Fakeddit benchmark dataset labeling\n",
    "CLASS_NAMES = [\"True\", \"Satire\", \"False Conn.\", \"Impost. Content\", \"Man. Content\", \"Mis. Content\"]\n",
    "\n",
    "# Defining number of classes to be classified within classification problem\n",
    "print(\"Fake News Classifier performs fine-grained fake news detection \" + \n",
    "          \"into a total of \" + str(len(CLASS_NAMES)) + \" classes.\")"
   ]
  },
  {
   "cell_type": "code",
   "execution_count": 15,
   "metadata": {
    "id": "43xIOXNQrdBZ"
   },
   "outputs": [],
   "source": [
    "# Importing needed modules for DistilBert model\n",
    "from transformers import DistilBertTokenizer, DistilBertModel, DistilBertConfig\n",
    "\n",
    "# Loading DistilBert tokenizers adjusted for lower case English text corpus\n",
    "# for tokenization of title input sequence\n",
    "title_tokenizer = DistilBertTokenizer.from_pretrained(\"distilbert-base-uncased\")"
   ]
  },
  {
   "cell_type": "markdown",
   "metadata": {},
   "source": [
    "# Loading and processing input data"
   ]
  },
  {
   "cell_type": "markdown",
   "metadata": {},
   "source": [
    "`PostDataset` class is subclass from PyTorch Dataset class. Following the `Dataset`& `DataLoader` PyTorch framework is implemented, in which PostDataset contains all relevant information per batch and DataLoader iterates over complete Dataset to feed batches of size *16* to model. **Attention:** `PostDataset` does not yet contain any information related to associated Reddit-Post images. Images per post are opened and processed *on thy fly* by using the post_id as search criteria."
   ]
  },
  {
   "cell_type": "code",
   "execution_count": 16,
   "metadata": {
    "id": "uRQSrgDQrgLQ"
   },
   "outputs": [],
   "source": [
    "class PostDataset(Dataset):\n",
    "    \n",
    "    # Constructor initialized with relevant attributes plus tokenizer information\n",
    "    def __init__(self, post_id, title, label, title_tokenizer, max_len):\n",
    "        self.post_id = post_id\n",
    "        self.title = title\n",
    "        self.label = label\n",
    "        self.title_tokenizer = title_tokenizer\n",
    "        self.max_length = max_len\n",
    "        \n",
    "    # Returns length of the dataset for internal looping \n",
    "    def __len__(self):\n",
    "        return len(self.label)\n",
    "    \n",
    "    # Internal function to fetch next sample within dataset object\n",
    "    def __getitem__(self, idx):\n",
    "        # Iteration function to retireve next sample\n",
    "        post_id = self.post_id[idx]\n",
    "        title = self.title[idx]\n",
    "        label = self.label[idx]\n",
    "\n",
    "        # Saving id, clean_title and label entries per post\n",
    "        # in sample dictionary\n",
    "        sample = {\n",
    "            \"post_id\": post_id,\n",
    "            \"clean_title\": title,\n",
    "            \"label\": label\n",
    "        }\n",
    "        \n",
    "        # Return sample dictionary containing all needed attributes\n",
    "        return sample"
   ]
  },
  {
   "cell_type": "markdown",
   "metadata": {},
   "source": [
    "`train_transform()` function is specifically used to process image data for the `train_model()` function. Additional `data augmentation` is performed by random crop resizing and flipping image horizontally in order to artificially inflate the underlying training set split. Upsizing the training set by random modification of image data is a common regularization technique. Reddit-Post images are modified, converted to a `PyTorch` tensor representation and finally normalized. "
   ]
  },
  {
   "cell_type": "code",
   "execution_count": 17,
   "metadata": {
    "id": "jkJZvcX0rzui"
   },
   "outputs": [],
   "source": [
    "# Transform function for image processing (training)\n",
    "# Performing data augmentation by random resizing, cropping\n",
    "# and flipping images in order to artificially create new\n",
    "# image data per training epoch\n",
    "train_transform = transforms.Compose([\n",
    "    transforms.RandomResizedCrop(224),\n",
    "    transforms.RandomHorizontalFlip(),\n",
    "    transforms.ToTensor(),\n",
    "    transforms.Normalize(\n",
    "        mean=[0.485, 0.456, 0.406],\n",
    "        std=[0.229, 0.224, 0.255]\n",
    "    )\n",
    "])"
   ]
  },
  {
   "cell_type": "markdown",
   "metadata": {},
   "source": [
    "Internal `collate_batch()` function implements the processing / sample preparation logic to convert all information into a readable format for the neural network model. Per batch a total of *16* samples are fetched, whereas the images are processed and attributes post_id, image tensor, and *6*-way-label are stacked within a single batch dictionary. One batch holds above mentioned information for *16* fetched samples. `batch_size` of *16* was chosen in alignment with previously used `DistilBert` configuration. **Attention:** Because the input image data is differently processed depending on training or validation and test run, two separate `collate_batch` function are implemented. `collate_batch()` function is used by `PyTorch DataLoader` to process training data split, and `collate_batch_val_test()` function is used to process validation and test data split."
   ]
  },
  {
   "cell_type": "code",
   "execution_count": 18,
   "metadata": {
    "id": "v-maM6inr2zX"
   },
   "outputs": [],
   "source": [
    "def collate_batch(batch):\n",
    "    \n",
    "    # List to save processed batch samples\n",
    "    batch_processed = []\n",
    "    \n",
    "    # Iteration over input batch of size 16\n",
    "    for i in range(len(batch)):\n",
    "        \n",
    "        # Saving attributes in local variables\n",
    "        post_id = batch[i][\"post_id\"]\n",
    "        title = batch[i][\"clean_title\"]\n",
    "        label = batch[i][\"label\"]\n",
    "        \n",
    "        # Leveraging DistilBertTokenizer to generate\n",
    "        # encoding of input text sequence\n",
    "        encoding = title_tokenizer.encode_plus(\n",
    "            title,\n",
    "            max_length=80,\n",
    "            padding=\"max_length\",\n",
    "            truncation=True,\n",
    "            add_special_tokens=True,\n",
    "            return_token_type_ids=False,\n",
    "            return_attention_mask=True,\n",
    "            return_tensors=\"pt\",\n",
    "        )\n",
    "\n",
    "        # Try-Except-Else clause to process image data\n",
    "        # Fetch images from image_set folder via post_id, transform and reshape tensor\n",
    "        try:\n",
    "            image = Image.open(f\"/home/ubuntu/FakeNewsDetector/dataset/image_set/{post_id}.jpg\")\n",
    "        # Handling FileNotFoundError and randomly initializing pixels\n",
    "        except FileNotFoundError:\n",
    "            image = torch.rand(3, 224, 224)\n",
    "            image = torch.unsqueeze(image, 0)\n",
    "        # Handling UnidentifiedImageError and randomly initializing pixels\n",
    "        except UnidentifiedImageError:\n",
    "            image = torch.rand(3, 224, 224)\n",
    "            image = torch.unsqueeze(image, 0)\n",
    "        # Handling OSError and randomly initializing pixels\n",
    "        except OSError:\n",
    "            image = torch.rand(3, 224, 224)\n",
    "            image = torch.unsqueeze(image, 0)\n",
    "        # Else: Convert image to RGB, process with train_transform\n",
    "        # and reshape to tensor of shape = [1, 3, 224, 224] for\n",
    "        # [sample_count, color_channels, height in pixel, width in pixel]\n",
    "        else:\n",
    "            image = image.convert(\"RGB\")\n",
    "            image = train_transform(image)\n",
    "            image = torch.unsqueeze(image, 0)\n",
    "        \n",
    "\n",
    "        # Storing processed attributes of sample in sample\n",
    "        # dictionary: post_id, title (text), input_ids,\n",
    "        # attention_mask, image and label\n",
    "        sample = {\n",
    "            \"post_id\": post_id,\n",
    "            \"title\": title,\n",
    "            \"input_ids\": encoding[\"input_ids\"].flatten(),\n",
    "            \"attention_mask\": encoding[\"attention_mask\"].flatten(),\n",
    "            \"image\": image.flatten(),\n",
    "            \"label\": torch.tensor(label, dtype=torch.long)\n",
    "        }\n",
    "        \n",
    "        # Append current samples dictionary to processed\n",
    "        # batch list --> List of sample dictionaries\n",
    "        batch_processed.append(sample)\n",
    "        \n",
    "    # Complex operation in order to unpack list of dictionaries and\n",
    "    # merge dictionary entries into correct PyTorch tensor for forward processing\n",
    "    postId = []\n",
    "    titles = []\n",
    "    \n",
    "    # For-loop to stack sample dictionary keys into appropriate format\n",
    "    for i in range(len(batch_processed)):\n",
    "        # If first sample of batch, initialize attribute tensors and reshape\n",
    "        if i == 0:\n",
    "            postId.append(batch_processed[i][\"post_id\"])\n",
    "            titles.append(batch_processed[i][\"title\"])\n",
    "            input_ids_tensor = batch_processed[i][\"input_ids\"].reshape(-1, 80)\n",
    "            attention_mask_tensor = batch_processed[i][\"attention_mask\"].reshape(-1, 80)\n",
    "            image_tensor = batch_processed[i][\"image\"].reshape(-1, 3, 224, 224)\n",
    "            label_tensor = batch_processed[i][\"label\"].reshape(-1,)\n",
    "            continue\n",
    "\n",
    "        # Stack attributes of sample dictionary keys to generate correct tensor shape\n",
    "        postId.append(batch_processed[i][\"post_id\"])\n",
    "        titles.append(batch_processed[i][\"title\"])\n",
    "        input_ids_tensor = torch.cat((input_ids_tensor, batch_processed[i][\"input_ids\"].reshape(-1, 80)))\n",
    "        attention_mask_tensor = torch.cat((attention_mask_tensor, batch_processed[i][\"attention_mask\"].reshape(-1, 80)))\n",
    "        image_tensor = torch.cat((image_tensor, batch_processed[i][\"image\"].reshape(-1, 3, 224, 224)))\n",
    "        label_tensor = torch.cat((label_tensor, batch_processed[i][\"label\"].reshape(-1,)))\n",
    "    \n",
    "    # Returning batch list of sample dictionaries containing 16 processed samples\n",
    "    return {\n",
    "        \"post_id\": postId,\n",
    "        \"title\": titles,\n",
    "        \"input_ids\": input_ids_tensor,\n",
    "        \"attention_mask\": attention_mask_tensor,\n",
    "        \"image\": image_tensor,\n",
    "        \"label\": label_tensor\n",
    "    }"
   ]
  },
  {
   "cell_type": "markdown",
   "metadata": {},
   "source": [
    "`create_data_loader` function initializes `Dataset` and `DataLoader` in connection with training dataset. `collate_batch()` function is given in `collate_fn` keyword. `batch_size` is set to 16 and `DataLoader` fetching operation is paralellized between 2 workers, e.g. threads.\n",
    "\n",
    "- `params:`df (for Fakeddit source dataframe)\n",
    "- `params:`tokenizer (for DistilBertTokenizer)\n",
    "- `params:`max_len (of 80 tokens per input sequence)\n",
    "- `params:`batch_size (of 16 samples per batch)\n",
    "- `returns:`DataLoader object (iterable)"
   ]
  },
  {
   "cell_type": "code",
   "execution_count": 19,
   "metadata": {
    "id": "juzASbERsRUu"
   },
   "outputs": [],
   "source": [
    "def create_data_loader(df, title_tokenizer, max_len, batch_size):\n",
    "    \n",
    "    # Initialization of PostDataset and assignment\n",
    "    # to dataset variable\n",
    "    dataset = PostDataset(\n",
    "                post_id = df[\"id\"].to_numpy(),\n",
    "                title = df[\"clean_title\"].to_numpy(),\n",
    "                label = df[\"6_way_label\"].to_numpy(),\n",
    "                title_tokenizer = title_tokenizer,\n",
    "                max_len = max_len\n",
    "              )\n",
    "    \n",
    "    # Forwarding dataset variable, batch_size and collate_batch function\n",
    "    # to PyTorch DataLoader module. Returns Iterable DataLoader object\n",
    "    return DataLoader(dataset, batch_size=batch_size, collate_fn=collate_batch, num_workers=2, pin_memory=True, prefetch_factor=2)"
   ]
  },
  {
   "cell_type": "markdown",
   "metadata": {},
   "source": [
    "`val_test_transform()` function is specifically used to process image data for the `evaluate_model()` function. **NO** additional `data augmentation` is applied to image data, because for validation and testing artifical inflation for dataset splits is not needed. Hence, simple resizing and center cropping is performed, befoe converting images to a `PyTorch` tensor representation and finally normalizing them."
   ]
  },
  {
   "cell_type": "code",
   "execution_count": 20,
   "metadata": {
    "id": "J_BaZqA8sR7d"
   },
   "outputs": [],
   "source": [
    "# Transform function for image processing (validation and testing)\n",
    "# No data augmentation in validation and test data splits in order to\n",
    "# define constant validation and testing process\n",
    "val_test_transform = transforms.Compose([\n",
    "    transforms.Resize(256),\n",
    "    transforms.CenterCrop(224),\n",
    "    transforms.ToTensor(),\n",
    "    transforms.Normalize(\n",
    "        mean=[0.485, 0.456, 0.406],\n",
    "        std=[0.229, 0.224, 0.255]\n",
    "    )\n",
    "])"
   ]
  },
  {
   "cell_type": "markdown",
   "metadata": {},
   "source": [
    "Internal `collate_batch_val_test()` function implements the processing / sample preparation logic to convert all information into a readable format for the neural network model. Per batch a total of *16* samples are fetched, whereas the images are processed and attributes post_id, image tensor, and *6*-way-label are stacked within a single batch dictionary. One batch holds above mentioned information for *16* fetched samples. `batch_size` of *16* was chosen in alignment with previously used `DistilBert` configuration. **Attention:** Because the input image data is differently processed depending on training or validation and test run, two separate `collate_batch` function are implemented. `collate_batch()` function is used by `PyTorch DataLoader` to process training data split, and `colatte_batch_val_test()` function is used to process validation and test data split."
   ]
  },
  {
   "cell_type": "code",
   "execution_count": 21,
   "metadata": {
    "id": "ZFwMNqYZsUnR"
   },
   "outputs": [],
   "source": [
    "def collate_batch_val_test(batch):\n",
    "    \n",
    "    # List to save processed batch samples\n",
    "    batch_processed = []\n",
    "    \n",
    "    # Iteration over input batch\n",
    "    for i in range(len(batch)):\n",
    "        \n",
    "        # Iteration over input batch of size 16\n",
    "        post_id = batch[i][\"post_id\"]\n",
    "        title = batch[i][\"clean_title\"]\n",
    "        label = batch[i][\"label\"]\n",
    "        \n",
    "        # Leveraging DistilBertTokenizer to generate\n",
    "        # encoding of input text sequence\n",
    "        encoding = title_tokenizer.encode_plus(\n",
    "            title,\n",
    "            max_length=80,\n",
    "            padding=\"max_length\",\n",
    "            truncation=True,\n",
    "            add_special_tokens=True,\n",
    "            return_token_type_ids=False,\n",
    "            return_attention_mask=True,\n",
    "            return_tensors=\"pt\",\n",
    "        )\n",
    "\n",
    "        # Try-Except-Else clause to process image data\n",
    "        # Fetch images from image_set folder via post_id, transform and reshape tensor\n",
    "        try:\n",
    "            image = Image.open(f\"/home/ubuntu/FakeNewsDetector/dataset/image_set/{post_id}.jpg\")\n",
    "        # Handling FileNotFoundError and randomly initializing pixels\n",
    "        except FileNotFoundError:\n",
    "            image = torch.rand(3, 224, 224)\n",
    "            image = torch.unsqueeze(image, 0)\n",
    "        # Handling UnidentifiedImageError and randomly initializing pixels\n",
    "        except UnidentifiedImageError:\n",
    "            image = torch.rand(3, 224, 224)\n",
    "            image = torch.unsqueeze(image, 0)\n",
    "        # Handling OSError and randomly initializing pixels\n",
    "        except OSError:\n",
    "            image = torch.rand(3, 224, 224)\n",
    "            image = torch.unsqueeze(image, 0)\n",
    "        # Else: Convert image to RGB, process with train_transform\n",
    "        # and reshape to tensor of shape = [1, 3, 224, 224] for\n",
    "        # [sample_count, color_channels, height in pixel, width in pixel]\n",
    "        else:\n",
    "            image = image.convert(\"RGB\")\n",
    "            image = train_transform(image)\n",
    "            image = torch.unsqueeze(image, 0)\n",
    "        \n",
    "\n",
    "        # Storing processed attributes of sample in sample\n",
    "        # dictionary: post_id, title (text), input_ids,\n",
    "        # attention_mask, image and label\n",
    "        sample = {\n",
    "            \"post_id\": post_id,\n",
    "            \"title\": title,\n",
    "            \"input_ids\": encoding[\"input_ids\"].flatten(),\n",
    "            \"attention_mask\": encoding[\"attention_mask\"].flatten(),\n",
    "            \"image\": image.flatten(),\n",
    "            \"label\": torch.tensor(label, dtype=torch.long)\n",
    "        }\n",
    "        \n",
    "        # Append current samples dictionary to processed\n",
    "        # batch list --> List of sample dictionaries\n",
    "        batch_processed.append(sample)\n",
    "        \n",
    "    # Complex operation in order to unpack list of dictionaries and\n",
    "    # merge dictionary entries into correct PyTorch tensor for forward processing\n",
    "    postId = []\n",
    "    titles = []\n",
    "    \n",
    "    # For-loop to stack sample dictionary keys into appropriate format\n",
    "    for i in range(len(batch_processed)):\n",
    "        if i == 0:\n",
    "            # If first sample of batch, initialize attribute tensors and reshape\n",
    "            postId.append(batch_processed[i][\"post_id\"])\n",
    "            titles.append(batch_processed[i][\"title\"])\n",
    "            input_ids_tensor = batch_processed[i][\"input_ids\"].reshape(-1, 80)\n",
    "            attention_mask_tensor = batch_processed[i][\"attention_mask\"].reshape(-1, 80)\n",
    "            image_tensor = batch_processed[i][\"image\"].reshape(-1, 3, 224, 224)\n",
    "            label_tensor = batch_processed[i][\"label\"].reshape(-1,)\n",
    "            continue\n",
    "\n",
    "        # Stack attributes of sample dictionary keys to generate correct tensor shape\n",
    "        postId.append(batch_processed[i][\"post_id\"])\n",
    "        titles.append(batch_processed[i][\"title\"])\n",
    "        input_ids_tensor = torch.cat((input_ids_tensor, batch_processed[i][\"input_ids\"].reshape(-1, 80)))\n",
    "        attention_mask_tensor = torch.cat((attention_mask_tensor, batch_processed[i][\"attention_mask\"].reshape(-1, 80)))\n",
    "        image_tensor = torch.cat((image_tensor, batch_processed[i][\"image\"].reshape(-1, 3, 224, 224)))\n",
    "        label_tensor = torch.cat((label_tensor, batch_processed[i][\"label\"].reshape(-1,)))\n",
    "    \n",
    "    # Returning batch list of sample dictionaries containing 16 processed samples\n",
    "    return {\n",
    "        \"post_id\": postId,\n",
    "        \"title\": titles,\n",
    "        \"input_ids\": input_ids_tensor,\n",
    "        \"attention_mask\": attention_mask_tensor,\n",
    "        \"image\": image_tensor,\n",
    "        \"label\": label_tensor\n",
    "    }"
   ]
  },
  {
   "cell_type": "markdown",
   "metadata": {},
   "source": [
    "`val_test_create_data_loader` function initializes `Dataset` and `DataLoader` in connection with validation and test dataset. `collate_batch_val_test()` function is given in `collate_fn` keyword. `batch_size` is set to *16* and `DataLoader` fetching operation is parallelized between *2* workers, e.g. threads.\n",
    "\n",
    "- `params:`df (for Fakeddit source dataframe)\n",
    "- `params:`tokenizer (for DistilBertTokenizer)\n",
    "- `params:`max_len (of 80 tokens per input sequence)\n",
    "- `params:`batch_size (of 16 samples per batch)\n",
    "- `returns:`DataLoader object (iterable)"
   ]
  },
  {
   "cell_type": "code",
   "execution_count": 22,
   "metadata": {
    "id": "2okPzN4Ism-I"
   },
   "outputs": [],
   "source": [
    "def val_test_create_data_loader(df, title_tokenizer, max_len, batch_size):\n",
    "    \n",
    "    # Initialization of PostTitleDataset and assignment\n",
    "    # to dataset variable\n",
    "    dataset = PostDataset(\n",
    "                post_id = df[\"id\"].to_numpy(),\n",
    "                title = df[\"clean_title\"].to_numpy(),\n",
    "                label = df[\"6_way_label\"].to_numpy(),\n",
    "                title_tokenizer = title_tokenizer,\n",
    "                max_len = max_len\n",
    "              )\n",
    "    \n",
    "    # Forwarding dataset variable, batch_size and collate function\n",
    "    # to Pytorch DataLoader module. DataLoader is returned, over which\n",
    "    # can be iterated\n",
    "    return DataLoader(dataset, batch_size=batch_size, collate_fn=collate_batch_val_test, num_workers=2, pin_memory=True, prefetch_factor=2)"
   ]
  },
  {
   "cell_type": "markdown",
   "metadata": {},
   "source": [
    "Initializing PyTorch `DataLoader` objects for training, validation and test splits respectively inlcuding constants for maximum sequence length `MAX_LEN=80` and `BATCH_SIZE=16`. `next(iter())` function fetches first batch of **16 samples** from processed batch."
   ]
  },
  {
   "cell_type": "code",
   "execution_count": 23,
   "metadata": {
    "id": "3hRMXkKdsnkA"
   },
   "outputs": [
    {
     "name": "stdout",
     "output_type": "stream",
     "text": [
      "CPU times: user 1.94 s, sys: 1.14 s, total: 3.08 s\n",
      "Wall time: 4.61 s\n"
     ]
    }
   ],
   "source": [
    "%%time\n",
    "# Defining batch size and maximum sequence length\n",
    "# MAX_LEN is defined based on plotting of token length dsitribution\n",
    "BATCH_SIZE = 16\n",
    "MAX_LEN = 80\n",
    "\n",
    "# Initializing Pytorch DataLoader for train, validate and test split dataframes\n",
    "train_data_loader = create_data_loader(df_train, title_tokenizer, MAX_LEN, BATCH_SIZE)\n",
    "validate_data_loader = val_test_create_data_loader(df_validate, title_tokenizer, MAX_LEN, BATCH_SIZE)\n",
    "test_data_loader = val_test_create_data_loader(df_test, title_tokenizer, MAX_LEN, BATCH_SIZE)\n",
    "\n",
    "# Retrieving first batch from dataloaders via next() and iter() functions\n",
    "train_data = next(iter(train_data_loader))\n",
    "validate_data = next(iter(validate_data_loader))\n",
    "test_data = next(iter(test_data_loader))"
   ]
  },
  {
   "cell_type": "code",
   "execution_count": 24,
   "metadata": {
    "id": "J3AGY7dJsu6k"
   },
   "outputs": [
    {
     "name": "stdout",
     "output_type": "stream",
     "text": [
      "['clf57rq', 'cdh98k5', 'dhd436', 'dbq6ao', 'cenr9qc', 'cqy6qb', 'besgfy', 'c3s4wr', 'cjpkaj7', '8lb66e', '78hxwb', '5qd6um', 'ddmp2m', '1mwwev', '8a1bdb', '6he8t3']\n",
      "\n",
      "['she sees dead people', 'yeah i know im awesome', 'this blanket and how it looks close up', 'paper snowflakes cut into star wars shapes', 'other discussions', 'rochester airport security worker fired after passing mean note to traveler', 'the cleaning crews use a magnetic strip on the front of the vacuums in an office building', 'the way this c coin fits perfectly in my nail scissors', 'who can resist on the first snowfall of the year', 'us troops days before operation iceberg the invasion of okinawa late', 'lockheedmartin begins work on hardware design for nasas lunar orbiting deep space network could face telecommunications traffic jam on mars', 'elephant drinking out of a toilet', 'hitler gives speech at secret nazi hideout in antarctica colorised', 'happy baby with one tooth or screaming manta fish', 'ice agents feeling a little hurt that trump doesnt think theyre doing enough to terrorize hispanics', 'jumping lady with baby in pram']\n",
      "\n",
      "torch.Size([16, 80])\n",
      "torch.Size([16, 80])\n",
      "torch.Size([16, 3, 224, 224])\n",
      "torch.Size([16])\n"
     ]
    }
   ],
   "source": [
    "# Printing out PostIds and Post Title\n",
    "print(test_data[\"post_id\"])\n",
    "print()\n",
    "print(test_data[\"title\"])\n",
    "print()\n",
    "\n",
    "# Printing Pytorch Tensor shapes\n",
    "print(test_data[\"input_ids\"].shape)\n",
    "print(test_data[\"attention_mask\"].shape)\n",
    "print(test_data[\"image\"].shape)\n",
    "print(test_data[\"label\"].shape)"
   ]
  },
  {
   "cell_type": "code",
   "execution_count": 25,
   "metadata": {},
   "outputs": [
    {
     "name": "stdout",
     "output_type": "stream",
     "text": [
      "['bm9i6m', 'c5lexma', '8tely9', '2xd0ia', '3beg52', '6otbgh', '8ihmtn', 'as4j73', '9j4x1b', 'dt0tn9e', 'ckwf92c', 'czxq54', '6agmep', 'd3vqdpl', 'canovgz', '6si79v']\n",
      "\n",
      "['honda civic refusing to start engine in solidarity with striking uber workers', 'im going to hell for this', 'marine just after digging a trench before the battle of stalingrad', 'sunshine after the us eastern snowstorms makes this guy super happy', 'someone took their happy pills today', 'arrr ye think ye can with the jackpot', 'sturm ruger will track gun violence after shareholders back activist resolution', 'sick fuck strips children', 'this spider that got stuck on fly tape', 'best star wars game ever made', 'obligatory', 'new alternatehistory drama examines what would have happened if nazis won nba finals', 'utah establishments must choose between bar and restaurant signs', 'longing to be serenaded', 'i did not have sex with that trophy', 'leaked picture of the face behind the dril twitter account']\n",
      "\n",
      "torch.Size([16, 80])\n",
      "torch.Size([16, 80])\n",
      "torch.Size([16, 3, 224, 224])\n",
      "torch.Size([16])\n"
     ]
    }
   ],
   "source": [
    "# Printing out PostIds and Post Title\n",
    "print(train_data[\"post_id\"])\n",
    "print()\n",
    "print(train_data[\"title\"])\n",
    "print()\n",
    "\n",
    "# Printing Pytorch Tensor shapes\n",
    "print(train_data[\"input_ids\"].shape)\n",
    "print(train_data[\"attention_mask\"].shape)\n",
    "print(train_data[\"image\"].shape)\n",
    "print(train_data[\"label\"].shape)"
   ]
  },
  {
   "cell_type": "code",
   "execution_count": 26,
   "metadata": {},
   "outputs": [
    {
     "name": "stdout",
     "output_type": "stream",
     "text": [
      "['v5ih3', 'ctqsk4r', '657w26', '1fxs36', '6fyeqv', 'cfjgjgs', 'br9eft', 'cm5zuvb', '9js9ef', 'cumkd4o', '8cibxu', 'cbeugfv', '6df6up', 'cfaw9oa', '3g5e63', 'biuzae']\n",
      "\n",
      "['propagandaoriented oldsmobile ad featuring the snorting bull us life magazine', 'breaking news', 'danish airforce show their first mass produced fighter plane', 'good boy juicer good boy', 'maybe old and shabby but always happy to see me', 'dont drive drunk', 'brewed last year at vistas indian joe cheers for sarah raised for childhood cancer treatment', 'haka', 'jeff flake learns steve carell is leaving the office circa', 'agent poyo', 'ww soldier listening to orders', 'this is just terrifying', 'tiger mom gives birth yet nobody can believe what they find under her legs', 'other discussions', 'man caught having sex with his dog after accidentally phoning a friend during the act', 'this fuzzy little moth has been hanging around my porch in north texas']\n",
      "\n",
      "torch.Size([16, 80])\n",
      "torch.Size([16, 80])\n",
      "torch.Size([16, 3, 224, 224])\n",
      "torch.Size([16])\n"
     ]
    }
   ],
   "source": [
    "# Printing out PostIds and Post Title\n",
    "print(validate_data[\"post_id\"])\n",
    "print()\n",
    "print(validate_data[\"title\"])\n",
    "print()\n",
    "\n",
    "# Printing Pytorch Tensor shapes\n",
    "print(validate_data[\"input_ids\"].shape)\n",
    "print(validate_data[\"attention_mask\"].shape)\n",
    "print(validate_data[\"image\"].shape)\n",
    "print(validate_data[\"label\"].shape)"
   ]
  },
  {
   "cell_type": "markdown",
   "metadata": {},
   "source": [
    "# Title-Image DistilFND model definition"
   ]
  },
  {
   "cell_type": "markdown",
   "metadata": {},
   "source": [
    "`FakeNewsDetector` class processes post title and image data with `DistilBert` and `ResNet34` base model for `title_module`and `image_module` respectively, and is derived of `nn.Module` model super class from `torch.nn module`. `Image DistilFND` takes processed images per Reddit-Post and classifies Reddit-Posts into one of *6* defined classes via `Softmax` activation function."
   ]
  },
  {
   "cell_type": "code",
   "execution_count": 66,
   "metadata": {
    "id": "wD7oqQVxs5uR"
   },
   "outputs": [
    {
     "name": "stderr",
     "output_type": "stream",
     "text": [
      "Some weights of the model checkpoint at distilbert-base-uncased were not used when initializing DistilBertModel: ['vocab_transform.bias', 'vocab_transform.weight', 'vocab_projector.weight', 'vocab_layer_norm.weight', 'vocab_layer_norm.bias', 'vocab_projector.bias']\n",
      "- This IS expected if you are initializing DistilBertModel from the checkpoint of a model trained on another task or with another architecture (e.g. initializing a BertForSequenceClassification model from a BertForPreTraining model).\n",
      "- This IS NOT expected if you are initializing DistilBertModel from the checkpoint of a model that you expect to be exactly identical (initializing a BertForSequenceClassification model from a BertForSequenceClassification model).\n"
     ]
    }
   ],
   "source": [
    "class FakeNewsDetector(nn.Module):\n",
    "    \n",
    "    def __init__(self, num_classes):\n",
    "        super(FakeNewsDetector, self).__init__()\n",
    "        # Loading DistilBertModel with pre-trained model weights from English lower case text corpus\n",
    "        # and assigning to title_module (Title-Feature Extractor)\n",
    "        self.title_module = DistilBertModel.from_pretrained(\"distilbert-base-uncased\")\n",
    "        \n",
    "        # Loading ResNet34 model with pre-trained model weights from ImageNet 2012 Benchmark dataset\n",
    "        # and assigning to image_module (Image-Feature Extractor)\n",
    "        self.image_module = models.resnet34(pretrained=\"imagenet\")\n",
    "        \n",
    "        # Dropout layer to randomly nullify 30% of elements of output tensors --> Useful only in model training\n",
    "        # Layer is still needed for loading model\n",
    "        self.drop = nn.Dropout(p=0.3)\n",
    "\n",
    "        # Fully connected layers (Linear layer) to reshape dimensionality of output tensors ([batch_size, num_classes])\n",
    "        # Reshaping title feature tensor (768,) --> (1, 6)\n",
    "        self.fc_title = nn.Linear(in_features=self.title_module.config.hidden_size, out_features=num_classes, bias=True)\n",
    "        # Reshaping image feature tensor (1, 1000) --> (1, 6)\n",
    "        self.fc_image = nn.Linear(in_features=1000, out_features=num_classes, bias=True)\n",
    "\n",
    "        # Final model prediction via Softmax activation function\n",
    "        self.softmax = nn.Softmax(dim=1)\n",
    "        \n",
    "    def forward(self, title_input_ids, title_attention_mask, image):\n",
    "        # Applying title_module onto post_title input_ids and attention_mask\n",
    "        # Returning title feature tensor of shape (768,)\n",
    "        title_last_hidden_states = self.title_module(\n",
    "            input_ids = title_input_ids,\n",
    "            attention_mask = title_attention_mask,\n",
    "            return_dict=False\n",
    "        )\n",
    "        # List Slicing operation applied to output of last hidden layer of DistilBert model in order to\n",
    "        # only return tensor representation of aggregated classification output ([CLS] token)\n",
    "        # and assign to pooled output variable\n",
    "        title_pooled_output = title_last_hidden_states[0][:, 0, :]\n",
    "        # Random element nullification of pooled output tensor\n",
    "        # Layer is still needed for loading model\n",
    "        title_pooled_output = self.drop(title_pooled_output)\n",
    "        \n",
    "        # Condense model outputs via fully connected layer to match hidden units of 224\n",
    "        # Output is tensor of shape (16, 6)\n",
    "        title_output = self.fc_title(title_pooled_output)\n",
    "        # image_condensed = self.fc_image(image_output)\n",
    "\n",
    "        # Output from ResNet34 in shape = (16, 1000) for 1000 classes in correspondence ot ImageNet dataset\n",
    "        image_output = self.image_module(image)\n",
    "        # Random element nullification of image output tensor\n",
    "        # Layer is still needed for loading model\n",
    "        image_output = self.drop(image_output)\n",
    "        \n",
    "        # Linear layers per title, image and comment tensor output to convert into aligned dimensionality\n",
    "        # Takes as input the respected title, image and comment tensors and reshapes to shape = (1, 6)\n",
    "        # for [one sample, 6 defined classes]\n",
    "        image_output = self.fc_image(image_output)\n",
    "\n",
    "        # Fusion of textual and visual feature tensors to multi-modal feature tensor\n",
    "        # of shape (16, 6) by leveraging element-wise maximum method\n",
    "        fusion = torch.maximum(title_output, image_output)\n",
    "        \n",
    "        # Applying Softmax activation function on complete feature vector\n",
    "        # to return class-specific probability distribution\n",
    "        return self.softmax(fusion)\n",
    "\n",
    "# Initializing Title-Image DistilFND and asigning to fn_detector variable\n",
    "fn_detector = FakeNewsDetector(len(CLASS_NAMES))\n",
    "# Moving model to device resource\n",
    "fn_detector = fn_detector.to(device)"
   ]
  },
  {
   "cell_type": "code",
   "execution_count": 67,
   "metadata": {},
   "outputs": [
    {
     "name": "stdout",
     "output_type": "stream",
     "text": [
      "FakeNewsDetector(\n",
      "  (title_module): DistilBertModel(\n",
      "    (embeddings): Embeddings(\n",
      "      (word_embeddings): Embedding(30522, 768, padding_idx=0)\n",
      "      (position_embeddings): Embedding(512, 768)\n",
      "      (LayerNorm): LayerNorm((768,), eps=1e-12, elementwise_affine=True)\n",
      "      (dropout): Dropout(p=0.1, inplace=False)\n",
      "    )\n",
      "    (transformer): Transformer(\n",
      "      (layer): ModuleList(\n",
      "        (0): TransformerBlock(\n",
      "          (attention): MultiHeadSelfAttention(\n",
      "            (dropout): Dropout(p=0.1, inplace=False)\n",
      "            (q_lin): Linear(in_features=768, out_features=768, bias=True)\n",
      "            (k_lin): Linear(in_features=768, out_features=768, bias=True)\n",
      "            (v_lin): Linear(in_features=768, out_features=768, bias=True)\n",
      "            (out_lin): Linear(in_features=768, out_features=768, bias=True)\n",
      "          )\n",
      "          (sa_layer_norm): LayerNorm((768,), eps=1e-12, elementwise_affine=True)\n",
      "          (ffn): FFN(\n",
      "            (dropout): Dropout(p=0.1, inplace=False)\n",
      "            (lin1): Linear(in_features=768, out_features=3072, bias=True)\n",
      "            (lin2): Linear(in_features=3072, out_features=768, bias=True)\n",
      "          )\n",
      "          (output_layer_norm): LayerNorm((768,), eps=1e-12, elementwise_affine=True)\n",
      "        )\n",
      "        (1): TransformerBlock(\n",
      "          (attention): MultiHeadSelfAttention(\n",
      "            (dropout): Dropout(p=0.1, inplace=False)\n",
      "            (q_lin): Linear(in_features=768, out_features=768, bias=True)\n",
      "            (k_lin): Linear(in_features=768, out_features=768, bias=True)\n",
      "            (v_lin): Linear(in_features=768, out_features=768, bias=True)\n",
      "            (out_lin): Linear(in_features=768, out_features=768, bias=True)\n",
      "          )\n",
      "          (sa_layer_norm): LayerNorm((768,), eps=1e-12, elementwise_affine=True)\n",
      "          (ffn): FFN(\n",
      "            (dropout): Dropout(p=0.1, inplace=False)\n",
      "            (lin1): Linear(in_features=768, out_features=3072, bias=True)\n",
      "            (lin2): Linear(in_features=3072, out_features=768, bias=True)\n",
      "          )\n",
      "          (output_layer_norm): LayerNorm((768,), eps=1e-12, elementwise_affine=True)\n",
      "        )\n",
      "        (2): TransformerBlock(\n",
      "          (attention): MultiHeadSelfAttention(\n",
      "            (dropout): Dropout(p=0.1, inplace=False)\n",
      "            (q_lin): Linear(in_features=768, out_features=768, bias=True)\n",
      "            (k_lin): Linear(in_features=768, out_features=768, bias=True)\n",
      "            (v_lin): Linear(in_features=768, out_features=768, bias=True)\n",
      "            (out_lin): Linear(in_features=768, out_features=768, bias=True)\n",
      "          )\n",
      "          (sa_layer_norm): LayerNorm((768,), eps=1e-12, elementwise_affine=True)\n",
      "          (ffn): FFN(\n",
      "            (dropout): Dropout(p=0.1, inplace=False)\n",
      "            (lin1): Linear(in_features=768, out_features=3072, bias=True)\n",
      "            (lin2): Linear(in_features=3072, out_features=768, bias=True)\n",
      "          )\n",
      "          (output_layer_norm): LayerNorm((768,), eps=1e-12, elementwise_affine=True)\n",
      "        )\n",
      "        (3): TransformerBlock(\n",
      "          (attention): MultiHeadSelfAttention(\n",
      "            (dropout): Dropout(p=0.1, inplace=False)\n",
      "            (q_lin): Linear(in_features=768, out_features=768, bias=True)\n",
      "            (k_lin): Linear(in_features=768, out_features=768, bias=True)\n",
      "            (v_lin): Linear(in_features=768, out_features=768, bias=True)\n",
      "            (out_lin): Linear(in_features=768, out_features=768, bias=True)\n",
      "          )\n",
      "          (sa_layer_norm): LayerNorm((768,), eps=1e-12, elementwise_affine=True)\n",
      "          (ffn): FFN(\n",
      "            (dropout): Dropout(p=0.1, inplace=False)\n",
      "            (lin1): Linear(in_features=768, out_features=3072, bias=True)\n",
      "            (lin2): Linear(in_features=3072, out_features=768, bias=True)\n",
      "          )\n",
      "          (output_layer_norm): LayerNorm((768,), eps=1e-12, elementwise_affine=True)\n",
      "        )\n",
      "        (4): TransformerBlock(\n",
      "          (attention): MultiHeadSelfAttention(\n",
      "            (dropout): Dropout(p=0.1, inplace=False)\n",
      "            (q_lin): Linear(in_features=768, out_features=768, bias=True)\n",
      "            (k_lin): Linear(in_features=768, out_features=768, bias=True)\n",
      "            (v_lin): Linear(in_features=768, out_features=768, bias=True)\n",
      "            (out_lin): Linear(in_features=768, out_features=768, bias=True)\n",
      "          )\n",
      "          (sa_layer_norm): LayerNorm((768,), eps=1e-12, elementwise_affine=True)\n",
      "          (ffn): FFN(\n",
      "            (dropout): Dropout(p=0.1, inplace=False)\n",
      "            (lin1): Linear(in_features=768, out_features=3072, bias=True)\n",
      "            (lin2): Linear(in_features=3072, out_features=768, bias=True)\n",
      "          )\n",
      "          (output_layer_norm): LayerNorm((768,), eps=1e-12, elementwise_affine=True)\n",
      "        )\n",
      "        (5): TransformerBlock(\n",
      "          (attention): MultiHeadSelfAttention(\n",
      "            (dropout): Dropout(p=0.1, inplace=False)\n",
      "            (q_lin): Linear(in_features=768, out_features=768, bias=True)\n",
      "            (k_lin): Linear(in_features=768, out_features=768, bias=True)\n",
      "            (v_lin): Linear(in_features=768, out_features=768, bias=True)\n",
      "            (out_lin): Linear(in_features=768, out_features=768, bias=True)\n",
      "          )\n",
      "          (sa_layer_norm): LayerNorm((768,), eps=1e-12, elementwise_affine=True)\n",
      "          (ffn): FFN(\n",
      "            (dropout): Dropout(p=0.1, inplace=False)\n",
      "            (lin1): Linear(in_features=768, out_features=3072, bias=True)\n",
      "            (lin2): Linear(in_features=3072, out_features=768, bias=True)\n",
      "          )\n",
      "          (output_layer_norm): LayerNorm((768,), eps=1e-12, elementwise_affine=True)\n",
      "        )\n",
      "      )\n",
      "    )\n",
      "  )\n",
      "  (image_module): ResNet(\n",
      "    (conv1): Conv2d(3, 64, kernel_size=(7, 7), stride=(2, 2), padding=(3, 3), bias=False)\n",
      "    (bn1): BatchNorm2d(64, eps=1e-05, momentum=0.1, affine=True, track_running_stats=True)\n",
      "    (relu): ReLU(inplace=True)\n",
      "    (maxpool): MaxPool2d(kernel_size=3, stride=2, padding=1, dilation=1, ceil_mode=False)\n",
      "    (layer1): Sequential(\n",
      "      (0): BasicBlock(\n",
      "        (conv1): Conv2d(64, 64, kernel_size=(3, 3), stride=(1, 1), padding=(1, 1), bias=False)\n",
      "        (bn1): BatchNorm2d(64, eps=1e-05, momentum=0.1, affine=True, track_running_stats=True)\n",
      "        (relu): ReLU(inplace=True)\n",
      "        (conv2): Conv2d(64, 64, kernel_size=(3, 3), stride=(1, 1), padding=(1, 1), bias=False)\n",
      "        (bn2): BatchNorm2d(64, eps=1e-05, momentum=0.1, affine=True, track_running_stats=True)\n",
      "      )\n",
      "      (1): BasicBlock(\n",
      "        (conv1): Conv2d(64, 64, kernel_size=(3, 3), stride=(1, 1), padding=(1, 1), bias=False)\n",
      "        (bn1): BatchNorm2d(64, eps=1e-05, momentum=0.1, affine=True, track_running_stats=True)\n",
      "        (relu): ReLU(inplace=True)\n",
      "        (conv2): Conv2d(64, 64, kernel_size=(3, 3), stride=(1, 1), padding=(1, 1), bias=False)\n",
      "        (bn2): BatchNorm2d(64, eps=1e-05, momentum=0.1, affine=True, track_running_stats=True)\n",
      "      )\n",
      "      (2): BasicBlock(\n",
      "        (conv1): Conv2d(64, 64, kernel_size=(3, 3), stride=(1, 1), padding=(1, 1), bias=False)\n",
      "        (bn1): BatchNorm2d(64, eps=1e-05, momentum=0.1, affine=True, track_running_stats=True)\n",
      "        (relu): ReLU(inplace=True)\n",
      "        (conv2): Conv2d(64, 64, kernel_size=(3, 3), stride=(1, 1), padding=(1, 1), bias=False)\n",
      "        (bn2): BatchNorm2d(64, eps=1e-05, momentum=0.1, affine=True, track_running_stats=True)\n",
      "      )\n",
      "    )\n",
      "    (layer2): Sequential(\n",
      "      (0): BasicBlock(\n",
      "        (conv1): Conv2d(64, 128, kernel_size=(3, 3), stride=(2, 2), padding=(1, 1), bias=False)\n",
      "        (bn1): BatchNorm2d(128, eps=1e-05, momentum=0.1, affine=True, track_running_stats=True)\n",
      "        (relu): ReLU(inplace=True)\n",
      "        (conv2): Conv2d(128, 128, kernel_size=(3, 3), stride=(1, 1), padding=(1, 1), bias=False)\n",
      "        (bn2): BatchNorm2d(128, eps=1e-05, momentum=0.1, affine=True, track_running_stats=True)\n",
      "        (downsample): Sequential(\n",
      "          (0): Conv2d(64, 128, kernel_size=(1, 1), stride=(2, 2), bias=False)\n",
      "          (1): BatchNorm2d(128, eps=1e-05, momentum=0.1, affine=True, track_running_stats=True)\n",
      "        )\n",
      "      )\n",
      "      (1): BasicBlock(\n",
      "        (conv1): Conv2d(128, 128, kernel_size=(3, 3), stride=(1, 1), padding=(1, 1), bias=False)\n",
      "        (bn1): BatchNorm2d(128, eps=1e-05, momentum=0.1, affine=True, track_running_stats=True)\n",
      "        (relu): ReLU(inplace=True)\n",
      "        (conv2): Conv2d(128, 128, kernel_size=(3, 3), stride=(1, 1), padding=(1, 1), bias=False)\n",
      "        (bn2): BatchNorm2d(128, eps=1e-05, momentum=0.1, affine=True, track_running_stats=True)\n",
      "      )\n",
      "      (2): BasicBlock(\n",
      "        (conv1): Conv2d(128, 128, kernel_size=(3, 3), stride=(1, 1), padding=(1, 1), bias=False)\n",
      "        (bn1): BatchNorm2d(128, eps=1e-05, momentum=0.1, affine=True, track_running_stats=True)\n",
      "        (relu): ReLU(inplace=True)\n",
      "        (conv2): Conv2d(128, 128, kernel_size=(3, 3), stride=(1, 1), padding=(1, 1), bias=False)\n",
      "        (bn2): BatchNorm2d(128, eps=1e-05, momentum=0.1, affine=True, track_running_stats=True)\n",
      "      )\n",
      "      (3): BasicBlock(\n",
      "        (conv1): Conv2d(128, 128, kernel_size=(3, 3), stride=(1, 1), padding=(1, 1), bias=False)\n",
      "        (bn1): BatchNorm2d(128, eps=1e-05, momentum=0.1, affine=True, track_running_stats=True)\n",
      "        (relu): ReLU(inplace=True)\n",
      "        (conv2): Conv2d(128, 128, kernel_size=(3, 3), stride=(1, 1), padding=(1, 1), bias=False)\n",
      "        (bn2): BatchNorm2d(128, eps=1e-05, momentum=0.1, affine=True, track_running_stats=True)\n",
      "      )\n",
      "    )\n",
      "    (layer3): Sequential(\n",
      "      (0): BasicBlock(\n",
      "        (conv1): Conv2d(128, 256, kernel_size=(3, 3), stride=(2, 2), padding=(1, 1), bias=False)\n",
      "        (bn1): BatchNorm2d(256, eps=1e-05, momentum=0.1, affine=True, track_running_stats=True)\n",
      "        (relu): ReLU(inplace=True)\n",
      "        (conv2): Conv2d(256, 256, kernel_size=(3, 3), stride=(1, 1), padding=(1, 1), bias=False)\n",
      "        (bn2): BatchNorm2d(256, eps=1e-05, momentum=0.1, affine=True, track_running_stats=True)\n",
      "        (downsample): Sequential(\n",
      "          (0): Conv2d(128, 256, kernel_size=(1, 1), stride=(2, 2), bias=False)\n",
      "          (1): BatchNorm2d(256, eps=1e-05, momentum=0.1, affine=True, track_running_stats=True)\n",
      "        )\n",
      "      )\n",
      "      (1): BasicBlock(\n",
      "        (conv1): Conv2d(256, 256, kernel_size=(3, 3), stride=(1, 1), padding=(1, 1), bias=False)\n",
      "        (bn1): BatchNorm2d(256, eps=1e-05, momentum=0.1, affine=True, track_running_stats=True)\n",
      "        (relu): ReLU(inplace=True)\n",
      "        (conv2): Conv2d(256, 256, kernel_size=(3, 3), stride=(1, 1), padding=(1, 1), bias=False)\n",
      "        (bn2): BatchNorm2d(256, eps=1e-05, momentum=0.1, affine=True, track_running_stats=True)\n",
      "      )\n",
      "      (2): BasicBlock(\n",
      "        (conv1): Conv2d(256, 256, kernel_size=(3, 3), stride=(1, 1), padding=(1, 1), bias=False)\n",
      "        (bn1): BatchNorm2d(256, eps=1e-05, momentum=0.1, affine=True, track_running_stats=True)\n",
      "        (relu): ReLU(inplace=True)\n",
      "        (conv2): Conv2d(256, 256, kernel_size=(3, 3), stride=(1, 1), padding=(1, 1), bias=False)\n",
      "        (bn2): BatchNorm2d(256, eps=1e-05, momentum=0.1, affine=True, track_running_stats=True)\n",
      "      )\n",
      "      (3): BasicBlock(\n",
      "        (conv1): Conv2d(256, 256, kernel_size=(3, 3), stride=(1, 1), padding=(1, 1), bias=False)\n",
      "        (bn1): BatchNorm2d(256, eps=1e-05, momentum=0.1, affine=True, track_running_stats=True)\n",
      "        (relu): ReLU(inplace=True)\n",
      "        (conv2): Conv2d(256, 256, kernel_size=(3, 3), stride=(1, 1), padding=(1, 1), bias=False)\n",
      "        (bn2): BatchNorm2d(256, eps=1e-05, momentum=0.1, affine=True, track_running_stats=True)\n",
      "      )\n",
      "      (4): BasicBlock(\n",
      "        (conv1): Conv2d(256, 256, kernel_size=(3, 3), stride=(1, 1), padding=(1, 1), bias=False)\n",
      "        (bn1): BatchNorm2d(256, eps=1e-05, momentum=0.1, affine=True, track_running_stats=True)\n",
      "        (relu): ReLU(inplace=True)\n",
      "        (conv2): Conv2d(256, 256, kernel_size=(3, 3), stride=(1, 1), padding=(1, 1), bias=False)\n",
      "        (bn2): BatchNorm2d(256, eps=1e-05, momentum=0.1, affine=True, track_running_stats=True)\n",
      "      )\n",
      "      (5): BasicBlock(\n",
      "        (conv1): Conv2d(256, 256, kernel_size=(3, 3), stride=(1, 1), padding=(1, 1), bias=False)\n",
      "        (bn1): BatchNorm2d(256, eps=1e-05, momentum=0.1, affine=True, track_running_stats=True)\n",
      "        (relu): ReLU(inplace=True)\n",
      "        (conv2): Conv2d(256, 256, kernel_size=(3, 3), stride=(1, 1), padding=(1, 1), bias=False)\n",
      "        (bn2): BatchNorm2d(256, eps=1e-05, momentum=0.1, affine=True, track_running_stats=True)\n",
      "      )\n",
      "    )\n",
      "    (layer4): Sequential(\n",
      "      (0): BasicBlock(\n",
      "        (conv1): Conv2d(256, 512, kernel_size=(3, 3), stride=(2, 2), padding=(1, 1), bias=False)\n",
      "        (bn1): BatchNorm2d(512, eps=1e-05, momentum=0.1, affine=True, track_running_stats=True)\n",
      "        (relu): ReLU(inplace=True)\n",
      "        (conv2): Conv2d(512, 512, kernel_size=(3, 3), stride=(1, 1), padding=(1, 1), bias=False)\n",
      "        (bn2): BatchNorm2d(512, eps=1e-05, momentum=0.1, affine=True, track_running_stats=True)\n",
      "        (downsample): Sequential(\n",
      "          (0): Conv2d(256, 512, kernel_size=(1, 1), stride=(2, 2), bias=False)\n",
      "          (1): BatchNorm2d(512, eps=1e-05, momentum=0.1, affine=True, track_running_stats=True)\n",
      "        )\n",
      "      )\n",
      "      (1): BasicBlock(\n",
      "        (conv1): Conv2d(512, 512, kernel_size=(3, 3), stride=(1, 1), padding=(1, 1), bias=False)\n",
      "        (bn1): BatchNorm2d(512, eps=1e-05, momentum=0.1, affine=True, track_running_stats=True)\n",
      "        (relu): ReLU(inplace=True)\n",
      "        (conv2): Conv2d(512, 512, kernel_size=(3, 3), stride=(1, 1), padding=(1, 1), bias=False)\n",
      "        (bn2): BatchNorm2d(512, eps=1e-05, momentum=0.1, affine=True, track_running_stats=True)\n",
      "      )\n",
      "      (2): BasicBlock(\n",
      "        (conv1): Conv2d(512, 512, kernel_size=(3, 3), stride=(1, 1), padding=(1, 1), bias=False)\n",
      "        (bn1): BatchNorm2d(512, eps=1e-05, momentum=0.1, affine=True, track_running_stats=True)\n",
      "        (relu): ReLU(inplace=True)\n",
      "        (conv2): Conv2d(512, 512, kernel_size=(3, 3), stride=(1, 1), padding=(1, 1), bias=False)\n",
      "        (bn2): BatchNorm2d(512, eps=1e-05, momentum=0.1, affine=True, track_running_stats=True)\n",
      "      )\n",
      "    )\n",
      "    (avgpool): AdaptiveAvgPool2d(output_size=(1, 1))\n",
      "    (fc): Linear(in_features=512, out_features=1000, bias=True)\n",
      "  )\n",
      "  (drop): Dropout(p=0.3, inplace=False)\n",
      "  (fc_title): Linear(in_features=768, out_features=6, bias=True)\n",
      "  (fc_image): Linear(in_features=1000, out_features=6, bias=True)\n",
      "  (softmax): Softmax(dim=1)\n",
      ")\n"
     ]
    }
   ],
   "source": [
    "# Printing model architecture\n",
    "print(fn_detector)"
   ]
  },
  {
   "cell_type": "markdown",
   "metadata": {},
   "source": [
    "# Model training setup / configuration"
   ]
  },
  {
   "cell_type": "markdown",
   "metadata": {},
   "source": [
    "Hyperparameter configuration in preparation for training procedure on `Fakeddit`benchmark dataset.\n",
    "- `LearningRate Scheduler (LRScheduler)`: Reduces learning rate by factor `LR_FACTOR` with patience `LR_PATIENCE` if validation error `val_loss` rises for two consecutive epochs until minimum learning rate of `MIN_LR` is reached.\n",
    "- `Early Stopping` mechanism: Aborts training with patience `ES_PATIENCE` if subtraction of validate error `val_loss` of epoch *i* and validate error `val_loss` of epoch *i + 1* is below `MIN_DELTA`."
   ]
  },
  {
   "cell_type": "code",
   "execution_count": 30,
   "metadata": {
    "id": "EGOOXJGHs8-a"
   },
   "outputs": [],
   "source": [
    "# Setting LR Scheduler hyperparameters\n",
    "LR_FACTOR=0.5\n",
    "MIN_LR=1e-6\n",
    "LR_PATIENCE=1\n",
    "\n",
    "# Setting Early Stopping hyperparameters\n",
    "ES_PATIENCE = 4\n",
    "MIN_DELTA = 0"
   ]
  },
  {
   "cell_type": "markdown",
   "metadata": {},
   "source": [
    "Class `LRScheduler()` implements learning rate scheduler with `ReduceLROnPlateau` optimization, meaning that learning rate is reduced if plateau is reached (rising validation error `val_loss` for two consecutive epochs)."
   ]
  },
  {
   "cell_type": "code",
   "execution_count": 31,
   "metadata": {
    "id": "LwqRsvJ8s-R8"
   },
   "outputs": [],
   "source": [
    "class LRScheduler():\n",
    "    \n",
    "    # Constructor for LRScheduler class\n",
    "    def __init__(self, optimizer, patience=LR_PATIENCE, min_lr=MIN_LR, factor=LR_FACTOR):\n",
    "        self.optimizer = optimizer\n",
    "        self.patience = patience\n",
    "        self.min_lr = min_lr\n",
    "        self.factor = factor\n",
    "        \n",
    "        self.lr_scheduler = torch.optim.lr_scheduler.ReduceLROnPlateau(\n",
    "            self.optimizer,\n",
    "            mode = \"min\",\n",
    "            patience = self.patience,\n",
    "            factor = self.factor,\n",
    "            min_lr = self.min_lr,\n",
    "            verbose = True\n",
    "        )\n",
    "        \n",
    "    def __call__(self, val_loss):\n",
    "        self.lr_scheduler.step(val_loss)"
   ]
  },
  {
   "cell_type": "markdown",
   "metadata": {},
   "source": [
    "Class `EarlyStopping` implements early stopping mechanism with constants `ES_PATIENCE` and `MIN_DELTA`."
   ]
  },
  {
   "cell_type": "code",
   "execution_count": 32,
   "metadata": {
    "id": "X3Jf-Zqls_F-"
   },
   "outputs": [],
   "source": [
    "class EarlyStopping():\n",
    "    \n",
    "    # Constructor for EarlyStopping class\n",
    "    def __init__(self, patience=ES_PATIENCE, min_delta=MIN_DELTA):\n",
    "        self.patience = patience\n",
    "        self.min_delta = min_delta\n",
    "        self.counter = 0\n",
    "        self.best_loss = None\n",
    "        self.early_stop = False\n",
    "    \n",
    "    # Call function implements comparison of validation error val_loss of epoch i with val_loss\n",
    "    # of epoch i + 1 --> Counter until max. 4 epochs initialized\n",
    "    def __call__(self, val_loss):\n",
    "        if self.best_loss == None:\n",
    "            self.best_loss = val_loss\n",
    "        elif self.best_loss - val_loss > self.min_delta:\n",
    "            self.best_loss = val_loss\n",
    "            self.counter = 0\n",
    "        elif self.best_loss - val_loss <= self.min_delta:\n",
    "            self.counter += 1\n",
    "            print(f\"INFO: Early stopping counter {self.counter} of {self.patience}.\")\n",
    "            if self.counter >= self.patience:\n",
    "                print(\"INFO: Early Stopping!\")\n",
    "                self.early_stop = True"
   ]
  },
  {
   "cell_type": "markdown",
   "metadata": {},
   "source": [
    "`get_class_weights()` function calculates percentage values per class for a weighted `CrossEntropy`. Reasoning is an highly imbalanced Fakeddit benchmarks dataset. Classes with a high number of Reddit-Post samples are normalized and are considered less by percentage during loss calculation. Also, some classes have considerably more sample data, all classes are weighted and taken as input into the loss calculation according to their respective number of samples. High number of class samples yields lower percentage weights, and low number of class samples yields higher percentage weight.\n",
    "- `params`: dataframe (Fakeddit training split dataframe - sample distribution in all splits identical)\n",
    "- `returns`: class_weights (percentage points per class in intervall between *0* and *1*"
   ]
  },
  {
   "cell_type": "code",
   "execution_count": 44,
   "metadata": {},
   "outputs": [],
   "source": [
    "def get_class_weights(dataframe):\n",
    "    \n",
    "    # Count labels per class / subtype of Fake News in training set split\n",
    "    # in sorted order 0, 1, 2, 3, 4, 5 and put into label_count list\n",
    "    label_count = [dataframe[\"6_way_label\"].value_counts().sort_index(0)[0],\n",
    "                   dataframe[\"6_way_label\"].value_counts().sort_index(0)[1],\n",
    "                   dataframe[\"6_way_label\"].value_counts().sort_index(0)[2],\n",
    "                   dataframe[\"6_way_label\"].value_counts().sort_index(0)[3],\n",
    "                   dataframe[\"6_way_label\"].value_counts().sort_index(0)[4],\n",
    "                   dataframe[\"6_way_label\"].value_counts().sort_index(0)[5]]\n",
    "\n",
    "    # Calculate weights per class by subtracting from 1 label_count per class divided\n",
    "    # by sum of all label_counts\n",
    "    class_weights = [1 - (x / sum(label_count)) for x in label_count]\n",
    "    # Converting list of class_weights to float PyTorch tensor and assigning to device\n",
    "    class_weights = torch.FloatTensor(class_weights)\n",
    "\n",
    "    # Returns class_weights tensor of data type float\n",
    "    return class_weights"
   ]
  },
  {
   "cell_type": "code",
   "execution_count": 36,
   "metadata": {},
   "outputs": [
    {
     "name": "stdout",
     "output_type": "stream",
     "text": [
      "tensor([0.6062, 0.9406, 0.8099, 0.9791, 0.7024, 0.9617])\n"
     ]
    }
   ],
   "source": [
    "# Calculate class weights on basis of training split dataframe and print weight tensor\n",
    "class_weights = get_class_weights(df_train)\n",
    "print(class_weights)"
   ]
  },
  {
   "cell_type": "markdown",
   "metadata": {},
   "source": [
    "`Hyperparameters` for training Title-Image DistilFND are set in the following section."
   ]
  },
  {
   "cell_type": "code",
   "execution_count": 70,
   "metadata": {
    "id": "Pcie4lmftDE6"
   },
   "outputs": [],
   "source": [
    "# Training for a total of 20 epochs\n",
    "EPOCHS = 20\n",
    "\n",
    "# Initializing AdamW optimizer for trainable parameters with initial learning rate of 3e-5\n",
    "optimizer = AdamW(fn_detector.parameters(), lr=3e-5, correct_bias=False)\n",
    "\n",
    "# Definiing toal training steps by multiplying length of samples per DataLoader by EPOCHS\n",
    "total_steps = len(train_data_loader) * EPOCHS\n",
    "\n",
    "# Initializing linear scheduling warmup for training procedure\n",
    "scheduler = get_linear_schedule_with_warmup(\n",
    "    optimizer,\n",
    "    num_warmup_steps=0,\n",
    "    num_training_steps=total_steps\n",
    ")\n",
    "\n",
    "# Initializing weighted Cross Entropy Loss function and assignment to device\n",
    "loss_function = nn.CrossEntropyLoss(weight=class_weights).to(device)\n",
    "\n",
    "# Initializing Learning Rate Scheduler with AdamW optimizer and Early Stopping mechanism\n",
    "lr_scheduler = LRScheduler(optimizer)\n",
    "early_stopping = EarlyStopping()"
   ]
  },
  {
   "cell_type": "markdown",
   "metadata": {},
   "source": [
    "# Model training procedure"
   ]
  },
  {
   "cell_type": "markdown",
   "metadata": {},
   "source": [
    "`train_model()` function is called to train fake news detector on basis of `Fakeddit` training set split.\n",
    "- `params`: model (Title-Image DistilFND)\n",
    "- `params`: data_loader (PyTorch sample DataLoader)\n",
    "- `params`: loss_function (weighted Cross Entropy Loss)\n",
    "- `params`: optimizer (AdamW)\n",
    "- `params`: device (either GPU or CPU resource)\n",
    "- `params`: scheduler (configuration of warmup procedure)\n",
    "- `params`: num_examples (count of batches of respective data split containing a total of 16 samples)\n",
    "- `returns`: training accuracy `train_acc` per epoch (`correct_preds.double() / num_examples`)\n",
    "- `returns`: mean of training loss value `train_loss"
   ]
  },
  {
   "cell_type": "code",
   "execution_count": 71,
   "metadata": {
    "id": "gpw9-Z6GtWOg"
   },
   "outputs": [],
   "source": [
    "def train_model(model, data_loader, loss_function, optimizer, device, scheduler, num_examples):\n",
    "    print(\"Training model in progress...\")\n",
    "    print(\"-\" * 10)\n",
    "    \n",
    "    # Putting model in training condition including regularization layers\n",
    "    model = model.train()\n",
    "    \n",
    "    # Saving training lossses per epoch and initalizing correct prediction count\n",
    "    train_losses = []\n",
    "    correct_preds = 0\n",
    "    \n",
    "    # Iteration over data (batches) contained in data split set DataLoader\n",
    "    for data in tqdm(data_loader):\n",
    "\n",
    "        # Initializing post title input_ids, attention_mask, \n",
    "        # image data and label per Reddit-Post and assigning to device\n",
    "        input_ids = data[\"input_ids\"].to(device)\n",
    "        attention_mask = data[\"attention_mask\"].to(device)\n",
    "        images = data[\"image\"].to(device)\n",
    "        labels = data[\"label\"].to(device)\n",
    "\n",
    "        # Feeding input data to Title-Image DistilFND\n",
    "        outputs = model(\n",
    "                title_input_ids = input_ids,\n",
    "                title_attention_mask = attention_mask,\n",
    "                image = images\n",
    "        )\n",
    "\n",
    "        # Final Softmax layer returns class predictions per sample in batch\n",
    "        # Highest probability value resembles class prediction and is assigned to preds variable\n",
    "        _, preds = torch.max(outputs, dim=1)\n",
    "\n",
    "        # Training loss is calculated by applying weighted Cross Entropy Loss\n",
    "        # on comparison between predicted label and ground truth label\n",
    "        train_loss = loss_function(outputs, labels)\n",
    "\n",
    "        # Counting correct model predictions and incrementing correct prediction count\n",
    "        correct_preds += torch.sum(preds == labels)\n",
    "        # Append training loss of current epoch to list of training losses\n",
    "        train_losses.append(train_loss.item())\n",
    "        # Initialize backpropagation to adjust model weights / parameters\n",
    "        train_loss.backward()\n",
    "        # Normalize gradient values to regularize parameter update\n",
    "        nn.utils.clip_grad_norm_(model.parameters(), max_norm=1.0)\n",
    "        # Perform parameter update based on current gradient value\n",
    "        optimizer.step()\n",
    "        # Moving scheduler to next step / iteration\n",
    "        scheduler.step()\n",
    "        # Zero out current gradients to initialize fresh optimizer state for next epoch\n",
    "        optimizer.zero_grad()\n",
    "            \n",
    "    # Return train_acc and train_loss values\n",
    "    return correct_preds.double() / num_examples, np.mean(train_losses)"
   ]
  },
  {
   "cell_type": "markdown",
   "metadata": {},
   "source": [
    "`evaluate_model()` function is used to evaluate the current state of the fake news detector in each epoch after completed iteration over training set split. Evaluation is performed on validation data split. In evaluation mode no model parameter updates are condusted. Hence, there is no need for an optimizer, but validation accuracy `val_acc` and validation loss `val_loss` is calculated.\n",
    "- `params`: model (Title-Image DistilFND)\n",
    "- `params`: data_loader (PyTorch sample DataLoader)\n",
    "- `params`: loss_function (weighted Cross Entropy Loss)\n",
    "- `params`: device (either GPU or CPU resource)\n",
    "- `params`: num_examples (count of batches of respective data split containing a total of 16 samples)\n",
    "- `returns`: validation accuracy `val_acc`per epoch (`correct_preds.double() / num_examples`)\n",
    "- `returns`: mean of validation loss value `val_loss"
   ]
  },
  {
   "cell_type": "code",
   "execution_count": 72,
   "metadata": {
    "id": "VSq_-Cn3tkPU"
   },
   "outputs": [],
   "source": [
    "def evaluate_model(model, data_loader, loss_function, device, num_examples):\n",
    "    print(\"Validating model in progress...\")\n",
    "    print(\"-\" * 10)\n",
    "    \n",
    "    # Switching off regularization and normalization layers for evaluation mode\n",
    "    # Hence, no model parameters are adjusted. Model is evaluated in current state\n",
    "    model = model.eval()\n",
    "    \n",
    "    # Saving validation loss per epoch\n",
    "    val_losses = []\n",
    "    correct_preds = 0\n",
    "    \n",
    "    # Skipping gradient calulation over weights --> Not needed, because\n",
    "    # no parameters are updated and significantly speeds up iteration over samples batches\n",
    "    with torch.no_grad():\n",
    "        # Iteration over data (batches) contained in data split set DataLoader\n",
    "        for data in tqdm(data_loader):\n",
    "            \n",
    "            # Initializing post title input_ids, attention_mask, \n",
    "            # image data and label per Reddit-Post and assigning to device\n",
    "            input_ids = data[\"input_ids\"].to(device)\n",
    "            attention_mask = data[\"attention_mask\"].to(device)\n",
    "            images = data[\"image\"].to(device)\n",
    "            labels = data[\"label\"].to(device)\n",
    "            \n",
    "            # Feeding input data to Title-Image DistilFND state in current epoch\n",
    "            outputs = model(\n",
    "                    title_input_ids = input_ids,\n",
    "                    title_attention_mask = attention_mask,\n",
    "                    image = images\n",
    "            )\n",
    "            \n",
    "            # Final Softmax layer returns class predictions per sample in batch\n",
    "            # Highest probability value resembles class prediction and is assigned to preds variable\n",
    "            _, preds = torch.max(outputs, dim=1)\n",
    "            \n",
    "            # Validation loss is calculated by applying weighted Cross Entropy Loss\n",
    "            # on comparison between predicted label and ground truth label\n",
    "            val_loss = loss_function(outputs, labels)\n",
    "            \n",
    "            # Counting correct model predictions and incrementing correct prediction count\n",
    "            correct_preds += torch.sum(preds == labels)\n",
    "            \n",
    "            # Appending current validation loss per batch\n",
    "            # to list of validation losses per epoch\n",
    "            val_losses.append(val_loss.item())\n",
    "    \n",
    "    # Returns val_acc and val_loss values\n",
    "    return correct_preds.double() / num_examples, np.mean(val_losses)"
   ]
  },
  {
   "cell_type": "markdown",
   "metadata": {},
   "source": [
    "`Training loop` integrates `Hyperparameters`, `train_model()` and `evaluate_model` function into one training loop. Title DistilFND iterates over training and validation data splits a total of *20* times for the total number of epochs. Training history, `train_acc`, `train_loss`, `val_acc` and `val_loss` per epoch are saved in `history` dictionary for analysis after training procedure is completed. After each epoch the current state of model and optimizer is saved in a checkpoint and if the `val_acc` has increased in comparison to previous epoch, the complete model is saved as a `pth` file with the `torch.save` function."
   ]
  },
  {
   "cell_type": "markdown",
   "metadata": {},
   "source": [
    "#### First training run (10/20 epochs)"
   ]
  },
  {
   "cell_type": "code",
   "execution_count": 74,
   "metadata": {
    "id": "OZAgCcXotrE1"
   },
   "outputs": [
    {
     "name": "stdout",
     "output_type": "stream",
     "text": [
      "Epoch 1/10\n",
      "----------\n",
      "Training model in progress...\n",
      "----------\n"
     ]
    },
    {
     "data": {
      "application/vnd.jupyter.widget-view+json": {
       "model_id": "a1e4504974c24942a0907cdf4e3c53be",
       "version_major": 2,
       "version_minor": 0
      },
      "text/plain": [
       "  0%|          | 0/5640 [00:00<?, ?it/s]"
      ]
     },
     "metadata": {},
     "output_type": "display_data"
    },
    {
     "name": "stderr",
     "output_type": "stream",
     "text": [
      "/home/ubuntu/anaconda3/envs/pytorch_latest_p37/lib/python3.7/site-packages/PIL/Image.py:974: UserWarning: Palette images with Transparency expressed in bytes should be converted to RGBA images\n",
      "  \"Palette images with Transparency expressed in bytes should be \"\n",
      "/home/ubuntu/anaconda3/envs/pytorch_latest_p37/lib/python3.7/site-packages/PIL/Image.py:974: UserWarning: Palette images with Transparency expressed in bytes should be converted to RGBA images\n",
      "  \"Palette images with Transparency expressed in bytes should be \"\n"
     ]
    },
    {
     "name": "stdout",
     "output_type": "stream",
     "text": [
      "Train loss 1.3337293170656719 | Accuracy 0.7414561170212767\n",
      "\n",
      "Validating model in progress...\n",
      "----------\n"
     ]
    },
    {
     "data": {
      "application/vnd.jupyter.widget-view+json": {
       "model_id": "7f6684843d0b4650993967fefbf04fe1",
       "version_major": 2,
       "version_minor": 0
      },
      "text/plain": [
       "  0%|          | 0/705 [00:00<?, ?it/s]"
      ]
     },
     "metadata": {},
     "output_type": "display_data"
    },
    {
     "name": "stdout",
     "output_type": "stream",
     "text": [
      "Val   loss 1.3181675628567417 | Accuracy 0.7526595744680852\n",
      "\n",
      "Epoch 2/10\n",
      "----------\n",
      "Training model in progress...\n",
      "----------\n"
     ]
    },
    {
     "data": {
      "application/vnd.jupyter.widget-view+json": {
       "model_id": "22bf31a0a4c841f7b1e0599f8d8132cb",
       "version_major": 2,
       "version_minor": 0
      },
      "text/plain": [
       "  0%|          | 0/5640 [00:00<?, ?it/s]"
      ]
     },
     "metadata": {},
     "output_type": "display_data"
    },
    {
     "name": "stderr",
     "output_type": "stream",
     "text": [
      "/home/ubuntu/anaconda3/envs/pytorch_latest_p37/lib/python3.7/site-packages/PIL/Image.py:974: UserWarning: Palette images with Transparency expressed in bytes should be converted to RGBA images\n",
      "  \"Palette images with Transparency expressed in bytes should be \"\n",
      "/home/ubuntu/anaconda3/envs/pytorch_latest_p37/lib/python3.7/site-packages/PIL/Image.py:974: UserWarning: Palette images with Transparency expressed in bytes should be converted to RGBA images\n",
      "  \"Palette images with Transparency expressed in bytes should be \"\n"
     ]
    },
    {
     "name": "stdout",
     "output_type": "stream",
     "text": [
      "Train loss 1.3023550107335369 | Accuracy 0.7696254432624114\n",
      "\n",
      "Validating model in progress...\n",
      "----------\n"
     ]
    },
    {
     "data": {
      "application/vnd.jupyter.widget-view+json": {
       "model_id": "133d3118ada24081811ed17663b35cac",
       "version_major": 2,
       "version_minor": 0
      },
      "text/plain": [
       "  0%|          | 0/705 [00:00<?, ?it/s]"
      ]
     },
     "metadata": {},
     "output_type": "display_data"
    },
    {
     "name": "stdout",
     "output_type": "stream",
     "text": [
      "Val   loss 1.2934460203698341 | Accuracy 0.7689716312056738\n",
      "\n",
      "Epoch 3/10\n",
      "----------\n",
      "Training model in progress...\n",
      "----------\n"
     ]
    },
    {
     "data": {
      "application/vnd.jupyter.widget-view+json": {
       "model_id": "df00fd17b2e74ab883b69cdd23d3d10e",
       "version_major": 2,
       "version_minor": 0
      },
      "text/plain": [
       "  0%|          | 0/5640 [00:00<?, ?it/s]"
      ]
     },
     "metadata": {},
     "output_type": "display_data"
    },
    {
     "name": "stderr",
     "output_type": "stream",
     "text": [
      "/home/ubuntu/anaconda3/envs/pytorch_latest_p37/lib/python3.7/site-packages/PIL/Image.py:974: UserWarning: Palette images with Transparency expressed in bytes should be converted to RGBA images\n",
      "  \"Palette images with Transparency expressed in bytes should be \"\n",
      "/home/ubuntu/anaconda3/envs/pytorch_latest_p37/lib/python3.7/site-packages/PIL/Image.py:974: UserWarning: Palette images with Transparency expressed in bytes should be converted to RGBA images\n",
      "  \"Palette images with Transparency expressed in bytes should be \"\n"
     ]
    },
    {
     "name": "stdout",
     "output_type": "stream",
     "text": [
      "Train loss 1.2605181405941646 | Accuracy 0.8045766843971631\n",
      "\n",
      "Validating model in progress...\n",
      "----------\n"
     ]
    },
    {
     "data": {
      "application/vnd.jupyter.widget-view+json": {
       "model_id": "b19ccdf5a8a14444a0fb8f70baed7ec4",
       "version_major": 2,
       "version_minor": 0
      },
      "text/plain": [
       "  0%|          | 0/705 [00:00<?, ?it/s]"
      ]
     },
     "metadata": {},
     "output_type": "display_data"
    },
    {
     "name": "stdout",
     "output_type": "stream",
     "text": [
      "Val   loss 1.2748456753737538 | Accuracy 0.7895390070921986\n",
      "\n",
      "Epoch 4/10\n",
      "----------\n",
      "Training model in progress...\n",
      "----------\n"
     ]
    },
    {
     "data": {
      "application/vnd.jupyter.widget-view+json": {
       "model_id": "33dcf96ccca542d4ab717bbd625f495f",
       "version_major": 2,
       "version_minor": 0
      },
      "text/plain": [
       "  0%|          | 0/5640 [00:00<?, ?it/s]"
      ]
     },
     "metadata": {},
     "output_type": "display_data"
    },
    {
     "name": "stderr",
     "output_type": "stream",
     "text": [
      "/home/ubuntu/anaconda3/envs/pytorch_latest_p37/lib/python3.7/site-packages/PIL/Image.py:974: UserWarning: Palette images with Transparency expressed in bytes should be converted to RGBA images\n",
      "  \"Palette images with Transparency expressed in bytes should be \"\n",
      "/home/ubuntu/anaconda3/envs/pytorch_latest_p37/lib/python3.7/site-packages/PIL/Image.py:974: UserWarning: Palette images with Transparency expressed in bytes should be converted to RGBA images\n",
      "  \"Palette images with Transparency expressed in bytes should be \"\n"
     ]
    },
    {
     "name": "stdout",
     "output_type": "stream",
     "text": [
      "Train loss 1.2349336542981737 | Accuracy 0.8269281914893618\n",
      "\n",
      "Validating model in progress...\n",
      "----------\n"
     ]
    },
    {
     "data": {
      "application/vnd.jupyter.widget-view+json": {
       "model_id": "3a41efb57a904e5fb8169359f72cd3c5",
       "version_major": 2,
       "version_minor": 0
      },
      "text/plain": [
       "  0%|          | 0/705 [00:00<?, ?it/s]"
      ]
     },
     "metadata": {},
     "output_type": "display_data"
    },
    {
     "name": "stdout",
     "output_type": "stream",
     "text": [
      "Val   loss 1.2661732979700075 | Accuracy 0.7963652482269504\n",
      "\n",
      "Epoch 5/10\n",
      "----------\n",
      "Training model in progress...\n",
      "----------\n"
     ]
    },
    {
     "data": {
      "application/vnd.jupyter.widget-view+json": {
       "model_id": "ed824271126e421caf4317e297211428",
       "version_major": 2,
       "version_minor": 0
      },
      "text/plain": [
       "  0%|          | 0/5640 [00:00<?, ?it/s]"
      ]
     },
     "metadata": {},
     "output_type": "display_data"
    },
    {
     "name": "stderr",
     "output_type": "stream",
     "text": [
      "/home/ubuntu/anaconda3/envs/pytorch_latest_p37/lib/python3.7/site-packages/PIL/Image.py:974: UserWarning: Palette images with Transparency expressed in bytes should be converted to RGBA images\n",
      "  \"Palette images with Transparency expressed in bytes should be \"\n",
      "/home/ubuntu/anaconda3/envs/pytorch_latest_p37/lib/python3.7/site-packages/PIL/Image.py:974: UserWarning: Palette images with Transparency expressed in bytes should be converted to RGBA images\n",
      "  \"Palette images with Transparency expressed in bytes should be \"\n"
     ]
    },
    {
     "name": "stdout",
     "output_type": "stream",
     "text": [
      "Train loss 1.2123285020285464 | Accuracy 0.8478834219858157\n",
      "\n",
      "Validating model in progress...\n",
      "----------\n"
     ]
    },
    {
     "data": {
      "application/vnd.jupyter.widget-view+json": {
       "model_id": "bf6ac2114b6a44a7b30f271b44058fe8",
       "version_major": 2,
       "version_minor": 0
      },
      "text/plain": [
       "  0%|          | 0/705 [00:00<?, ?it/s]"
      ]
     },
     "metadata": {},
     "output_type": "display_data"
    },
    {
     "name": "stdout",
     "output_type": "stream",
     "text": [
      "Val   loss 1.2571902873668266 | Accuracy 0.799822695035461\n",
      "\n",
      "Epoch 6/10\n",
      "----------\n",
      "Training model in progress...\n",
      "----------\n"
     ]
    },
    {
     "data": {
      "application/vnd.jupyter.widget-view+json": {
       "model_id": "29a9beb2a2424d60b074b09b14642785",
       "version_major": 2,
       "version_minor": 0
      },
      "text/plain": [
       "  0%|          | 0/5640 [00:00<?, ?it/s]"
      ]
     },
     "metadata": {},
     "output_type": "display_data"
    },
    {
     "name": "stderr",
     "output_type": "stream",
     "text": [
      "/home/ubuntu/anaconda3/envs/pytorch_latest_p37/lib/python3.7/site-packages/PIL/Image.py:974: UserWarning: Palette images with Transparency expressed in bytes should be converted to RGBA images\n",
      "  \"Palette images with Transparency expressed in bytes should be \"\n",
      "/home/ubuntu/anaconda3/envs/pytorch_latest_p37/lib/python3.7/site-packages/PIL/Image.py:974: UserWarning: Palette images with Transparency expressed in bytes should be converted to RGBA images\n",
      "  \"Palette images with Transparency expressed in bytes should be \"\n"
     ]
    },
    {
     "name": "stdout",
     "output_type": "stream",
     "text": [
      "Train loss 1.1956322355684659 | Accuracy 0.863175975177305\n",
      "\n",
      "Validating model in progress...\n",
      "----------\n"
     ]
    },
    {
     "data": {
      "application/vnd.jupyter.widget-view+json": {
       "model_id": "617b6410a1f84d46a8296e27ab604fc4",
       "version_major": 2,
       "version_minor": 0
      },
      "text/plain": [
       "  0%|          | 0/705 [00:00<?, ?it/s]"
      ]
     },
     "metadata": {},
     "output_type": "display_data"
    },
    {
     "name": "stdout",
     "output_type": "stream",
     "text": [
      "Val   loss 1.2558078584941565 | Accuracy 0.8016843971631207\n",
      "\n",
      "Epoch 7/10\n",
      "----------\n",
      "Training model in progress...\n",
      "----------\n"
     ]
    },
    {
     "data": {
      "application/vnd.jupyter.widget-view+json": {
       "model_id": "96c34b35029a4763ab16408bc1f191ea",
       "version_major": 2,
       "version_minor": 0
      },
      "text/plain": [
       "  0%|          | 0/5640 [00:00<?, ?it/s]"
      ]
     },
     "metadata": {},
     "output_type": "display_data"
    },
    {
     "name": "stderr",
     "output_type": "stream",
     "text": [
      "/home/ubuntu/anaconda3/envs/pytorch_latest_p37/lib/python3.7/site-packages/PIL/Image.py:974: UserWarning: Palette images with Transparency expressed in bytes should be converted to RGBA images\n",
      "  \"Palette images with Transparency expressed in bytes should be \"\n",
      "/home/ubuntu/anaconda3/envs/pytorch_latest_p37/lib/python3.7/site-packages/PIL/Image.py:974: UserWarning: Palette images with Transparency expressed in bytes should be converted to RGBA images\n",
      "  \"Palette images with Transparency expressed in bytes should be \"\n"
     ]
    },
    {
     "name": "stdout",
     "output_type": "stream",
     "text": [
      "Train loss 1.182338641869261 | Accuracy 0.8750110815602837\n",
      "\n",
      "Validating model in progress...\n",
      "----------\n"
     ]
    },
    {
     "data": {
      "application/vnd.jupyter.widget-view+json": {
       "model_id": "5b9e673b0dfb4b9b92d69a5ad22c2625",
       "version_major": 2,
       "version_minor": 0
      },
      "text/plain": [
       "  0%|          | 0/705 [00:00<?, ?it/s]"
      ]
     },
     "metadata": {},
     "output_type": "display_data"
    },
    {
     "name": "stdout",
     "output_type": "stream",
     "text": [
      "Val   loss 1.2500093955520197 | Accuracy 0.8078014184397163\n",
      "\n",
      "Epoch 8/10\n",
      "----------\n",
      "Training model in progress...\n",
      "----------\n"
     ]
    },
    {
     "data": {
      "application/vnd.jupyter.widget-view+json": {
       "model_id": "fc43c4adb8ee465185c26262b4ad1929",
       "version_major": 2,
       "version_minor": 0
      },
      "text/plain": [
       "  0%|          | 0/5640 [00:00<?, ?it/s]"
      ]
     },
     "metadata": {},
     "output_type": "display_data"
    },
    {
     "name": "stderr",
     "output_type": "stream",
     "text": [
      "/home/ubuntu/anaconda3/envs/pytorch_latest_p37/lib/python3.7/site-packages/PIL/Image.py:974: UserWarning: Palette images with Transparency expressed in bytes should be converted to RGBA images\n",
      "  \"Palette images with Transparency expressed in bytes should be \"\n",
      "/home/ubuntu/anaconda3/envs/pytorch_latest_p37/lib/python3.7/site-packages/PIL/Image.py:974: UserWarning: Palette images with Transparency expressed in bytes should be converted to RGBA images\n",
      "  \"Palette images with Transparency expressed in bytes should be \"\n"
     ]
    },
    {
     "name": "stdout",
     "output_type": "stream",
     "text": [
      "Train loss 1.1715165302263084 | Accuracy 0.8850953014184397\n",
      "\n",
      "Validating model in progress...\n",
      "----------\n"
     ]
    },
    {
     "data": {
      "application/vnd.jupyter.widget-view+json": {
       "model_id": "3772a49cb5434763a8a40803cf416c24",
       "version_major": 2,
       "version_minor": 0
      },
      "text/plain": [
       "  0%|          | 0/705 [00:00<?, ?it/s]"
      ]
     },
     "metadata": {},
     "output_type": "display_data"
    },
    {
     "name": "stdout",
     "output_type": "stream",
     "text": [
      "Val   loss 1.2472829350342987 | Accuracy 0.809131205673759\n",
      "\n",
      "Epoch 9/10\n",
      "----------\n",
      "Training model in progress...\n",
      "----------\n"
     ]
    },
    {
     "data": {
      "application/vnd.jupyter.widget-view+json": {
       "model_id": "6905ef01f0414b7faacb0a595e1af12e",
       "version_major": 2,
       "version_minor": 0
      },
      "text/plain": [
       "  0%|          | 0/5640 [00:00<?, ?it/s]"
      ]
     },
     "metadata": {},
     "output_type": "display_data"
    },
    {
     "name": "stderr",
     "output_type": "stream",
     "text": [
      "/home/ubuntu/anaconda3/envs/pytorch_latest_p37/lib/python3.7/site-packages/PIL/Image.py:974: UserWarning: Palette images with Transparency expressed in bytes should be converted to RGBA images\n",
      "  \"Palette images with Transparency expressed in bytes should be \"\n",
      "/home/ubuntu/anaconda3/envs/pytorch_latest_p37/lib/python3.7/site-packages/PIL/Image.py:974: UserWarning: Palette images with Transparency expressed in bytes should be converted to RGBA images\n",
      "  \"Palette images with Transparency expressed in bytes should be \"\n"
     ]
    },
    {
     "name": "stdout",
     "output_type": "stream",
     "text": [
      "Train loss 1.1642514289270902 | Accuracy 0.8922983156028369\n",
      "\n",
      "Validating model in progress...\n",
      "----------\n"
     ]
    },
    {
     "data": {
      "application/vnd.jupyter.widget-view+json": {
       "model_id": "735d9ed8c3c04eb59da1bb900079ebbe",
       "version_major": 2,
       "version_minor": 0
      },
      "text/plain": [
       "  0%|          | 0/705 [00:00<?, ?it/s]"
      ]
     },
     "metadata": {},
     "output_type": "display_data"
    },
    {
     "name": "stdout",
     "output_type": "stream",
     "text": [
      "Val   loss 1.2421747681096935 | Accuracy 0.8167553191489362\n",
      "\n",
      "Epoch 10/10\n",
      "----------\n",
      "Training model in progress...\n",
      "----------\n"
     ]
    },
    {
     "data": {
      "application/vnd.jupyter.widget-view+json": {
       "model_id": "44d683aa6a6b48aab2996ddd37d4bc1a",
       "version_major": 2,
       "version_minor": 0
      },
      "text/plain": [
       "  0%|          | 0/5640 [00:00<?, ?it/s]"
      ]
     },
     "metadata": {},
     "output_type": "display_data"
    },
    {
     "name": "stderr",
     "output_type": "stream",
     "text": [
      "/home/ubuntu/anaconda3/envs/pytorch_latest_p37/lib/python3.7/site-packages/PIL/Image.py:974: UserWarning: Palette images with Transparency expressed in bytes should be converted to RGBA images\n",
      "  \"Palette images with Transparency expressed in bytes should be \"\n",
      "/home/ubuntu/anaconda3/envs/pytorch_latest_p37/lib/python3.7/site-packages/PIL/Image.py:974: UserWarning: Palette images with Transparency expressed in bytes should be converted to RGBA images\n",
      "  \"Palette images with Transparency expressed in bytes should be \"\n"
     ]
    },
    {
     "name": "stdout",
     "output_type": "stream",
     "text": [
      "Train loss 1.160758143177269 | Accuracy 0.8958444148936171\n",
      "\n",
      "Validating model in progress...\n",
      "----------\n"
     ]
    },
    {
     "data": {
      "application/vnd.jupyter.widget-view+json": {
       "model_id": "8c56acf7cb524b1e81d6ada1f10cad3b",
       "version_major": 2,
       "version_minor": 0
      },
      "text/plain": [
       "  0%|          | 0/705 [00:00<?, ?it/s]"
      ]
     },
     "metadata": {},
     "output_type": "display_data"
    },
    {
     "name": "stdout",
     "output_type": "stream",
     "text": [
      "Val   loss 1.244939819633538 | Accuracy 0.8134751773049645\n",
      "\n",
      "INFO: Early stopping counter 1 of 4.\n",
      "\n",
      "Completed Training!\n",
      "--------------------\n",
      "CPU times: user 6h 15min 5s, sys: 1h 27min 56s, total: 7h 43min 1s\n",
      "Wall time: 7h 37min 49s\n"
     ]
    }
   ],
   "source": [
    "%%time\n",
    "\n",
    "# Initializing training history dictionary and best_accuracy variable\n",
    "history = defaultdict(list)\n",
    "best_accuracy = 0\n",
    "\n",
    "# Iteration times the total number of epochs\n",
    "for epoch in range(EPOCHS):\n",
    "\n",
    "    print(f\"Epoch {epoch + 1}/{EPOCHS}\")\n",
    "    print(\"-\" * 10)\n",
    "\n",
    "    # Calling train_model() function, returns train_acc and train_loss\n",
    "    train_acc, train_loss = train_model(\n",
    "        fn_detector,\n",
    "        train_data_loader,\n",
    "        loss_function,\n",
    "        optimizer,\n",
    "        device,\n",
    "        scheduler,\n",
    "        len(df_train)\n",
    "    )\n",
    "\n",
    "    # Print train_loss and train_acc values for current epoch\n",
    "    print(f\"Train loss {train_loss} | Accuracy {train_acc}\")\n",
    "    print()\n",
    "\n",
    "    # Calling evaluate_model() function, returns val_acc and val_loss\n",
    "    val_acc, val_loss = evaluate_model(\n",
    "            fn_detector,\n",
    "            validate_data_loader,\n",
    "            loss_function,\n",
    "            device,\n",
    "            len(df_validate)\n",
    "    )\n",
    "\n",
    "    # Print val_loss and val_acc values for current epoch\n",
    "    print(f\"Val   loss {val_loss} | Accuracy {val_acc}\")\n",
    "    print()\n",
    "\n",
    "    # Save current values of train_acc, val_acc, train_loss and val_loss\n",
    "    # in respective keys of history dictionary for later analysis\n",
    "    history[\"train_acc\"].append(train_acc)\n",
    "    history[\"train_loss\"].append(train_loss)\n",
    "    history[\"val_acc\"].append(val_acc)\n",
    "    history[\"val_loss\"].append(val_loss)\n",
    "\n",
    "    # Feed current val_loss to LRScheduler and Early Stopping\n",
    "    # for evaluation\n",
    "    lr_scheduler(val_loss)\n",
    "    early_stopping(val_loss)\n",
    "    # If val_loss increases in 4 consecutive epochs, abort training procedure\n",
    "    if early_stopping.early_stop:\n",
    "        break\n",
    "\n",
    "    # Saving model checkpoint as dictionary and .tar file for continuing inference\n",
    "    # Saving keys for current epoch, model state, optimizer state, val_acc and val_loss\n",
    "    torch.save({\n",
    "        \"epoch\": epoch+1,\n",
    "        \"model_state_dict\": fn_detector.state_dict(),\n",
    "        \"optimizer_state_dict\": optimizer.state_dict(),\n",
    "        \"val_acc\": val_acc,\n",
    "        \"val_loss\": val_loss\n",
    "    }, f\"/home/ubuntu/FakeNewsDetector/models/titleimage_research/checkpoints/title_detector_checkpoint_epoch_{epoch+1}.tar\")\n",
    "\n",
    "    # If val_acc has increased compared to previous epoch, complete model .pth file is saved\n",
    "    if val_acc > best_accuracy:\n",
    "        torch.save(fn_detector.state_dict(), f\"/home/ubuntu/FakeNewsDetector/models/titleimage_research/best_title_detector_epoch_{epoch+1}.pth\")\n",
    "        best_accuracy = val_acc\n",
    "\n",
    "# Print output when training procedure completed\n",
    "print()\n",
    "print(\"Completed Training!\")\n",
    "print(\"-\" * 20)"
   ]
  },
  {
   "cell_type": "markdown",
   "metadata": {},
   "source": [
    "**Attention:** Training was interrupted after *10* epochs in order to also evaluate model after *10*/*20* epochs. Afterwards, checkpoint of model and optimizer state was loaded to continue training on identical dataset splits. After a total of *15*/*20* epochs the model performance was saturated and was prematurely aborted by the `Early Stopping` mechanism."
   ]
  },
  {
   "cell_type": "markdown",
   "metadata": {},
   "source": [
    "#### Loading model and optimizer state to continue training"
   ]
  },
  {
   "cell_type": "code",
   "execution_count": null,
   "metadata": {},
   "outputs": [],
   "source": [
    "# Initialize Title-Image DistilFND class and assign to fn_detector variable\n",
    "fn_detector = FakeNewsDetector(len(CLASS_NAMES))\n",
    "# Initiliaze optimizer AdamW\n",
    "optimizer = AdamW(fn_detector.parameters(), lr=1e-5, correct_bias=False)\n",
    "\n",
    "# Load model checpoint after 10 epochs of first training run\n",
    "checkpoint = torch.load(\"/home/ubuntu/FakeNewsDetector/models/titleimage_research/checkpoints/title_detector_checkpoint_epoch_{epoch+1}.tar\")\n",
    "\n",
    "# Load model and optimizer state to continue training\n",
    "fn_detector.load_state_dict(checkpoint[\"model_state_dict\"])\n",
    "optimizer.load_state_dict(checkpoint[\"optimizer_state_dict\"])\n",
    "# Load epoch, val_loss and val_acc values for epoch 10 of first training run\n",
    "epoch = checkpoint[\"epoch\"]\n",
    "val_loss = checkpoint[\"val_loss\"]\n",
    "val_acc = checkpoint[\"val_acc\"]\n",
    "\n",
    "# Assign loaded Title-Image DistilFND to resource\n",
    "fn_detector.to(device)"
   ]
  },
  {
   "cell_type": "markdown",
   "metadata": {},
   "source": [
    "#### Second training run (15/20 epochs)"
   ]
  },
  {
   "cell_type": "code",
   "execution_count": 89,
   "metadata": {},
   "outputs": [
    {
     "name": "stdout",
     "output_type": "stream",
     "text": [
      "Epoch 11/10\n",
      "----------\n",
      "Training model in progress...\n",
      "----------\n"
     ]
    },
    {
     "data": {
      "application/vnd.jupyter.widget-view+json": {
       "model_id": "eb88efc33e0e4c64aac1e7eb3c33eaa0",
       "version_major": 2,
       "version_minor": 0
      },
      "text/plain": [
       "  0%|          | 0/5640 [00:00<?, ?it/s]"
      ]
     },
     "metadata": {},
     "output_type": "display_data"
    },
    {
     "name": "stderr",
     "output_type": "stream",
     "text": [
      "/home/ubuntu/anaconda3/envs/pytorch_latest_p37/lib/python3.7/site-packages/PIL/Image.py:974: UserWarning: Palette images with Transparency expressed in bytes should be converted to RGBA images\n",
      "  \"Palette images with Transparency expressed in bytes should be \"\n",
      "/home/ubuntu/anaconda3/envs/pytorch_latest_p37/lib/python3.7/site-packages/PIL/Image.py:974: UserWarning: Palette images with Transparency expressed in bytes should be converted to RGBA images\n",
      "  \"Palette images with Transparency expressed in bytes should be \"\n"
     ]
    },
    {
     "name": "stdout",
     "output_type": "stream",
     "text": [
      "Train loss 1.1614307280761975 | Accuracy 0.8943705673758866\n",
      "\n",
      "Validating model in progress...\n",
      "----------\n"
     ]
    },
    {
     "data": {
      "application/vnd.jupyter.widget-view+json": {
       "model_id": "8cc1fde2fba5458999f715fa485b7fd9",
       "version_major": 2,
       "version_minor": 0
      },
      "text/plain": [
       "  0%|          | 0/705 [00:00<?, ?it/s]"
      ]
     },
     "metadata": {},
     "output_type": "display_data"
    },
    {
     "name": "stdout",
     "output_type": "stream",
     "text": [
      "Val   loss 1.241796020920395 | Accuracy 0.8165780141843972\n",
      "\n",
      "Epoch 12/10\n",
      "----------\n",
      "Training model in progress...\n",
      "----------\n"
     ]
    },
    {
     "data": {
      "application/vnd.jupyter.widget-view+json": {
       "model_id": "8f625bb3a01b4060812e7e034b9fb2f1",
       "version_major": 2,
       "version_minor": 0
      },
      "text/plain": [
       "  0%|          | 0/5640 [00:00<?, ?it/s]"
      ]
     },
     "metadata": {},
     "output_type": "display_data"
    },
    {
     "name": "stderr",
     "output_type": "stream",
     "text": [
      "/home/ubuntu/anaconda3/envs/pytorch_latest_p37/lib/python3.7/site-packages/PIL/Image.py:974: UserWarning: Palette images with Transparency expressed in bytes should be converted to RGBA images\n",
      "  \"Palette images with Transparency expressed in bytes should be \"\n",
      "/home/ubuntu/anaconda3/envs/pytorch_latest_p37/lib/python3.7/site-packages/PIL/Image.py:974: UserWarning: Palette images with Transparency expressed in bytes should be converted to RGBA images\n",
      "  \"Palette images with Transparency expressed in bytes should be \"\n"
     ]
    },
    {
     "name": "stdout",
     "output_type": "stream",
     "text": [
      "Train loss 1.1615989386401278 | Accuracy 0.8945478723404255\n",
      "\n",
      "Validating model in progress...\n",
      "----------\n"
     ]
    },
    {
     "data": {
      "application/vnd.jupyter.widget-view+json": {
       "model_id": "213c05cbae784d1ea2d137d0b5ad0fa1",
       "version_major": 2,
       "version_minor": 0
      },
      "text/plain": [
       "  0%|          | 0/705 [00:00<?, ?it/s]"
      ]
     },
     "metadata": {},
     "output_type": "display_data"
    },
    {
     "name": "stdout",
     "output_type": "stream",
     "text": [
      "Val   loss 1.2449724488224543 | Accuracy 0.8137411347517731\n",
      "\n",
      "INFO: Early stopping counter 1 of 4.\n",
      "Epoch 13/10\n",
      "----------\n",
      "Training model in progress...\n",
      "----------\n"
     ]
    },
    {
     "data": {
      "application/vnd.jupyter.widget-view+json": {
       "model_id": "3a4bd79d15c54330abfb4ca8daf09751",
       "version_major": 2,
       "version_minor": 0
      },
      "text/plain": [
       "  0%|          | 0/5640 [00:00<?, ?it/s]"
      ]
     },
     "metadata": {},
     "output_type": "display_data"
    },
    {
     "name": "stderr",
     "output_type": "stream",
     "text": [
      "/home/ubuntu/anaconda3/envs/pytorch_latest_p37/lib/python3.7/site-packages/PIL/Image.py:974: UserWarning: Palette images with Transparency expressed in bytes should be converted to RGBA images\n",
      "  \"Palette images with Transparency expressed in bytes should be \"\n",
      "/home/ubuntu/anaconda3/envs/pytorch_latest_p37/lib/python3.7/site-packages/PIL/Image.py:974: UserWarning: Palette images with Transparency expressed in bytes should be converted to RGBA images\n",
      "  \"Palette images with Transparency expressed in bytes should be \"\n"
     ]
    },
    {
     "name": "stdout",
     "output_type": "stream",
     "text": [
      "Train loss 1.160750805084587 | Accuracy 0.8954454787234043\n",
      "\n",
      "Validating model in progress...\n",
      "----------\n"
     ]
    },
    {
     "data": {
      "application/vnd.jupyter.widget-view+json": {
       "model_id": "4f3419a2bcdb4605ad6d1e1585a5d598",
       "version_major": 2,
       "version_minor": 0
      },
      "text/plain": [
       "  0%|          | 0/705 [00:00<?, ?it/s]"
      ]
     },
     "metadata": {},
     "output_type": "display_data"
    },
    {
     "name": "stdout",
     "output_type": "stream",
     "text": [
      "Val   loss 1.2435817661014854 | Accuracy 0.8145390070921986\n",
      "\n",
      "INFO: Early stopping counter 2 of 4.\n",
      "Epoch 14/10\n",
      "----------\n",
      "Training model in progress...\n",
      "----------\n"
     ]
    },
    {
     "data": {
      "application/vnd.jupyter.widget-view+json": {
       "model_id": "4f9dec82d5804dc583b6082f2e217488",
       "version_major": 2,
       "version_minor": 0
      },
      "text/plain": [
       "  0%|          | 0/5640 [00:00<?, ?it/s]"
      ]
     },
     "metadata": {},
     "output_type": "display_data"
    },
    {
     "name": "stderr",
     "output_type": "stream",
     "text": [
      "/home/ubuntu/anaconda3/envs/pytorch_latest_p37/lib/python3.7/site-packages/PIL/Image.py:974: UserWarning: Palette images with Transparency expressed in bytes should be converted to RGBA images\n",
      "  \"Palette images with Transparency expressed in bytes should be \"\n",
      "/home/ubuntu/anaconda3/envs/pytorch_latest_p37/lib/python3.7/site-packages/PIL/Image.py:974: UserWarning: Palette images with Transparency expressed in bytes should be converted to RGBA images\n",
      "  \"Palette images with Transparency expressed in bytes should be \"\n"
     ]
    },
    {
     "name": "stdout",
     "output_type": "stream",
     "text": [
      "Train loss 1.1613913071705095 | Accuracy 0.8946143617021277\n",
      "\n",
      "Validating model in progress...\n",
      "----------\n"
     ]
    },
    {
     "data": {
      "application/vnd.jupyter.widget-view+json": {
       "model_id": "cfa1d430a5ff4c3c82631d5a8dc20843",
       "version_major": 2,
       "version_minor": 0
      },
      "text/plain": [
       "  0%|          | 0/705 [00:00<?, ?it/s]"
      ]
     },
     "metadata": {},
     "output_type": "display_data"
    },
    {
     "name": "stdout",
     "output_type": "stream",
     "text": [
      "Val   loss 1.2434110810570682 | Accuracy 0.8153368794326241\n",
      "\n",
      "INFO: Early stopping counter 3 of 4.\n",
      "Epoch 15/10\n",
      "----------\n",
      "Training model in progress...\n",
      "----------\n"
     ]
    },
    {
     "data": {
      "application/vnd.jupyter.widget-view+json": {
       "model_id": "124593f374004d1dbfcc66b30b56b40c",
       "version_major": 2,
       "version_minor": 0
      },
      "text/plain": [
       "  0%|          | 0/5640 [00:00<?, ?it/s]"
      ]
     },
     "metadata": {},
     "output_type": "display_data"
    },
    {
     "name": "stderr",
     "output_type": "stream",
     "text": [
      "/home/ubuntu/anaconda3/envs/pytorch_latest_p37/lib/python3.7/site-packages/PIL/Image.py:974: UserWarning: Palette images with Transparency expressed in bytes should be converted to RGBA images\n",
      "  \"Palette images with Transparency expressed in bytes should be \"\n",
      "/home/ubuntu/anaconda3/envs/pytorch_latest_p37/lib/python3.7/site-packages/PIL/Image.py:974: UserWarning: Palette images with Transparency expressed in bytes should be converted to RGBA images\n",
      "  \"Palette images with Transparency expressed in bytes should be \"\n"
     ]
    },
    {
     "name": "stdout",
     "output_type": "stream",
     "text": [
      "Train loss 1.1613450073815406 | Accuracy 0.8947916666666668\n",
      "\n",
      "Validating model in progress...\n",
      "----------\n"
     ]
    },
    {
     "data": {
      "application/vnd.jupyter.widget-view+json": {
       "model_id": "8df510383c964838af0a3d6c209d46e1",
       "version_major": 2,
       "version_minor": 0
      },
      "text/plain": [
       "  0%|          | 0/705 [00:00<?, ?it/s]"
      ]
     },
     "metadata": {},
     "output_type": "display_data"
    },
    {
     "name": "stdout",
     "output_type": "stream",
     "text": [
      "Val   loss 1.243348542172858 | Accuracy 0.8154255319148936\n",
      "\n",
      "INFO: Early stopping counter 4 of 4.\n",
      "INFO: Early Stopping!\n",
      "\n",
      "Completed Training!\n",
      "--------------------\n",
      "CPU times: user 3h 7min 20s, sys: 43min 47s, total: 3h 51min 8s\n",
      "Wall time: 3h 48min 22s\n"
     ]
    }
   ],
   "source": [
    "%%time\n",
    "\n",
    "# Initializing training history dictionary and best_accuracy variable\n",
    "# No new history dictionary is initialized to append values to dicitionary from first run\n",
    "# history = defaultdict(list)\n",
    "best_accuracy = 0\n",
    "\n",
    "# Iteration times the total number of epochs\n",
    "for epoch in range(EPOCHS):\n",
    "\n",
    "    print(f\"Epoch {epoch + 11}/{EPOCHS}\")\n",
    "    print(\"-\" * 10)\n",
    "\n",
    "    # Calling train_model() function, returns train_acc and train_loss\n",
    "    train_acc, train_loss = train_model(\n",
    "        fn_detector,\n",
    "        train_data_loader,\n",
    "        loss_function,\n",
    "        optimizer,\n",
    "        device,\n",
    "        scheduler,\n",
    "        len(df_train)\n",
    "    )\n",
    "\n",
    "    # Print train_loss and train_acc values for current epoch\n",
    "    print(f\"Train loss {train_loss} | Accuracy {train_acc}\")\n",
    "    print()\n",
    "\n",
    "    # Calling evaluate_model() function, returns val_acc and val_loss\n",
    "    val_acc, val_loss = evaluate_model(\n",
    "            fn_detector,\n",
    "            validate_data_loader,\n",
    "            loss_function,\n",
    "            device,\n",
    "            len(df_validate)\n",
    "    )\n",
    "\n",
    "    # Print val_loss and val_acc values for current epoch\n",
    "    print(f\"Val   loss {val_loss} | Accuracy {val_acc}\")\n",
    "    print()\n",
    "\n",
    "    # Save current values of train_acc, val_acc, train_loss and val_loss\n",
    "    # in respective keys of history dictionary for later analysis\n",
    "    history[\"train_acc\"].append(train_acc)\n",
    "    history[\"train_loss\"].append(train_loss)\n",
    "    history[\"val_acc\"].append(val_acc)\n",
    "    history[\"val_loss\"].append(val_loss)\n",
    "\n",
    "    # Feed current val_loss to LRScheduler and Early Stopping\n",
    "    # for evaluation\n",
    "    lr_scheduler(val_loss)\n",
    "    early_stopping(val_loss)\n",
    "    # If val_loss increases in 4 consecutive epochs, abort training procedure\n",
    "    if early_stopping.early_stop:\n",
    "        break\n",
    "\n",
    "    # Saving model checkpoint as dictionary and .tar file for continuing inference\n",
    "    # Saving keys for current epoch, model state, optimizer state, val_acc and val_loss\n",
    "    torch.save({\n",
    "        \"epoch\": epoch+11,\n",
    "        \"model_state_dict\": fn_detector.state_dict(),\n",
    "        \"optimizer_state_dict\": optimizer.state_dict(),\n",
    "        \"val_acc\": val_acc,\n",
    "        \"val_loss\": val_loss\n",
    "    }, f\"/home/ubuntu/FakeNewsDetector/models/titleimage_research/checkpoints/title_detector_checkpoint_epoch_{epoch+11}.tar\")\n",
    "\n",
    "    # If val_acc has increased compared to previous epoch, complete model .pth file is saved\n",
    "    if val_acc > best_accuracy:\n",
    "        torch.save(fn_detector.state_dict(), f\"/home/ubuntu/FakeNewsDetector/models/titleimage_research/best_title_detector_epoch_{epoch+11}.pth\")\n",
    "        best_accuracy = val_acc\n",
    "\n",
    "# Print output when training procedure completed\n",
    "print()\n",
    "print(\"Completed Training!\")\n",
    "print(\"-\" * 20)"
   ]
  },
  {
   "cell_type": "markdown",
   "metadata": {},
   "source": [
    "Plotting and visualizing training history - `train_acc` vs. `val_acc` curves across *15*/*20* epochs. Accuracy values need to increase over time. Validation accuracy is a first indicator for model's capability to generalize, but needs confirmation on unseen data, e.g. test data split."
   ]
  },
  {
   "cell_type": "code",
   "execution_count": 90,
   "metadata": {
    "id": "gQNu_V64tEgp"
   },
   "outputs": [
    {
     "data": {
      "image/png": "[encoded data removed]",
      "text/plain": [
       "<Figure size 864x576 with 1 Axes>"
      ]
     },
     "metadata": {
      "image/png": {
       "height": 506,
       "width": 740
      }
     },
     "output_type": "display_data"
    }
   ],
   "source": [
    "# Initializing accuracy plot name\n",
    "acc_plot_name = \"titleimage_detector_accuracy_training_results_15epochs\"\n",
    "\n",
    "# Plotting Training History per epoch (Accuracy) for Title-Image DistilFND\n",
    "CLASSIFIER_STYLE = \"Title + Images\"\n",
    "\n",
    "# Plotting training and validation accuracy curves across 20 epochs\n",
    "plt.plot(history[\"train_acc\"], color=\"green\", label=\"Training Accuracy\")\n",
    "plt.plot(history[\"val_acc\"], color=\"red\", label=\"Validation Accuracy\")\n",
    "\n",
    "plt.title(\"Training History - {classifier}\".format(classifier=CLASSIFIER_STYLE))\n",
    "# Defining x- and y-axis labels\n",
    "plt.ylabel(\"Accuracy\")\n",
    "plt.xlabel(\"Epochs\")\n",
    "# Setting x- and y-axis scale\n",
    "plt.ylim([0.7, 1])\n",
    "plt.xlim([0, 15])\n",
    "plt.legend()\n",
    "# Saving plotted graph as jpg file\n",
    "plt.savefig(f\"/home/ubuntu/FakeNewsDetector/models/titleimage_research/{acc_plot_name}.jpg\")\n",
    "plt.show()"
   ]
  },
  {
   "cell_type": "code",
   "execution_count": 102,
   "metadata": {
    "id": "uDAh5F7Kt9XH"
   },
   "outputs": [
    {
     "data": {
      "image/png": "[encoded data removed]",
      "text/plain": [
       "<Figure size 864x576 with 1 Axes>"
      ]
     },
     "metadata": {
      "image/png": {
       "height": 506,
       "width": 740
      }
     },
     "output_type": "display_data"
    }
   ],
   "source": [
    "# Initializing loss plot name\n",
    "loss_plot_name = \"titleimage_detector_loss_training_results_15epochs\"\n",
    "\n",
    "# Plotting Training History per epoch (Loss) for Title-Image DistilFND\n",
    "CLASSIFIER_STYLE = \"Title + Images\"\n",
    "\n",
    "plt.plot(history[\"train_loss\"], color=\"blue\", label=\"Training Loss\")\n",
    "plt.plot(history[\"val_loss\"], color=\"orange\", label=\"Validation Loss\")\n",
    "\n",
    "plt.title(\"Training History - {classifier}\".format(classifier=CLASSIFIER_STYLE))\n",
    "# Defining x- and y-axis labels\n",
    "plt.ylabel(\"Cross Entropy Loss\")\n",
    "plt.xlabel(\"Epochs\")\n",
    "# Setting x- and y-axis scale\n",
    "plt.ylim([1, 1.4])\n",
    "plt.xlim([0, 15])\n",
    "plt.legend()\n",
    "# Saving plotted graph as jpg file\n",
    "plt.savefig(f\"/home/ubuntu/FakeNewsDetector/results/titleimage_research/{loss_plot_name}.jpg\")\n",
    "plt.show()"
   ]
  },
  {
   "cell_type": "markdown",
   "metadata": {},
   "source": [
    "# Testing Title-Image DistilFND model"
   ]
  },
  {
   "cell_type": "markdown",
   "metadata": {},
   "source": [
    "`test_model()` function is used to evaluate model performance on previously unseen and unknown data. Hence, the training error is an indication for the model's capability to generalize well. For comparison of DistilFND model variants within the ablation study, the `test_acc` and `test_loss` values are used. Testing procedure is conducted for one iteration on test data split with identical size to validation data split.\n",
    "- `params`: model (Title-Image DistilFND)\n",
    "- `params`: data_loader (PyTorch sample DataLoader)\n",
    "- `params`: loss_function (weighted Cross Entropy Loss)\n",
    "- `params`: device (either GPU or CPU resource)\n",
    "- `params`: num_examples (count of batches of respective data split containing a total of 16 samples)\n",
    "- `returns`: test accuracy `test_acc` (`correct_preds.double() / num_examples`)\n",
    "- `returns`: mean of test loss value `val_loss`\n",
    "- `returns`: actual `post_titles` input sequences\n",
    "- `returns`: model `predictions` per sample in batch\n",
    "- `returns`: prediction distribution `prediction_probs` across classes per sample per batch\n",
    "- `returns`: ground truth labels `real_labels` per sample in batch"
   ]
  },
  {
   "cell_type": "code",
   "execution_count": 92,
   "metadata": {
    "id": "3-uXdpP3uJZf"
   },
   "outputs": [],
   "source": [
    "def test_model(model, data_loader, loss_function, device, num_examples):\n",
    "    print(\"Testing model in progress...\")\n",
    "    print(\"-\" * 10)\n",
    "    \n",
    "    # Switching off regularization and normalization layers for evaluation mode\n",
    "    # Hence, no model parameters are adjusted. Model is evaluated in current state\n",
    "    model.eval()\n",
    "\n",
    "    # Initializing list of test_losses and correct_preds\n",
    "    test_losses = []\n",
    "    correct_preds = 0\n",
    "    \n",
    "    # Initializing lists for post_titles, predictions,\n",
    "    # prediction_probs and real_labels\n",
    "    post_titles = []\n",
    "    predictions = []\n",
    "    prediction_probs = []\n",
    "    real_labels = []\n",
    "    \n",
    "    # Skipping gradient calulation over weights --> Not needed, because\n",
    "    # no parameters are updated and significantly speeds up iteration over samples batches\n",
    "    with torch.no_grad():\n",
    "        # Iteration over data (batches) contained in data split set DataLoader\n",
    "        for data in tqdm(data_loader):\n",
    "            \n",
    "            # Initializing post title, input_ids, attention_mask,\n",
    "            # image and label per Reddit-Post and assigning to device\n",
    "            titles = data[\"title\"]\n",
    "            input_ids = data[\"input_ids\"].to(device)\n",
    "            attention_mask = data[\"attention_mask\"].to(device)\n",
    "            images = data[\"image\"].to(device)\n",
    "            labels = data[\"label\"].to(device)\n",
    "            \n",
    "            # Feeding input data to trained Title-Image DistilFND\n",
    "            outputs = model(\n",
    "                title_input_ids = input_ids,\n",
    "                title_attention_mask = attention_mask,\n",
    "                image = images\n",
    "            )\n",
    "            \n",
    "            # Final Softmax layer returns class predictions per sample in batch\n",
    "            # Highest probability value resembles class prediction and is assigned to preds variable\n",
    "            _, preds = torch.max(outputs, dim=1)\n",
    "\n",
    "            # Test loss is calculated by applying weighted Cross Entropy Loss\n",
    "            # on comparison between predicted label and ground truth label\n",
    "            test_loss = loss_function(outputs, labels)\n",
    "\n",
    "            # Counting correct model predictions and incrementing correct prediction count\n",
    "            correct_preds += torch.sum(preds == labels)\n",
    "\n",
    "            # Appending current test loss per batch\n",
    "            # to list of test losses\n",
    "            test_losses.append(test_loss.item())\n",
    "            \n",
    "            # Append calulated values for sample to list of values per sample\n",
    "            post_titles.extend(titles)\n",
    "            predictions.extend(preds)\n",
    "            prediction_probs.extend(outputs)\n",
    "            real_labels.extend(labels)\n",
    "    \n",
    "    # Stack and concatenate calulated test values per batch\n",
    "    test_acc = correct_preds.double() / num_examples\n",
    "    test_loss = np.mean(test_losses)\n",
    "    predictions = torch.stack(predictions)\n",
    "    prediction_probs = torch.stack(prediction_probs)\n",
    "    real_labels = torch.stack(real_labels)\n",
    "    \n",
    "    # Return test_acc, test_loss, post_titles, predictions, prediction_probs, real_labels\n",
    "    return test_acc, test_loss, post_titles, predictions, prediction_probs, real_labels"
   ]
  },
  {
   "cell_type": "markdown",
   "metadata": {},
   "source": [
    "Calling `test_model()` function to test model's generalization capability after training procedure is concluded. Respective return values are saved in test_acc, test_loss is ignored, post_titles, y_preds, y_prediction_probs and y_test for gound truth labels."
   ]
  },
  {
   "cell_type": "code",
   "execution_count": 93,
   "metadata": {
    "id": "Hx6QjE5FuSnS"
   },
   "outputs": [
    {
     "name": "stdout",
     "output_type": "stream",
     "text": [
      "Testing model in progress...\n",
      "----------\n"
     ]
    },
    {
     "data": {
      "application/vnd.jupyter.widget-view+json": {
       "model_id": "2567d1c31d7a48819edfa71f3e1a9c66",
       "version_major": 2,
       "version_minor": 0
      },
      "text/plain": [
       "  0%|          | 0/705 [00:00<?, ?it/s]"
      ]
     },
     "metadata": {},
     "output_type": "display_data"
    },
    {
     "name": "stderr",
     "output_type": "stream",
     "text": [
      "/home/ubuntu/anaconda3/envs/pytorch_latest_p37/lib/python3.7/site-packages/PIL/Image.py:974: UserWarning: Palette images with Transparency expressed in bytes should be converted to RGBA images\n",
      "  \"Palette images with Transparency expressed in bytes should be \"\n"
     ]
    },
    {
     "name": "stdout",
     "output_type": "stream",
     "text": [
      "Model testing accuracy for classifier: Title + Images = 0.8191489361702128%\n"
     ]
    }
   ],
   "source": [
    "# Testing model on test data split and initilaizing test values\n",
    "test_acc, _, post_titles, y_preds, y_prediction_probs, y_test = test_model(\n",
    "    fn_detector,\n",
    "    test_data_loader,\n",
    "    loss_function,\n",
    "    device,\n",
    "    len(df_test)\n",
    ")\n",
    "\n",
    "# Printing model test accuracy\n",
    "print(f\"Model testing accuracy for classifier: {CLASSIFIER_STYLE} = {test_acc}%\")"
   ]
  },
  {
   "cell_type": "markdown",
   "metadata": {},
   "source": [
    "Sckit-learn `Classification Report` returns defined average weighted evaluation metrics `precision`, `recall` and `f1-score` across all classes as well as class specific evaluation metrics. Those metrics are used to analyse models classification capability across all classes and class-specific."
   ]
  },
  {
   "cell_type": "code",
   "execution_count": 94,
   "metadata": {
    "id": "4N1oYtm4uT9W"
   },
   "outputs": [
    {
     "name": "stdout",
     "output_type": "stream",
     "text": [
      "                 precision    recall  f1-score   support\n",
      "\n",
      "           True       0.81      0.87      0.84      4442\n",
      "         Satire       0.67      0.53      0.59       670\n",
      "    False Conn.       0.75      0.73      0.74      2144\n",
      "Impost. Content       0.49      0.26      0.34       235\n",
      "   Man. Content       0.92      0.93      0.93      3358\n",
      "   Mis. Content       0.72      0.65      0.68       431\n",
      "\n",
      "       accuracy                           0.82     11280\n",
      "      macro avg       0.73      0.66      0.69     11280\n",
      "   weighted avg       0.81      0.82      0.81     11280\n",
      "\n"
     ]
    }
   ],
   "source": [
    "# Plotting classification report\n",
    "print(classification_report(y_test.cpu(), y_preds.cpu(), target_names=CLASS_NAMES))"
   ]
  },
  {
   "cell_type": "markdown",
   "metadata": {},
   "source": [
    "`Confusion Matrix` provides an detailed view on how many Reddit-Post samples of each class are classified correctly and if not classified correctly, as which class a given Reddit-Post is classified. On the *y*-axis the actual ground truth labels per Reddit-Post are displayed, and the predicted labels by the model are given on the *x*-axis. Values indicate models capability to correctly differentiate between classes of defined classification problem. Ultimate goal is to shift all numeric sample counts to the diagonal of the confusion matrix. Color intensity gives an indication, if a large portion of given class samples are correctly classified. Sum of numeric values per row, returns the total number of samples per class."
   ]
  },
  {
   "cell_type": "code",
   "execution_count": 95,
   "metadata": {
    "id": "VliscipmuVSe"
   },
   "outputs": [
    {
     "data": {
      "image/png": "[encoded data removed]",
      "text/plain": [
       "<Figure size 864x576 with 2 Axes>"
      ]
     },
     "metadata": {
      "image/png": {
       "height": 541,
       "width": 782
      }
     },
     "output_type": "display_data"
    }
   ],
   "source": [
    "# Initialize confusion matrix plot name\n",
    "cm_plot_name = \"titleimage_detector_testing_confusion_matrix_15epochs\"\n",
    "\n",
    "# Function to generate and plot confusion matrix for Title-Image DistilFND\n",
    "def plot_confusion_matrix(confusion_matrix):\n",
    "    hmap = sns.heatmap(confusion_matrix, annot=True, fmt=\"d\", cmap=\"Purples\")\n",
    "    hmap.yaxis.set_ticklabels(hmap.yaxis.get_ticklabels(), rotation=0, ha=\"right\")\n",
    "    hmap.xaxis.set_ticklabels(hmap.xaxis.get_ticklabels(), rotation=30, ha=\"right\")\n",
    "    # Set x- and y-axis labels\n",
    "    plt.ylabel(\"Fakeddit Dataset Label\")\n",
    "    plt.xlabel(\"Predicted Label\")\n",
    "    # Tighten layout of confusion matrix\n",
    "    plt.tight_layout\n",
    "    # Save confusion matrix in jpg format\n",
    "    plt.savefig(f\"/home/ubuntu/FakeNewsDetector/results/titleimage_research/{cm_plot_name}.jpg\", bbox_inches=\"tight\")\n",
    "\n",
    "# Initialize confusion_matrix with y_test (ground truth labels) and predicted labels\n",
    "cm = confusion_matrix(y_test.cpu(), y_preds.cpu())\n",
    "# Plot and show resulting confusion matrix for Title-Image DistilFND\n",
    "df_cm = pd.DataFrame(cm, index=CLASS_NAMES, columns=CLASS_NAMES)\n",
    "plot_confusion_matrix(df_cm)"
   ]
  },
  {
   "cell_type": "markdown",
   "metadata": {},
   "source": [
    "`Cohen Kappa` score quantifies the inter-rater reliability of two raters rating an identical dataset. A large alignment of *1* or *100%* indicates that two raters separately classify each sample identically. In this context here, the `Cohen Kappa` score gives an indication of how much the predicted labels by the model are in alignment with the ground truth labels labeled by two researchers for the `Fakeddit` benchmark dataset. Hence, the Title DistilFND has an inter-rater alignment with the `Fakeddit` dataset of roughly *74,33%*."
   ]
  },
  {
   "cell_type": "code",
   "execution_count": 96,
   "metadata": {
    "id": "32u7z1LSudbR"
   },
   "outputs": [
    {
     "name": "stdout",
     "output_type": "stream",
     "text": [
      "0.7432996703820605\n"
     ]
    }
   ],
   "source": [
    "# Calculating and printing Cohen Kappa Score\n",
    "print(cohen_kappa_score(y_preds.cpu(), y_test.cpu()))"
   ]
  },
  {
   "cell_type": "markdown",
   "metadata": {},
   "source": [
    "Calulating the `receiver operating characteristic (ROC)` and `area under the curve (AUC)` scores for the Title DistilFND model. This gives an indication of the model's capability to separate between given classes by leveraging the `One-vs-One-Algorithm (OVO)`, which convrts the multi-class problem into a binary classification problem by calculating every pairwise combination of classes within the *6* defined classes. A value of *1* or *100%* indicates that the model has perfect separation capability and correctly classifies all samples, the goal then is to converge the `ROC-AUC` score towards *1* or *100%*. For comparison of different model variants of DistilFND, the `One-vs-One ROC-AUC score weighted by prevalence` is leveraged due to the highly imabalanced `Fakeddit` dataset. This minimizes the proportionally large effect on the evaluation criteria by an underrepresented class with only comparably view samples. Th weighted metrics are also used in above classification report in order to normalize the evaluation metrics across classes."
   ]
  },
  {
   "cell_type": "code",
   "execution_count": 97,
   "metadata": {
    "id": "kS--bfw_ueEn"
   },
   "outputs": [],
   "source": [
    "# Importing needed modules to calculate ROC-AUC scores\n",
    "from sklearn.metrics import roc_curve, auc, roc_auc_score\n",
    "from sklearn.preprocessing import label_binarize\n",
    "from sklearn.multiclass import OneVsRestClassifier\n",
    "from scipy import interp"
   ]
  },
  {
   "cell_type": "code",
   "execution_count": 98,
   "metadata": {},
   "outputs": [
    {
     "name": "stdout",
     "output_type": "stream",
     "text": [
      "One-vs-One ROC AUC scores:\n",
      "0.870805 (macro),\n",
      "0.904594 (weighted by prevalence)\n",
      "One-vs-Rest ROC AUC scores:\n",
      "0.908590 (macro),\n",
      "0.935831 (weighted by prevalence)\n"
     ]
    }
   ],
   "source": [
    "# Calculating ROC-AUC-Score with One-vs-One and One-vsRest algorithms, regular and weighted by prevalence\n",
    "macro_roc_auc_ovo = roc_auc_score(y_test.cpu(), y_prediction_probs.cpu(), multi_class=\"ovo\", average=\"macro\")\n",
    "# weighted_roc_auc_ovo is used for comparison of model variants of DistilFND\n",
    "weighted_roc_auc_ovo = roc_auc_score(y_test.cpu(), y_prediction_probs.cpu(), multi_class=\"ovo\", average=\"weighted\")\n",
    "macro_roc_auc_ovr = roc_auc_score(y_test.cpu(), y_prediction_probs.cpu(), multi_class=\"ovr\", average=\"macro\")\n",
    "weighted_roc_auc_ovr = roc_auc_score(y_test.cpu(), y_prediction_probs.cpu(), multi_class=\"ovr\", average=\"weighted\")\n",
    "\n",
    "print(\"One-vs-One ROC AUC scores:\\n{:.6f} (macro),\\n{:.6f} \"\n",
    "      \"(weighted by prevalence)\"\n",
    "      .format(macro_roc_auc_ovo, weighted_roc_auc_ovo))\n",
    "print(\"One-vs-Rest ROC AUC scores:\\n{:.6f} (macro),\\n{:.6f} \"\n",
    "      \"(weighted by prevalence)\"\n",
    "      .format(macro_roc_auc_ovr, weighted_roc_auc_ovr))"
   ]
  }
 ],
 "metadata": {
  "colab": {
   "authorship_tag": "ABX9TyOPKJ8+U2sFLxeG6qlNmff6",
   "collapsed_sections": [],
   "name": "titleimage_detector.ipynb",
   "provenance": []
  },
  "kernelspec": {
   "display_name": "Python 3",
   "language": "python",
   "name": "python3"
  },
  "language_info": {
   "codemirror_mode": {
    "name": "ipython",
    "version": 3
   },
   "file_extension": ".py",
   "mimetype": "text/x-python",
   "name": "python",
   "nbconvert_exporter": "python",
   "pygments_lexer": "ipython3",
   "version": "3.8.10"
  }
 },
 "nbformat": 4,
 "nbformat_minor": 1
}
