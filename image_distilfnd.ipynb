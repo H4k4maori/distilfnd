{
 "cells": [
  {
   "cell_type": "markdown",
   "id": "a2c9e012",
   "metadata": {},
   "source": [
    "# Image DistilFND model variant"
   ]
  },
  {
   "cell_type": "markdown",
   "id": "fc2dc3de",
   "metadata": {},
   "source": [
    "`Image DistilFND` extracts signficant visual features from Reddit-post image only in order to learn to classify Reddit-Posts from `Fakeddit`benchmark dataset after *Nakamura et al. (2020)*. The `Image-Feature Extractor` leverages a pre-trained `ResNet34` model after *He et al. (2015)* trained on the `ImageNet 2012` benchmark dataset for image classification tasks. The model tries to reach a high generalzation capability by correctly classifing sample posts across *6* defined classes: authentic/true news content, Satire / Parody, content with false connection, imposter content, manipulated content and misleading content. Only the ladder *4* content types are to be understood as Fake News, whereas authentic/true content and Satire / Parody are to be understood as Authentic Content in terms of a *2*-way-classification task."
   ]
  },
  {
   "cell_type": "markdown",
   "id": "f8a98d79",
   "metadata": {},
   "source": [
    "# Preparational steps"
   ]
  },
  {
   "cell_type": "markdown",
   "id": "d0a273e1",
   "metadata": {},
   "source": [
    "Checking information about attached GPU resource."
   ]
  },
  {
   "cell_type": "code",
   "execution_count": 1,
   "id": "rotary-asset",
   "metadata": {},
   "outputs": [
    {
     "name": "stdout",
     "output_type": "stream",
     "text": [
      "Sat Sep  4 14:18:01 2021       \r\n",
      "+-----------------------------------------------------------------------------+\r\n",
      "| NVIDIA-SMI 450.142.00   Driver Version: 450.142.00   CUDA Version: 11.0     |\r\n",
      "|-------------------------------+----------------------+----------------------+\r\n",
      "| GPU  Name        Persistence-M| Bus-Id        Disp.A | Volatile Uncorr. ECC |\r\n",
      "| Fan  Temp  Perf  Pwr:Usage/Cap|         Memory-Usage | GPU-Util  Compute M. |\r\n",
      "|                               |                      |               MIG M. |\r\n",
      "|===============================+======================+======================|\r\n",
      "|   0  Tesla K80           On   | 00000000:00:1E.0 Off |                    0 |\r\n",
      "| N/A   46C    P0    74W / 149W |   4738MiB / 11441MiB |      0%      Default |\r\n",
      "|                               |                      |                  N/A |\r\n",
      "+-------------------------------+----------------------+----------------------+\r\n",
      "                                                                               \r\n",
      "+-----------------------------------------------------------------------------+\r\n",
      "| Processes:                                                                  |\r\n",
      "|  GPU   GI   CI        PID   Type   Process name                  GPU Memory |\r\n",
      "|        ID   ID                                                   Usage      |\r\n",
      "|=============================================================================|\r\n",
      "|    0   N/A  N/A     29175      C   ...rch_latest_p37/bin/python     4733MiB |\r\n",
      "+-----------------------------------------------------------------------------+\r\n"
     ]
    }
   ],
   "source": [
    "!nvidia-smi"
   ]
  },
  {
   "cell_type": "markdown",
   "id": "a223fc95",
   "metadata": {},
   "source": [
    "Importing needed modules"
   ]
  },
  {
   "cell_type": "code",
   "execution_count": 2,
   "id": "forward-worst",
   "metadata": {},
   "outputs": [],
   "source": [
    "import os\n",
    "import numpy as np\n",
    "import keras\n",
    "import pandas as pd\n",
    "from tqdm.notebook import tqdm\n",
    "from collections import defaultdict\n",
    "from textwrap import wrap\n",
    "from PIL import Image, ImageFile, UnidentifiedImageError\n",
    "# Increasing maximum limit size for pixels per input image\n",
    "ImageFile.LOAD_TRUNCATED_IMAGES = True\n",
    "Image.MAX_IMAGE_PIXELS = 933120000"
   ]
  },
  {
   "cell_type": "code",
   "execution_count": 4,
   "id": "black-edition",
   "metadata": {},
   "outputs": [],
   "source": [
    "# Importing Pytorch and transformers from HuggingFace\n",
    "import torch\n",
    "# Import nn module for building stacked layers and optimizers\n",
    "from torch import nn, optim\n",
    "import torchvision\n",
    "from torchvision import datasets, models, transforms\n",
    "# Import modules for dataset configuration and loading\n",
    "from torch.utils.data import Dataset, DataLoader\n",
    "from transformers import AdamW, get_linear_schedule_with_warmup\n",
    "import torch.optim.lr_scheduler as lr_scheduler"
   ]
  },
  {
   "cell_type": "code",
   "execution_count": 3,
   "id": "included-induction",
   "metadata": {},
   "outputs": [],
   "source": [
    "# Importing modules for model evaluation\n",
    "from sklearn.metrics import confusion_matrix, classification_report, cohen_kappa_score\n",
    "import sklearn\n",
    "from sklearn.model_selection import train_test_split"
   ]
  },
  {
   "cell_type": "code",
   "execution_count": 7,
   "id": "executive-tonight",
   "metadata": {},
   "outputs": [],
   "source": [
    "# Importing visualization tools\n",
    "import seaborn as sns\n",
    "from pylab import rcParams\n",
    "import matplotlib.pyplot as plt\n",
    "from matplotlib import rc\n",
    "\n",
    "# Setting style of matplotlib graphic visualization\n",
    "%matplotlib inline\n",
    "%config InlineBackend.figure_format=\"retina\"\n",
    "\n",
    "# Setting style of seaborn graphic visualization\n",
    "sns.set(style=\"whitegrid\", palette=\"muted\", font_scale=1.2)\n",
    "COLOR_PALETTE = [\"#01BEFE\", \"#FFDD00\", \"#FF7D00\", \"#FF006D\", \"#ADFF02\", \"#8F00FF\"]\n",
    "sns.set_palette(sns.color_palette(COLOR_PALETTE))\n",
    "\n",
    "# Setting parameter figure sizes\n",
    "rcParams[\"figure.figsize\"] = 12, 8"
   ]
  },
  {
   "cell_type": "markdown",
   "id": "09f2c7b5",
   "metadata": {},
   "source": [
    "Checking if GPU resource is accessible."
   ]
  },
  {
   "cell_type": "code",
   "execution_count": 5,
   "id": "registered-memphis",
   "metadata": {},
   "outputs": [
    {
     "data": {
      "text/plain": [
       "True"
      ]
     },
     "execution_count": 5,
     "metadata": {},
     "output_type": "execute_result"
    }
   ],
   "source": [
    "torch.cuda.is_available()"
   ]
  },
  {
   "cell_type": "code",
   "execution_count": 6,
   "id": "clear-reunion",
   "metadata": {},
   "outputs": [
    {
     "name": "stdout",
     "output_type": "stream",
     "text": [
      "GPU is allocated.\n"
     ]
    }
   ],
   "source": [
    "# Assigning available ressource to device variable, preferrably GPU resource\n",
    "device = torch.device(\"cuda:0\" if torch.cuda.is_available() else \"cpu\")\n",
    "\n",
    "# Print out if GPU or CPU is allocated\n",
    "if str(device) == \"cpu\":\n",
    "    print(\"CPU is allocated.\")\n",
    "else:\n",
    "    print(\"GPU is allocated.\")"
   ]
  },
  {
   "cell_type": "markdown",
   "id": "32aa445b",
   "metadata": {},
   "source": [
    "# Initializing and preparing Fakeddit-Benchmark dataset"
   ]
  },
  {
   "cell_type": "markdown",
   "id": "e2b82598",
   "metadata": {},
   "source": [
    "Helper function to read in tsv files and return clean pandas dataframe."
   ]
  },
  {
   "cell_type": "code",
   "execution_count": 8,
   "id": "stretch-rhythm",
   "metadata": {},
   "outputs": [],
   "source": [
    "# Method to read input data from tsv file into dataframe\n",
    "def initialize_dataframe(path, file):\n",
    "    dataframe = pd.read_csv(os.path.join(path, file), delimiter=\"\\t\")\n",
    "    \n",
    "    # Drop redundant column, if existent\n",
    "    if \"Unnamed: 0\" in dataframe.columns:\n",
    "        dataframe = dataframe.drop([\"Unnamed: 0\"], 1)\n",
    "    \n",
    "    # Return dataframe\n",
    "    return dataframe"
   ]
  },
  {
   "cell_type": "markdown",
   "id": "ef2d6b84",
   "metadata": {},
   "source": [
    "Read in tsv file and assign returned dataframes to training, validate and test splits."
   ]
  },
  {
   "cell_type": "code",
   "execution_count": 9,
   "id": "charming-coffee",
   "metadata": {},
   "outputs": [],
   "source": [
    "# Read input into dataframes\n",
    "df_test = initialize_dataframe(\"dataset\", \"multimodal_test_public.tsv\")\n",
    "df_validate = initialize_dataframe(\"dataset\", \"multimodal_validate.tsv\")\n",
    "df_train = initialize_dataframe(\"dataset\", \"multimodal_train.tsv\")"
   ]
  },
  {
   "cell_type": "markdown",
   "id": "cb066f9b",
   "metadata": {},
   "source": [
    "Apply `train_test_split()` function from Scikit-learn in order to minimize complete dataset\n",
    "with over *700.000* samples. Splitting complete dataset into custom training, validate and test sets,\n",
    "while reusing only *20%* of the original data (*80%* for training and *10%* for validation and testing each). \n",
    "Stratify function is applied in order to keep the\n",
    "per class sample distribution from original Fakeddit source dataset."
   ]
  },
  {
   "cell_type": "code",
   "execution_count": 10,
   "id": "lesser-brighton",
   "metadata": {},
   "outputs": [],
   "source": [
    "# Splitting complete Fakeddit-dataset into 20% training dataframe\n",
    "# and 80% backup dataframe\n",
    "df_train, df_backup = train_test_split(\n",
    "    df_train,\n",
    "    test_size=0.8,\n",
    "    shuffle=True,\n",
    "    # Apply stratification on basis of 6 way label classification\n",
    "    # maintaining percentage of samples per class as given by original dataset\n",
    "    stratify=df_train[\"6_way_label\"]\n",
    ")"
   ]
  },
  {
   "cell_type": "code",
   "execution_count": 11,
   "id": "professional-arthur",
   "metadata": {},
   "outputs": [],
   "source": [
    "# Keeping 80% of data samples for training and 20% for testing purposes\n",
    "df_train, df_test = train_test_split(\n",
    "    df_train,\n",
    "    test_size=0.2,\n",
    "    shuffle=True,\n",
    "    # Apply stratification on basis of 6 way label classification\n",
    "    # maintaining percentage of samples per class as given by original dataset\n",
    "    stratify=df_train[\"6_way_label\"]\n",
    ")"
   ]
  },
  {
   "cell_type": "code",
   "execution_count": 12,
   "id": "atomic-queens",
   "metadata": {},
   "outputs": [],
   "source": [
    "# Dividing test split dataframe by factor 0,5 to have identically\n",
    "# sized splits for validation and testing\n",
    "df_test, df_validate = train_test_split(\n",
    "    df_test,\n",
    "    test_size=0.5,\n",
    "    shuffle=True,\n",
    "    # Apply stratification on basis of 6 way label classification\n",
    "    # maintaining percentage of samples per class as given by original dataset\n",
    "    stratify=df_test[\"6_way_label\"]\n",
    ")"
   ]
  },
  {
   "cell_type": "code",
   "execution_count": 13,
   "id": "specific-clear",
   "metadata": {},
   "outputs": [
    {
     "data": {
      "text/plain": [
       "90240"
      ]
     },
     "execution_count": 13,
     "metadata": {},
     "output_type": "execute_result"
    }
   ],
   "source": [
    "# Checking size of training split dataframe\n",
    "len(df_train)"
   ]
  },
  {
   "cell_type": "code",
   "execution_count": 14,
   "id": "voluntary-favor",
   "metadata": {},
   "outputs": [
    {
     "name": "stdout",
     "output_type": "stream",
     "text": [
      "Fake News Classifier performs fine-grained fake news detection into a total of 6 classes.\n"
     ]
    }
   ],
   "source": [
    "# Fake News subtypes in order of Fakeddit benchmark dataset labeling\n",
    "CLASS_NAMES = [\"True\", \"Satire\", \"False Conn.\", \"Impost. Content\", \"Man. Content\", \"Mis. Content\"]\n",
    "\n",
    "# Defining number of classes to be classified within classification problem\n",
    "print(\"Fake News Classifier performs fine-grained fake news detection \" + \n",
    "          \"into a total of \" + str(len(CLASS_NAMES)) + \" classes.\")"
   ]
  },
  {
   "cell_type": "markdown",
   "id": "c52a876d",
   "metadata": {},
   "source": [
    "**Attention:** `DistilBert` model and `DistilBertTokenizer` are not used for `Image DistilFND`, yet the source code was copied and adapted from `Title DistilFND` to this model variant. Hence, the post titles are still tokenized and processed, but not used as input data for classification task."
   ]
  },
  {
   "cell_type": "code",
   "execution_count": 15,
   "id": "turkish-somerset",
   "metadata": {},
   "outputs": [],
   "source": [
    "# Importing needed modules for DistilBert model\n",
    "from transformers import DistilBertTokenizer, DistilBertModel, DistilBertConfig\n",
    "\n",
    "# Loading DistilBert tokenizers adjusted for lower case English text corpus\n",
    "# for tokenization of title input sequence\n",
    "title_tokenizer = DistilBertTokenizer.from_pretrained(\"distilbert-base-uncased\")"
   ]
  },
  {
   "cell_type": "markdown",
   "id": "81f79593",
   "metadata": {},
   "source": [
    "# Loading and processing input data"
   ]
  },
  {
   "cell_type": "markdown",
   "id": "414e55f5",
   "metadata": {},
   "source": [
    "`PostDataset` class is subclass from PyTorch Dataset class. Following the `Dataset`& `DataLoader` PyTorch framework is implemented, in which PostDataset contains all relevant information per batch and DataLoader iterates over complete Dataset to feed batches of size *16* to model. **Attention:** `PostDataset` does not yet contain any information related to associated Reddit-Post images. Images per post are opened and processed *on thy fly* by using the post_id as search criteria."
   ]
  },
  {
   "cell_type": "code",
   "execution_count": 16,
   "id": "middle-longitude",
   "metadata": {},
   "outputs": [],
   "source": [
    "class PostDataset(Dataset):\n",
    "    \n",
    "    # Constructor initialized with relevant attributes plus tokenizer information\n",
    "    def __init__(self, post_id, title, label, title_tokenizer, max_len):\n",
    "        self.post_id = post_id\n",
    "        self.title = title\n",
    "        self.label = label\n",
    "        self.title_tokenizer = title_tokenizer\n",
    "        self.max_length = max_len\n",
    "        \n",
    "    # Returns length of the dataset for internal looping \n",
    "    def __len__(self):\n",
    "        return len(self.label)\n",
    "    \n",
    "    # Internal function to fetch next sample within dataset object\n",
    "    def __getitem__(self, idx):\n",
    "        # Iteration function to retireve next sample\n",
    "        post_id = self.post_id[idx]\n",
    "        text = self.title[idx]\n",
    "        label = self.label[idx]\n",
    "\n",
    "        # Saving id, clean_title and label entries per post\n",
    "        # in sample dictionary\n",
    "        sample = {\n",
    "            \"post_id\": post_id,\n",
    "            \"clean_title\": text,\n",
    "            \"label\": label\n",
    "        }\n",
    "        \n",
    "        # Return sample dictionary containing all needed attributes\n",
    "        return sample"
   ]
  },
  {
   "cell_type": "markdown",
   "id": "a393c2e7",
   "metadata": {},
   "source": [
    "`train_transform()` function is specifically used to process image data for the `train_model()` function. Additional `data augmentation` is performed by random crop resizing and flipping image horizontally in order to artificially inflate the underlying training set split. Upsizing the training set by random modification of image data is a common regularization technique. Reddit-Post images are modified, converted to a `PyTorch` tensor representation and finally normalized. "
   ]
  },
  {
   "cell_type": "code",
   "execution_count": 17,
   "id": "suspended-roommate",
   "metadata": {},
   "outputs": [],
   "source": [
    "# Transform function for image processing (training)\n",
    "# Performing data augmentation by random resizing, cropping\n",
    "# and flipping images in order to artificially create new\n",
    "# image data per training epoch\n",
    "train_transform = transforms.Compose([\n",
    "    transforms.RandomResizedCrop(224),\n",
    "    transforms.RandomHorizontalFlip(),\n",
    "    transforms.ToTensor(),\n",
    "    transforms.Normalize(\n",
    "        mean=[0.485, 0.456, 0.406],\n",
    "        std=[0.229, 0.224, 0.255]\n",
    "    )\n",
    "])"
   ]
  },
  {
   "cell_type": "markdown",
   "id": "f4901d4e",
   "metadata": {},
   "source": [
    "Internal `collate_batch()` function implements the processing / sample preparation logic to convert all information into a readable format for the neural network model. Per batch a total of *16* samples are fetched, whereas the images are processed and attributes post_id, image tensor, and *6*-way-label are stacked within a single batch dictionary. One batch holds above mentioned information for *16* fetched samples. `batch_size` of *16* was chosen in alignment with previously used `DistilBert` configuration and reused for `ResNet34` application. **Attention:** Because the input image data is differently processed depending on training or validation and test run, two separate `collate_batch` function are implemented. `collate_batch()` function is used by `PyTorch DataLoader` to process training data split, and `collate_batch_val_test()` function is used to process validation and test data split."
   ]
  },
  {
   "cell_type": "code",
   "execution_count": 18,
   "id": "immune-world",
   "metadata": {},
   "outputs": [],
   "source": [
    "def collate_batch(batch):\n",
    "    \n",
    "    # List to save processed batch samples\n",
    "    batch_processed = []\n",
    "    \n",
    "    # Iteration over input batch of size 16\n",
    "    for i in range(len(batch)):\n",
    "        \n",
    "        # Saving attributes in local variables\n",
    "        post_id = batch[i][\"post_id\"]\n",
    "        text = batch[i][\"clean_title\"]\n",
    "        label = batch[i][\"label\"]\n",
    "        \n",
    "        # Leveraging DistilBertTokenizer to generate\n",
    "        # encoding of input text sequence\n",
    "        encoding = title_tokenizer.encode_plus(\n",
    "            text,\n",
    "            max_length=80,\n",
    "            padding=\"max_length\",\n",
    "            truncation=True,\n",
    "            add_special_tokens=True,\n",
    "            return_token_type_ids=False,\n",
    "            return_attention_mask=True,\n",
    "            return_tensors=\"pt\",\n",
    "        )\n",
    "\n",
    "        # Try-Except-Else clause to process image data\n",
    "        # Fetch images from image_set folder via post_id, transform and reshape tensor\n",
    "        try:\n",
    "            image = Image.open(f\"/home/ubuntu/FakeNewsDetector/dataset/image_set/{post_id}.jpg\")\n",
    "        # Handling FileNotFoundError and randomly initializing pixels\n",
    "        except FileNotFoundError:\n",
    "            image = torch.rand(3, 224, 224)\n",
    "            image = torch.unsqueeze(image, 0)\n",
    "        # Handling UnidentifiedImageError and randomly initializing pixels\n",
    "        except UnidentifiedImageError:\n",
    "            image = torch.rand(3, 224, 224)\n",
    "            image = torch.unsqueeze(image, 0)\n",
    "        # Handling OSError and randomly initializing pixels\n",
    "        except OSError:\n",
    "            image = torch.rand(3, 224, 224)\n",
    "            image = torch.unsqueeze(image, 0)\n",
    "        # Else: Convert image to RGB, process with train_transform\n",
    "        # and reshape to tensor of shape = [1, 3, 224, 224] for\n",
    "        # [sample_count, color_channels, height in pixel, width in pixel]\n",
    "        else:\n",
    "            image = image.convert(\"RGB\")\n",
    "            image = train_transform(image)\n",
    "            image = torch.unsqueeze(image, 0)\n",
    "        \n",
    "        # Storing processed attributes of sample in sample\n",
    "        # dictionary: post_id, title (text), input_ids,\n",
    "        # attention_mask, image and label\n",
    "        sample = {\n",
    "            \"post_id\": post_id,\n",
    "            \"text\": text,\n",
    "            \"input_ids\": encoding[\"input_ids\"].flatten(),\n",
    "            \"attention_mask\": encoding[\"attention_mask\"].flatten(),\n",
    "            \"image\": image.flatten(),\n",
    "            \"label\": torch.tensor(label, dtype=torch.long)\n",
    "        }\n",
    "        \n",
    "        # Append current samples dictionary to processed\n",
    "        # batch list --> List of sample dictionaries\n",
    "        batch_processed.append(sample)\n",
    "        \n",
    "    # Complex operation in order to unpack list of dictionaries and\n",
    "    # merge dictionary entries into correct PyTorch tensor for forward processing\n",
    "    postId = []\n",
    "    title = []\n",
    "    \n",
    "    # For-loop to stack sample dictionary keys into appropriate format\n",
    "    for i in range(len(batch_processed)):\n",
    "        # If first sample of batch, initialize attribute tensors and reshape\n",
    "        if i == 0:\n",
    "            postId.append(batch_processed[i][\"post_id\"])\n",
    "            title.append(batch_processed[i][\"text\"])\n",
    "            input_ids_tensor = batch_processed[i][\"input_ids\"].reshape(-1, 80)\n",
    "            attention_mask_tensor = batch_processed[i][\"attention_mask\"].reshape(-1, 80)\n",
    "            image_tensor = batch_processed[i][\"image\"].reshape(-1, 3, 224, 224)\n",
    "            label_tensor = batch_processed[i][\"label\"].reshape(-1,)\n",
    "            continue\n",
    "\n",
    "        # Stack attributes of sample dictionary keys to generate correct tensor shape\n",
    "        postId.append(batch_processed[i][\"post_id\"])\n",
    "        title.append(batch_processed[i][\"text\"])\n",
    "        input_ids_tensor = torch.cat((input_ids_tensor, batch_processed[i][\"input_ids\"].reshape(-1, 80)))\n",
    "        attention_mask_tensor = torch.cat((attention_mask_tensor, batch_processed[i][\"attention_mask\"].reshape(-1, 80)))\n",
    "        image_tensor = torch.cat((image_tensor, batch_processed[i][\"image\"].reshape(-1, 3, 224, 224)))\n",
    "        label_tensor = torch.cat((label_tensor, batch_processed[i][\"label\"].reshape(-1,)))\n",
    "    \n",
    "    # Returning batch list of sample dictionaries containing 16 processed samples\n",
    "    return {\n",
    "        \"post_id\": postId,\n",
    "        \"title\": title,\n",
    "        \"input_ids\": input_ids_tensor,\n",
    "        \"attention_mask\": attention_mask_tensor,\n",
    "        \"image\": image_tensor,\n",
    "        \"label\": label_tensor\n",
    "    }"
   ]
  },
  {
   "cell_type": "markdown",
   "id": "475764f7",
   "metadata": {},
   "source": [
    "`create_data_loader` function initializes `Dataset` and `DataLoader` in connection with training dataset. `collate_batch()` function is given in `collate_fn` keyword. `batch_size` is set to 16 and `DataLoader` fetching operation is paralellized between 2 workers, e.g. threads.\n",
    "\n",
    "- `params:`df (for Fakeddit source dataframe)\n",
    "- `params:`tokenizer (for DistilBertTokenizer)\n",
    "- `params:`max_len (of 80 tokens per input sequence)\n",
    "- `params:`batch_size (of 16 samples per batch)\n",
    "- `returns:`DataLoader object (iterable)"
   ]
  },
  {
   "cell_type": "code",
   "execution_count": 19,
   "id": "juvenile-disposal",
   "metadata": {},
   "outputs": [],
   "source": [
    "def create_data_loader(df, title_tokenizer, max_len, batch_size):\n",
    "    \n",
    "    # Initialization of PostDataset and assignment\n",
    "    # to dataset variable\n",
    "    dataset = PostDataset(\n",
    "                post_id = df[\"id\"].to_numpy(),\n",
    "                title = df[\"clean_title\"].to_numpy(),\n",
    "                label = df[\"6_way_label\"].to_numpy(),\n",
    "                title_tokenizer = title_tokenizer,\n",
    "                max_len = max_len\n",
    "              )\n",
    "    \n",
    "    # Forwarding dataset variable, batch_size and collate_batch function\n",
    "    # to PyTorch DataLoader module. Returns Iterable DataLoader object\n",
    "    return DataLoader(dataset, batch_size=batch_size, collate_fn=collate_batch, num_workers=2, pin_memory=True, prefetch_factor=2)"
   ]
  },
  {
   "cell_type": "markdown",
   "id": "824c84c0",
   "metadata": {},
   "source": [
    "`val_test_transform()` function is specifically used to process image data for the `evaluate_model()` function. **NO** additional `data augmentation` is applied to image data, because for validation and testing artifical inflation for dataset splits is not needed. Hence, simple resizing and center cropping is performed, befoe converting images to a `PyTorch` tensor representation and finally normalizing them."
   ]
  },
  {
   "cell_type": "code",
   "execution_count": 20,
   "id": "offensive-original",
   "metadata": {},
   "outputs": [],
   "source": [
    "# Transform function for image processing (validation and testing)\n",
    "# No data augmentation in validation and test data splits in order to\n",
    "# define constant validation and testing process\n",
    "val_test_transform = transforms.Compose([\n",
    "    transforms.Resize(256),\n",
    "    transforms.CenterCrop(224),\n",
    "    transforms.ToTensor(),\n",
    "    transforms.Normalize(\n",
    "        mean=[0.485, 0.456, 0.406],\n",
    "        std=[0.229, 0.224, 0.255]\n",
    "    )\n",
    "])"
   ]
  },
  {
   "cell_type": "markdown",
   "id": "8266fb7e",
   "metadata": {},
   "source": [
    "Internal `collate_batch_val_test()` function implements the processing / sample preparation logic to convert all information into a readable format for the neural network model. Per batch a total of *16* samples are fetched, whereas the images are processed and attributes post_id, image tensor, and *6*-way-label are stacked within a single batch dictionary. One batch holds above mentioned information for *16* fetched samples. `batch_size` of *16* was chosen in alignment with previously used `DistilBert` configuration and reused for `ResNet34` application. **Attention:** Because the input image data is differently processed depending on training or validation and test run, two separate `collate_batch` function are implemented. `collate_batch()` function is used by `PyTorch DataLoader` to process training data split, and `colatte_batch_val_test()` function is used to process validation and test data split."
   ]
  },
  {
   "cell_type": "code",
   "execution_count": 21,
   "id": "recovered-hours",
   "metadata": {},
   "outputs": [],
   "source": [
    "def collate_batch_val_test(batch):\n",
    "    \n",
    "    # List to save processed batch samples\n",
    "    batch_processed = []\n",
    "    \n",
    "    # Iteration over input batch of size 16\n",
    "    for i in range(len(batch)):\n",
    "        \n",
    "        # Saving attributes in local variables\n",
    "        post_id = batch[i][\"post_id\"]\n",
    "        text = batch[i][\"clean_title\"]\n",
    "        label = batch[i][\"label\"]\n",
    "        \n",
    "        # Leveraging DistilBertTokenizer to generate\n",
    "        # encoding of input text sequence\n",
    "        encoding = title_tokenizer.encode_plus(\n",
    "            text,\n",
    "            max_length=80,\n",
    "            padding=\"max_length\",\n",
    "            truncation=True,\n",
    "            add_special_tokens=True,\n",
    "            return_token_type_ids=False,\n",
    "            return_attention_mask=True,\n",
    "            return_tensors=\"pt\",\n",
    "        )\n",
    "\n",
    "        # Try-Except-Else clause to process image data\n",
    "        # Fetch images from image_set folder via post_id, transform and reshape tensor\n",
    "        try:\n",
    "            image = Image.open(f\"/home/ubuntu/FakeNewsDetector/dataset/image_set/{post_id}.jpg\")\n",
    "        # Handling FileNotFoundError and randomly initializing pixels\n",
    "        except FileNotFoundError:\n",
    "            image = torch.rand(3, 224, 224)\n",
    "            image = torch.unsqueeze(image, 0)\n",
    "        # Handling UnidentifiedImageError and randomly initializing pixels\n",
    "        except UnidentifiedImageError:\n",
    "            image = torch.rand(3, 224, 224)\n",
    "            image = torch.unsqueeze(image, 0)\n",
    "        # Handling OSError and randomly initializing pixels\n",
    "        except OSError:\n",
    "            image = torch.rand(3, 224, 224)\n",
    "            image = torch.unsqueeze(image, 0)\n",
    "        # Else: Convert image to RGB, process with train_transform\n",
    "        # and reshape to tensor of shape = [1, 3, 224, 224] for\n",
    "        # [sample_count, color_channels, height in pixel, width in pixel]\n",
    "        else:\n",
    "            image = image.convert(\"RGB\")\n",
    "            image = train_transform(image)\n",
    "            image = torch.unsqueeze(image, 0)\n",
    "        \n",
    "        # Storing processed attributes of sample in sample\n",
    "        # dictionary: post_id, title (text), input_ids,\n",
    "        # attention_mask, image and label\n",
    "        sample = {\n",
    "            \"post_id\": post_id,\n",
    "            \"text\": text,\n",
    "            \"input_ids\": encoding[\"input_ids\"].flatten(),\n",
    "            \"attention_mask\": encoding[\"attention_mask\"].flatten(),\n",
    "            \"image\": image.flatten(),\n",
    "            \"label\": torch.tensor(label, dtype=torch.long)\n",
    "        }\n",
    "        \n",
    "        # Append current samples dictionary to processed\n",
    "        # batch list --> List of sample dictionaries\n",
    "        batch_processed.append(sample)\n",
    "        \n",
    "    # Complex operation in order to unpack list of dictionaries and\n",
    "    # merge dictionary entries into correct PyTorch tensor for forward processing\n",
    "    postId = []\n",
    "    title = []\n",
    "    \n",
    "    # For-loop to stack sample dictionary keys into appropriate format\n",
    "    for i in range(len(batch_processed)):\n",
    "        # If first sample of batch, initialize attribute tensors and reshape\n",
    "        if i == 0:\n",
    "            postId.append(batch_processed[i][\"post_id\"])\n",
    "            title.append(batch_processed[i][\"text\"])\n",
    "            input_ids_tensor = batch_processed[i][\"input_ids\"].reshape(-1, 80)\n",
    "            attention_mask_tensor = batch_processed[i][\"attention_mask\"].reshape(-1, 80)\n",
    "            image_tensor = batch_processed[i][\"image\"].reshape(-1, 3, 224, 224)\n",
    "            label_tensor = batch_processed[i][\"label\"].reshape(-1,)\n",
    "            continue\n",
    "\n",
    "        # Stack attributes of sample dictionary keys to generate correct tensor shape\n",
    "        postId.append(batch_processed[i][\"post_id\"])\n",
    "        title.append(batch_processed[i][\"text\"])\n",
    "        input_ids_tensor = torch.cat((input_ids_tensor, batch_processed[i][\"input_ids\"].reshape(-1, 80)))\n",
    "        attention_mask_tensor = torch.cat((attention_mask_tensor, batch_processed[i][\"attention_mask\"].reshape(-1, 80)))\n",
    "        image_tensor = torch.cat((image_tensor, batch_processed[i][\"image\"].reshape(-1, 3, 224, 224)))\n",
    "        label_tensor = torch.cat((label_tensor, batch_processed[i][\"label\"].reshape(-1,)))\n",
    "    \n",
    "    # Returning batch list of sample dictionaries containing 16 processed samples\n",
    "    return {\n",
    "        \"post_id\": postId,\n",
    "        \"title\": title,\n",
    "        \"input_ids\": input_ids_tensor,\n",
    "        \"attention_mask\": attention_mask_tensor,\n",
    "        \"image\": image_tensor,\n",
    "        \"label\": label_tensor\n",
    "    }"
   ]
  },
  {
   "cell_type": "markdown",
   "id": "93b9ad83",
   "metadata": {},
   "source": [
    "`val_test_create_data_loader` function initializes `Dataset` and `DataLoader` in connection with validation and test dataset. `collate_batch_val_test()` function is given in `collate_fn` keyword. `batch_size` is set to *16* and `DataLoader` fetching operation is parallelized between *2* workers, e.g. threads.\n",
    "\n",
    "- `params:`df (for Fakeddit source dataframe)\n",
    "- `params:`tokenizer (for DistilBertTokenizer)\n",
    "- `params:`max_len (of 80 tokens per input sequence)\n",
    "- `params:`batch_size (of 16 samples per batch)\n",
    "- `returns:`DataLoader object (iterable)"
   ]
  },
  {
   "cell_type": "code",
   "execution_count": 22,
   "id": "temporal-nation",
   "metadata": {},
   "outputs": [],
   "source": [
    "def val_test_create_data_loader(df, title_tokenizer, max_len, batch_size):\n",
    "    \n",
    "    # Initialization of PostTitleDataset and assignment\n",
    "    # to dataset variable\n",
    "    dataset = PostDataset(\n",
    "                post_id = df[\"id\"].to_numpy(),\n",
    "                title = df[\"clean_title\"].to_numpy(),\n",
    "                label = df[\"6_way_label\"].to_numpy(),\n",
    "                title_tokenizer = title_tokenizer,\n",
    "                max_len = max_len\n",
    "              )\n",
    "    \n",
    "    # Forwarding dataset variable, batch_size and collate function\n",
    "    # to Pytorch DataLoader module. DataLoader is returned, over which\n",
    "    # can be iterated\n",
    "    return DataLoader(dataset, batch_size=batch_size, collate_fn=collate_batch_val_test, num_workers=2, pin_memory=True, prefetch_factor=2)"
   ]
  },
  {
   "cell_type": "markdown",
   "id": "25ba8fe5",
   "metadata": {},
   "source": [
    "Initializing PyTorch `DataLoader` objects for training, validation and test splits respectively inlcuding constants for maximum sequence length `MAX_LEN=80` and `BATCH_SIZE=16`. `next(iter())` function fetches first batch of **16 samples** from processed batch."
   ]
  },
  {
   "cell_type": "code",
   "execution_count": 23,
   "id": "unusual-envelope",
   "metadata": {},
   "outputs": [
    {
     "name": "stdout",
     "output_type": "stream",
     "text": [
      "CPU times: user 2.22 s, sys: 1.2 s, total: 3.42 s\n",
      "Wall time: 5.38 s\n"
     ]
    }
   ],
   "source": [
    "%%time\n",
    "# Defining batch size and maximum sequence length\n",
    "# MAX_LEN is defined based on plotting of token length dsitribution\n",
    "BATCH_SIZE = 16\n",
    "MAX_LEN = 80\n",
    "\n",
    "# Initializing Pytorch DataLoader for train, validate and test split dataframes\n",
    "train_data_loader = create_data_loader(df_train, title_tokenizer, MAX_LEN, BATCH_SIZE)\n",
    "validate_data_loader = val_test_create_data_loader(df_validate, title_tokenizer, MAX_LEN, BATCH_SIZE)\n",
    "test_data_loader = val_test_create_data_loader(df_test, title_tokenizer, MAX_LEN, BATCH_SIZE)\n",
    "\n",
    "# Retrieving first batch from dataloaders via next() and iter() functions\n",
    "train_data = next(iter(train_data_loader))\n",
    "validate_data = next(iter(validate_data_loader))\n",
    "test_data = next(iter(test_data_loader))"
   ]
  },
  {
   "cell_type": "code",
   "execution_count": 24,
   "id": "understanding-kelly",
   "metadata": {},
   "outputs": [
    {
     "name": "stdout",
     "output_type": "stream",
     "text": [
      "['4962yq', 'b7n07f', 'c47w1k', 'chaknk1', 'bsttql', '4wv565', '1lroym', '2hfwnt', 'cx6a1n', 'cqgitbc', '4t0eso', 'c7aki5u', 'cmlekj2', 'cmhw32', 'df81v0y', 'cgbpzjs']\n",
      "\n",
      "['elon musk unfazed by spacexs failed landing didnt expect this to work', 'a man giving away free snacks', 'a sexy string lady on my couch', 'scp', 'hbos chernobyl trailer se', 'man puts glass of water on bedside table in case he needs to make huge mess in middle of night', 'base jumpers over beach', 'i met jake the dog on the motorway this morning', 'man accused of raping woman says he tripped and fell naked on top of her', 'unlucky tom', 'pa man accused of illegally owning human brain using embalming fluid to get high', 'how about this', 'it just seemed right', 'this gnocchi pasta made out of potatoes with pesto looks lie a mini potato', 'house cleaning', 'who lives in a pineapple under the sea']\n",
      "\n",
      "torch.Size([16, 80])\n",
      "torch.Size([16, 80])\n",
      "torch.Size([16])\n",
      "torch.Size([16, 3, 224, 224])\n"
     ]
    }
   ],
   "source": [
    "# Printing out PostIds and Post Title\n",
    "print(train_data[\"post_id\"])\n",
    "print()\n",
    "print(train_data[\"title\"])\n",
    "print()\n",
    "\n",
    "# Printing Pytorch Tensor shapes\n",
    "print(train_data[\"input_ids\"].shape)\n",
    "print(train_data[\"attention_mask\"].shape)\n",
    "print(train_data[\"label\"].shape)\n",
    "print(train_data[\"image\"].shape)"
   ]
  },
  {
   "cell_type": "code",
   "execution_count": 25,
   "id": "colored-decision",
   "metadata": {},
   "outputs": [
    {
     "name": "stdout",
     "output_type": "stream",
     "text": [
      "['rs5yv', '3ioz0v', 'cce05h', 'dc853ou', '55hkhd', 'c8mt1jo', '2srib2', '3sfxwk', '61ioox', 'd5c1ow', 'c0znd8', 'c74rsr', '8j93z5', 'd0blyda', 'bpvhtw', 'ds03wvw']\n",
      "\n",
      "['italian village makes it illegal to die', 'youre going to put that nail where', 'the paint job on this house in mannheim germany', 'thanks obama', 'bob ross with dog ears', 'spot the differences', 'general william sherman', 'stoic aubergine', 'i can see why they warn parents to keep their kids out', 'have you ever wondered what was inside a blackberry', 'this arizona iced tea looks poorly photoshopped in', 'perfect rainbow over logan airport', 'this outlet looks like david bowie', 'do you want to go the park boy', 'this hat kinda looks like a face', 'the obamas and bidens walk away from white house']\n",
      "\n",
      "torch.Size([16, 80])\n",
      "torch.Size([16, 80])\n",
      "torch.Size([16])\n",
      "torch.Size([16, 3, 224, 224])\n"
     ]
    }
   ],
   "source": [
    "# Printing out PostIds and Post Title\n",
    "print(test_data[\"post_id\"])\n",
    "print()\n",
    "print(test_data[\"title\"])\n",
    "print()\n",
    "\n",
    "# Printing Pytorch Tensor shapes\n",
    "print(test_data[\"input_ids\"].shape)\n",
    "print(test_data[\"attention_mask\"].shape)\n",
    "print(test_data[\"label\"].shape)\n",
    "print(test_data[\"image\"].shape)"
   ]
  },
  {
   "cell_type": "code",
   "execution_count": 26,
   "id": "otherwise-davis",
   "metadata": {},
   "outputs": [
    {
     "name": "stdout",
     "output_type": "stream",
     "text": [
      "['5a9pzn', 'deq9gg', 'cqplv65', '55tmov', '3iiu5t', '7827go', '7fq5df', 'cof0i3g', 'dk6iyo', 'bvp4g0', '33mm2w', '3imqc5', '1b46cm', 'bhb8mh', 'ceu0hw', 'c28831']\n",
      "\n",
      "['reaper the void within', 'cat looks like shes eating my bed', 'finish him', 'for some banthebox laws are making it harder to get a job', 'found this happy guy on nj transit', 'torkil gudnason accounts of natural science', 'at the japanese tea garden in san francisco', 'here', 'i had a dragonfly land on my finger', 'the trees at this red light line up to flip you off while you wait', 'montreal woman convicted of posting antipolice graffiti on instagram', 'robert deniro holding a cat', 'jersey city man stabbed after saying hello to another man police', 'o', 'wooden door used in the movie titanic on display in disney springs orlando', 'newtown parents score a win in growing fight against hoaxers']\n",
      "\n",
      "torch.Size([16, 80])\n",
      "torch.Size([16, 80])\n",
      "torch.Size([16])\n",
      "torch.Size([16, 3, 224, 224])\n"
     ]
    }
   ],
   "source": [
    "# Printing out PostIds and Post Title\n",
    "print(validate_data[\"post_id\"])\n",
    "print()\n",
    "print(validate_data[\"title\"])\n",
    "print()\n",
    "\n",
    "# Printing Pytorch Tensor shapes\n",
    "print(validate_data[\"input_ids\"].shape)\n",
    "print(validate_data[\"attention_mask\"].shape)\n",
    "print(validate_data[\"label\"].shape)\n",
    "print(validate_data[\"image\"].shape)"
   ]
  },
  {
   "cell_type": "markdown",
   "id": "adf6d6ff",
   "metadata": {},
   "source": [
    "# Image DistilFND model definition"
   ]
  },
  {
   "cell_type": "markdown",
   "id": "80b28fff",
   "metadata": {},
   "source": [
    "`FakeNewsDetector` class defines the image only variant of the `ResNet34` model and is derived of `nn.Module` model super class from `torch.nn module`. `Image DistilFND` takes processed images per Reddit-Post and classifies Reddit-Posts into one of *6* defined classes via `Softmax` activation function."
   ]
  },
  {
   "cell_type": "code",
   "execution_count": 61,
   "id": "grateful-anthony",
   "metadata": {},
   "outputs": [],
   "source": [
    "class FakeNewsDetector(nn.Module):\n",
    "    \n",
    "    def __init__(self, num_classes):\n",
    "        super(FakeNewsDetector, self).__init__()\n",
    "        # Loading ResNet34 with pre-trained model weights from ImageNet 2012 benchmark dataset\n",
    "        # and assigning to image_module (Image-Feature Extractor)\n",
    "        self.image_module = models.resnet34(pretrained=\"imagenet\")\n",
    "        # Dropout layer to randomly nullify 30% of elements of output tensors --> Useful only in model training\n",
    "        # Layer is still needed for loading model\n",
    "        self.drop = nn.Dropout(p=0.3)\n",
    "\n",
    "        # Fully connected layers (Linear layer) to reshape dimensionality of output tensors ([batch_size, imagenet_classes])\n",
    "        # Reshaping image feature tensor (1, 1000) --> (1, 6)\n",
    "        self.fc_image = nn.Linear(in_features=1000, out_features=num_classes, bias=True)\n",
    "\n",
    "        # Final model prediction via Softmax activation function\n",
    "        self.softmax = nn.Softmax(dim=1)\n",
    "        \n",
    "    def forward(self, image):\n",
    "        # Applying image_module onto associated post image\n",
    "        # Returning image feature tensor of shape (16, 1000) for (num_samples, imagenet_classes)\n",
    "        image_output = self.image_module(image)\n",
    "        \n",
    "        # Random element nullification of output tensor\n",
    "        image_output = self.drop(image_output)\n",
    "\n",
    "        # Condensing via fully connected layer to tensor of shape (16, 6)\n",
    "        image_output = self.fc_image(image_output)\n",
    "        \n",
    "        # Applying Softmax activation function on image feature vector\n",
    "        # to return class-specific probability distribution\n",
    "        return self.softmax(image_output)\n",
    "\n",
    "# Initializing Image DistilFND and asigning to fn_detector variable\n",
    "fn_detector = FakeNewsDetector(len(CLASS_NAMES))\n",
    "# Moving model to device resource\n",
    "fn_detector = fn_detector.to(device)"
   ]
  },
  {
   "cell_type": "code",
   "execution_count": 28,
   "id": "adapted-military",
   "metadata": {},
   "outputs": [
    {
     "name": "stdout",
     "output_type": "stream",
     "text": [
      "FakeNewsDetector(\n",
      "  (image_module): ResNet(\n",
      "    (conv1): Conv2d(3, 64, kernel_size=(7, 7), stride=(2, 2), padding=(3, 3), bias=False)\n",
      "    (bn1): BatchNorm2d(64, eps=1e-05, momentum=0.1, affine=True, track_running_stats=True)\n",
      "    (relu): ReLU(inplace=True)\n",
      "    (maxpool): MaxPool2d(kernel_size=3, stride=2, padding=1, dilation=1, ceil_mode=False)\n",
      "    (layer1): Sequential(\n",
      "      (0): BasicBlock(\n",
      "        (conv1): Conv2d(64, 64, kernel_size=(3, 3), stride=(1, 1), padding=(1, 1), bias=False)\n",
      "        (bn1): BatchNorm2d(64, eps=1e-05, momentum=0.1, affine=True, track_running_stats=True)\n",
      "        (relu): ReLU(inplace=True)\n",
      "        (conv2): Conv2d(64, 64, kernel_size=(3, 3), stride=(1, 1), padding=(1, 1), bias=False)\n",
      "        (bn2): BatchNorm2d(64, eps=1e-05, momentum=0.1, affine=True, track_running_stats=True)\n",
      "      )\n",
      "      (1): BasicBlock(\n",
      "        (conv1): Conv2d(64, 64, kernel_size=(3, 3), stride=(1, 1), padding=(1, 1), bias=False)\n",
      "        (bn1): BatchNorm2d(64, eps=1e-05, momentum=0.1, affine=True, track_running_stats=True)\n",
      "        (relu): ReLU(inplace=True)\n",
      "        (conv2): Conv2d(64, 64, kernel_size=(3, 3), stride=(1, 1), padding=(1, 1), bias=False)\n",
      "        (bn2): BatchNorm2d(64, eps=1e-05, momentum=0.1, affine=True, track_running_stats=True)\n",
      "      )\n",
      "      (2): BasicBlock(\n",
      "        (conv1): Conv2d(64, 64, kernel_size=(3, 3), stride=(1, 1), padding=(1, 1), bias=False)\n",
      "        (bn1): BatchNorm2d(64, eps=1e-05, momentum=0.1, affine=True, track_running_stats=True)\n",
      "        (relu): ReLU(inplace=True)\n",
      "        (conv2): Conv2d(64, 64, kernel_size=(3, 3), stride=(1, 1), padding=(1, 1), bias=False)\n",
      "        (bn2): BatchNorm2d(64, eps=1e-05, momentum=0.1, affine=True, track_running_stats=True)\n",
      "      )\n",
      "    )\n",
      "    (layer2): Sequential(\n",
      "      (0): BasicBlock(\n",
      "        (conv1): Conv2d(64, 128, kernel_size=(3, 3), stride=(2, 2), padding=(1, 1), bias=False)\n",
      "        (bn1): BatchNorm2d(128, eps=1e-05, momentum=0.1, affine=True, track_running_stats=True)\n",
      "        (relu): ReLU(inplace=True)\n",
      "        (conv2): Conv2d(128, 128, kernel_size=(3, 3), stride=(1, 1), padding=(1, 1), bias=False)\n",
      "        (bn2): BatchNorm2d(128, eps=1e-05, momentum=0.1, affine=True, track_running_stats=True)\n",
      "        (downsample): Sequential(\n",
      "          (0): Conv2d(64, 128, kernel_size=(1, 1), stride=(2, 2), bias=False)\n",
      "          (1): BatchNorm2d(128, eps=1e-05, momentum=0.1, affine=True, track_running_stats=True)\n",
      "        )\n",
      "      )\n",
      "      (1): BasicBlock(\n",
      "        (conv1): Conv2d(128, 128, kernel_size=(3, 3), stride=(1, 1), padding=(1, 1), bias=False)\n",
      "        (bn1): BatchNorm2d(128, eps=1e-05, momentum=0.1, affine=True, track_running_stats=True)\n",
      "        (relu): ReLU(inplace=True)\n",
      "        (conv2): Conv2d(128, 128, kernel_size=(3, 3), stride=(1, 1), padding=(1, 1), bias=False)\n",
      "        (bn2): BatchNorm2d(128, eps=1e-05, momentum=0.1, affine=True, track_running_stats=True)\n",
      "      )\n",
      "      (2): BasicBlock(\n",
      "        (conv1): Conv2d(128, 128, kernel_size=(3, 3), stride=(1, 1), padding=(1, 1), bias=False)\n",
      "        (bn1): BatchNorm2d(128, eps=1e-05, momentum=0.1, affine=True, track_running_stats=True)\n",
      "        (relu): ReLU(inplace=True)\n",
      "        (conv2): Conv2d(128, 128, kernel_size=(3, 3), stride=(1, 1), padding=(1, 1), bias=False)\n",
      "        (bn2): BatchNorm2d(128, eps=1e-05, momentum=0.1, affine=True, track_running_stats=True)\n",
      "      )\n",
      "      (3): BasicBlock(\n",
      "        (conv1): Conv2d(128, 128, kernel_size=(3, 3), stride=(1, 1), padding=(1, 1), bias=False)\n",
      "        (bn1): BatchNorm2d(128, eps=1e-05, momentum=0.1, affine=True, track_running_stats=True)\n",
      "        (relu): ReLU(inplace=True)\n",
      "        (conv2): Conv2d(128, 128, kernel_size=(3, 3), stride=(1, 1), padding=(1, 1), bias=False)\n",
      "        (bn2): BatchNorm2d(128, eps=1e-05, momentum=0.1, affine=True, track_running_stats=True)\n",
      "      )\n",
      "    )\n",
      "    (layer3): Sequential(\n",
      "      (0): BasicBlock(\n",
      "        (conv1): Conv2d(128, 256, kernel_size=(3, 3), stride=(2, 2), padding=(1, 1), bias=False)\n",
      "        (bn1): BatchNorm2d(256, eps=1e-05, momentum=0.1, affine=True, track_running_stats=True)\n",
      "        (relu): ReLU(inplace=True)\n",
      "        (conv2): Conv2d(256, 256, kernel_size=(3, 3), stride=(1, 1), padding=(1, 1), bias=False)\n",
      "        (bn2): BatchNorm2d(256, eps=1e-05, momentum=0.1, affine=True, track_running_stats=True)\n",
      "        (downsample): Sequential(\n",
      "          (0): Conv2d(128, 256, kernel_size=(1, 1), stride=(2, 2), bias=False)\n",
      "          (1): BatchNorm2d(256, eps=1e-05, momentum=0.1, affine=True, track_running_stats=True)\n",
      "        )\n",
      "      )\n",
      "      (1): BasicBlock(\n",
      "        (conv1): Conv2d(256, 256, kernel_size=(3, 3), stride=(1, 1), padding=(1, 1), bias=False)\n",
      "        (bn1): BatchNorm2d(256, eps=1e-05, momentum=0.1, affine=True, track_running_stats=True)\n",
      "        (relu): ReLU(inplace=True)\n",
      "        (conv2): Conv2d(256, 256, kernel_size=(3, 3), stride=(1, 1), padding=(1, 1), bias=False)\n",
      "        (bn2): BatchNorm2d(256, eps=1e-05, momentum=0.1, affine=True, track_running_stats=True)\n",
      "      )\n",
      "      (2): BasicBlock(\n",
      "        (conv1): Conv2d(256, 256, kernel_size=(3, 3), stride=(1, 1), padding=(1, 1), bias=False)\n",
      "        (bn1): BatchNorm2d(256, eps=1e-05, momentum=0.1, affine=True, track_running_stats=True)\n",
      "        (relu): ReLU(inplace=True)\n",
      "        (conv2): Conv2d(256, 256, kernel_size=(3, 3), stride=(1, 1), padding=(1, 1), bias=False)\n",
      "        (bn2): BatchNorm2d(256, eps=1e-05, momentum=0.1, affine=True, track_running_stats=True)\n",
      "      )\n",
      "      (3): BasicBlock(\n",
      "        (conv1): Conv2d(256, 256, kernel_size=(3, 3), stride=(1, 1), padding=(1, 1), bias=False)\n",
      "        (bn1): BatchNorm2d(256, eps=1e-05, momentum=0.1, affine=True, track_running_stats=True)\n",
      "        (relu): ReLU(inplace=True)\n",
      "        (conv2): Conv2d(256, 256, kernel_size=(3, 3), stride=(1, 1), padding=(1, 1), bias=False)\n",
      "        (bn2): BatchNorm2d(256, eps=1e-05, momentum=0.1, affine=True, track_running_stats=True)\n",
      "      )\n",
      "      (4): BasicBlock(\n",
      "        (conv1): Conv2d(256, 256, kernel_size=(3, 3), stride=(1, 1), padding=(1, 1), bias=False)\n",
      "        (bn1): BatchNorm2d(256, eps=1e-05, momentum=0.1, affine=True, track_running_stats=True)\n",
      "        (relu): ReLU(inplace=True)\n",
      "        (conv2): Conv2d(256, 256, kernel_size=(3, 3), stride=(1, 1), padding=(1, 1), bias=False)\n",
      "        (bn2): BatchNorm2d(256, eps=1e-05, momentum=0.1, affine=True, track_running_stats=True)\n",
      "      )\n",
      "      (5): BasicBlock(\n",
      "        (conv1): Conv2d(256, 256, kernel_size=(3, 3), stride=(1, 1), padding=(1, 1), bias=False)\n",
      "        (bn1): BatchNorm2d(256, eps=1e-05, momentum=0.1, affine=True, track_running_stats=True)\n",
      "        (relu): ReLU(inplace=True)\n",
      "        (conv2): Conv2d(256, 256, kernel_size=(3, 3), stride=(1, 1), padding=(1, 1), bias=False)\n",
      "        (bn2): BatchNorm2d(256, eps=1e-05, momentum=0.1, affine=True, track_running_stats=True)\n",
      "      )\n",
      "    )\n",
      "    (layer4): Sequential(\n",
      "      (0): BasicBlock(\n",
      "        (conv1): Conv2d(256, 512, kernel_size=(3, 3), stride=(2, 2), padding=(1, 1), bias=False)\n",
      "        (bn1): BatchNorm2d(512, eps=1e-05, momentum=0.1, affine=True, track_running_stats=True)\n",
      "        (relu): ReLU(inplace=True)\n",
      "        (conv2): Conv2d(512, 512, kernel_size=(3, 3), stride=(1, 1), padding=(1, 1), bias=False)\n",
      "        (bn2): BatchNorm2d(512, eps=1e-05, momentum=0.1, affine=True, track_running_stats=True)\n",
      "        (downsample): Sequential(\n",
      "          (0): Conv2d(256, 512, kernel_size=(1, 1), stride=(2, 2), bias=False)\n",
      "          (1): BatchNorm2d(512, eps=1e-05, momentum=0.1, affine=True, track_running_stats=True)\n",
      "        )\n",
      "      )\n",
      "      (1): BasicBlock(\n",
      "        (conv1): Conv2d(512, 512, kernel_size=(3, 3), stride=(1, 1), padding=(1, 1), bias=False)\n",
      "        (bn1): BatchNorm2d(512, eps=1e-05, momentum=0.1, affine=True, track_running_stats=True)\n",
      "        (relu): ReLU(inplace=True)\n",
      "        (conv2): Conv2d(512, 512, kernel_size=(3, 3), stride=(1, 1), padding=(1, 1), bias=False)\n",
      "        (bn2): BatchNorm2d(512, eps=1e-05, momentum=0.1, affine=True, track_running_stats=True)\n",
      "      )\n",
      "      (2): BasicBlock(\n",
      "        (conv1): Conv2d(512, 512, kernel_size=(3, 3), stride=(1, 1), padding=(1, 1), bias=False)\n",
      "        (bn1): BatchNorm2d(512, eps=1e-05, momentum=0.1, affine=True, track_running_stats=True)\n",
      "        (relu): ReLU(inplace=True)\n",
      "        (conv2): Conv2d(512, 512, kernel_size=(3, 3), stride=(1, 1), padding=(1, 1), bias=False)\n",
      "        (bn2): BatchNorm2d(512, eps=1e-05, momentum=0.1, affine=True, track_running_stats=True)\n",
      "      )\n",
      "    )\n",
      "    (avgpool): AdaptiveAvgPool2d(output_size=(1, 1))\n",
      "    (fc): Linear(in_features=512, out_features=1000, bias=True)\n",
      "  )\n",
      "  (drop): Dropout(p=0.3, inplace=False)\n",
      "  (fc_image): Linear(in_features=1000, out_features=6, bias=True)\n",
      "  (softmax): Softmax(dim=1)\n",
      ")\n"
     ]
    }
   ],
   "source": [
    "# Printing model architecture\n",
    "print(fn_detector)"
   ]
  },
  {
   "cell_type": "markdown",
   "id": "naked-orange",
   "metadata": {},
   "source": [
    "# Model training setup / configuration"
   ]
  },
  {
   "cell_type": "markdown",
   "id": "58db06c5",
   "metadata": {},
   "source": [
    "Hyperparameter configuration in preparation for training procedure on `Fakeddit`benchmark dataset.\n",
    "- `LearningRate Scheduler (LRScheduler)`: Reduces learning rate by factor `LR_FACTOR` with patience `LR_PATIENCE` if validation error `val_loss` rises for two consecutive epochs until minimum learning rate of `MIN_LR` is reached.\n",
    "- `Early Stopping` mechanism: Aborts training with patience `ES_PATIENCE` if subtraction of validate error `val_loss` of epoch *i* and validate error `val_loss` of epoch *i + 1* is below `MIN_DELTA`."
   ]
  },
  {
   "cell_type": "code",
   "execution_count": 29,
   "id": "decent-plane",
   "metadata": {},
   "outputs": [],
   "source": [
    "# Setting LR Scheduler hyperparameters\n",
    "LR_FACTOR=0.5\n",
    "MIN_LR=1e-6\n",
    "LR_PATIENCE=1\n",
    "\n",
    "# Setting Early Stopping hyperparameters\n",
    "ES_PATIENCE = 4\n",
    "MIN_DELTA = 0"
   ]
  },
  {
   "cell_type": "markdown",
   "id": "cd6adadc",
   "metadata": {},
   "source": [
    "Class `LRScheduler()` implements learning rate scheduler with `ReduceLROnPlateau` optimization, meaning that learning rate is reduced if plateau is reached (rising validation error `val_loss` for two consecutive epochs)."
   ]
  },
  {
   "cell_type": "code",
   "execution_count": 30,
   "id": "seeing-montana",
   "metadata": {},
   "outputs": [],
   "source": [
    "class LRScheduler():\n",
    "    \n",
    "    # Constructor for LRScheduler class\n",
    "    def __init__(self, optimizer, patience=LR_PATIENCE, min_lr=MIN_LR, factor=LR_FACTOR):\n",
    "        self.optimizer = optimizer\n",
    "        self.patience = patience\n",
    "        self.min_lr = min_lr\n",
    "        self.factor = factor\n",
    "        \n",
    "        self.lr_scheduler = torch.optim.lr_scheduler.ReduceLROnPlateau(\n",
    "            self.optimizer,\n",
    "            mode = \"min\",\n",
    "            patience = self.patience,\n",
    "            factor = self.factor,\n",
    "            min_lr = self.min_lr,\n",
    "            verbose = True\n",
    "        )\n",
    "        \n",
    "    def __call__(self, val_loss):\n",
    "        self.lr_scheduler.step(val_loss)"
   ]
  },
  {
   "cell_type": "markdown",
   "id": "6ed49887",
   "metadata": {},
   "source": [
    "Class `EarlyStopping` implements early stopping mechanism with constants `ES_PATIENCE` and `MIN_DELTA`."
   ]
  },
  {
   "cell_type": "code",
   "execution_count": 31,
   "id": "other-humanitarian",
   "metadata": {},
   "outputs": [],
   "source": [
    "class EarlyStopping():\n",
    "    \n",
    "    # Constructor for EarlyStopping class\n",
    "    def __init__(self, patience=ES_PATIENCE, min_delta=MIN_DELTA):\n",
    "        self.patience = patience\n",
    "        self.min_delta = min_delta\n",
    "        self.counter = 0\n",
    "        self.best_loss = None\n",
    "        self.early_stop = False\n",
    "    \n",
    "    # Call function implements comparison of validation error val_loss of epoch i with val_loss\n",
    "    # of epoch i + 1 --> Counter until max. 4 epochs initialized\n",
    "    def __call__(self, val_loss):\n",
    "        if self.best_loss == None:\n",
    "            self.best_loss = val_loss\n",
    "        elif self.best_loss - val_loss > self.min_delta:\n",
    "            self.best_loss = val_loss\n",
    "            self.counter = 0\n",
    "        elif self.best_loss - val_loss <= self.min_delta:\n",
    "            self.counter += 1\n",
    "            print(f\"INFO: Early stopping counter {self.counter} of {self.patience}.\")\n",
    "            if self.counter >= self.patience:\n",
    "                print(\"INFO: Early Stopping!\")\n",
    "                self.early_stop = True"
   ]
  },
  {
   "cell_type": "markdown",
   "id": "33cdc5e3",
   "metadata": {},
   "source": [
    "`get_class_weights()` function calculates percentage values per class for a weighted `CrossEntropy`. Reasoning is an highly imbalanced Fakeddit benchmarks dataset. Classes with a high number of Reddit-Post samples are normalized and are considered less by percentage during loss calculation. Also, some classes have considerably more sample data, all classes are weighted and taken as input into the loass calculation according to their respective number of samples. High number of class samples yields lower percentage weights, and low number of class samples yields higher percentage weight.\n",
    "- `params`: dataframe (Fakeddit training split dataframe - sample distribution in all splits identical)\n",
    "- `returns`: class_weights (percentage points per class in intervall between *0* and *1*"
   ]
  },
  {
   "cell_type": "code",
   "execution_count": 32,
   "id": "fossil-timeline",
   "metadata": {},
   "outputs": [],
   "source": [
    "def get_class_weights(dataframe):\n",
    "    \n",
    "    # Count labels per class / subtype of Fake News in training set split\n",
    "    # in sorted order 0, 1, 2, 3, 4, 5 and put into label_count list\n",
    "    label_count = [dataframe[\"6_way_label\"].value_counts().sort_index(0)[0],\n",
    "                   dataframe[\"6_way_label\"].value_counts().sort_index(0)[1],\n",
    "                   dataframe[\"6_way_label\"].value_counts().sort_index(0)[2],\n",
    "                   dataframe[\"6_way_label\"].value_counts().sort_index(0)[3],\n",
    "                   dataframe[\"6_way_label\"].value_counts().sort_index(0)[4],\n",
    "                   dataframe[\"6_way_label\"].value_counts().sort_index(0)[5]]\n",
    "    \n",
    "    # Calculate weights per class by subtracting from 1 label_count per class divided\n",
    "    # by sum of all label_counts\n",
    "    class_weights = [1 - (x / sum(label_count)) for x in label_count]\n",
    "    # Converting list of class_weights to float PyTorch tensor and assigning to device\n",
    "    class_weights = torch.FloatTensor(class_weights)\n",
    "\n",
    "    # Returns class_weights tensor of data type float\n",
    "    return class_weights"
   ]
  },
  {
   "cell_type": "code",
   "execution_count": 33,
   "id": "miniature-washington",
   "metadata": {},
   "outputs": [
    {
     "name": "stdout",
     "output_type": "stream",
     "text": [
      "tensor([0.6062, 0.9406, 0.8099, 0.9791, 0.7024, 0.9617])\n"
     ]
    }
   ],
   "source": [
    "# Calculate class weights on basis of training split dataframe and print weight tensor\n",
    "class_weights = get_class_weights(df_train)\n",
    "print(class_weights)"
   ]
  },
  {
   "cell_type": "markdown",
   "id": "f42452f9",
   "metadata": {},
   "source": [
    "`Hyperparameters` for training Title DistilFND are set in the following section."
   ]
  },
  {
   "cell_type": "code",
   "execution_count": 34,
   "id": "postal-accessory",
   "metadata": {},
   "outputs": [],
   "source": [
    "# Training for a total of 20 epochs\n",
    "EPOCHS = 20\n",
    "\n",
    "# Initializing AdamW optimizer for trainable parameters with initial learning rate of 3e-5\n",
    "optimizer = AdamW(fn_detector.parameters(), lr=3e-5, correct_bias=False)\n",
    "\n",
    "# Definiing toal training steps by multiplying length of samples per DataLoader by EPOCHS\n",
    "total_steps = len(train_data_loader) * EPOCHS\n",
    "\n",
    "# Initializing linear scheduling warmup for training procedure\n",
    "scheduler = get_linear_schedule_with_warmup(\n",
    "    optimizer,\n",
    "    num_warmup_steps=0,\n",
    "    num_training_steps=total_steps\n",
    ")\n",
    "\n",
    "# Initializing weighted Cross Entropy Loss function and assignment to device\n",
    "loss_function = nn.CrossEntropyLoss(weight=class_weights).to(device)\n",
    "\n",
    "# Initlaizing Learning Rate Scheduler with AdamW optimizer and Early Stopping mechanism\n",
    "lr_scheduler = LRScheduler(optimizer)\n",
    "early_stopping = EarlyStopping()"
   ]
  },
  {
   "cell_type": "markdown",
   "id": "0cde2acf",
   "metadata": {},
   "source": [
    "# Model training procedure"
   ]
  },
  {
   "cell_type": "markdown",
   "id": "a84043f8",
   "metadata": {},
   "source": [
    "`train_model()` function is called to train fake news detector on basis of `Fakeddit` training set split.\n",
    "- `params`: model (Image DistilFND)\n",
    "- `params`: data_loader (PyTorch sample DataLoader)\n",
    "- `params`: loss_function (weighted Cross Entropy Loss)\n",
    "- `params`: optimizer (AdamW)\n",
    "- `params`: device (either GPU or CPU resource)\n",
    "- `params`: scheduler (configuration of warmup procedure)\n",
    "- `params`: num_examples (count of batches of respective data split containing a total of 16 samples)\n",
    "- `returns`: training accuracy `train_acc` per epoch (`correct_preds.double() / num_examples`)\n",
    "- `returns`: mean of training loss value `train_loss"
   ]
  },
  {
   "cell_type": "code",
   "execution_count": 35,
   "id": "developing-confirmation",
   "metadata": {},
   "outputs": [],
   "source": [
    "def train_model(model, data_loader, loss_function, optimizer, device, scheduler, num_examples):\n",
    "    print(\"Training model in progress...\")\n",
    "    print(\"-\" * 10)\n",
    "    \n",
    "    # Putting model in training condition including regularization layers\n",
    "    model = model.train()\n",
    "    \n",
    "    # Saving training lossses per epoch and initalizing correct prediction count\n",
    "    train_losses = []\n",
    "    correct_preds = 0\n",
    "    \n",
    "    # Iteration over data (batches) contained in data split set DataLoader\n",
    "    for data in tqdm(data_loader):\n",
    "\n",
    "        # Initializing image data and label per Reddit-Post\n",
    "        # and assigning to device\n",
    "        image = data[\"image\"].to(device)\n",
    "        labels = data[\"label\"].to(device)\n",
    "\n",
    "        # Feeding input data to Image DistilFND\n",
    "        outputs = model(\n",
    "                image = image\n",
    "        )\n",
    "\n",
    "        # Final Softmax layer returns class predictions per sample in batch\n",
    "        # Highest probability value resembles class prediction and is assigned to preds variable\n",
    "        _, preds = torch.max(outputs, dim=1)\n",
    "\n",
    "        # Training loss is calculated by applying weighted Cross Entropy Loss\n",
    "        # on comparison between predicted label and ground truth label\n",
    "        train_loss = loss_function(outputs, labels)\n",
    "\n",
    "        # Counting correct model predictions and incrementing correct prediction count\n",
    "        correct_preds += torch.sum(preds == labels)\n",
    "        # Append training loss of current epoch to list of training losses\n",
    "        train_losses.append(train_loss.item())\n",
    "        # Initialize backpropagation to adjust model weights / parameters\n",
    "        train_loss.backward()\n",
    "        # Normalize gradient values to regularize parameter update\n",
    "        nn.utils.clip_grad_norm_(model.parameters(), max_norm=1.0)\n",
    "        # Perform parameter update based on current gradient value\n",
    "        optimizer.step()\n",
    "        # Moving scheduler to next step / iteration\n",
    "        scheduler.step()\n",
    "        # Zero out current gradients to initialize fresh optimizer state for next epoch\n",
    "        optimizer.zero_grad()\n",
    "    \n",
    "    # Return train_acc and train_loss values\n",
    "    return correct_preds.double() / num_examples, np.mean(train_losses)"
   ]
  },
  {
   "cell_type": "markdown",
   "id": "ddfc72f6",
   "metadata": {},
   "source": [
    "`evaluate_model()` function is used to evaluate the current state of the fake news detector in each epoch after completed iteration over training set split. Evaluation is performed on validation data split. In evaluation mode no model parameter updates are condusted. Hence, there is no need for an optimizer, but validation accuracy `val_acc` and validation loss `val_loss` is calculated.\n",
    "- `params`: model (Image DistilFND)\n",
    "- `params`: data_loader (PyTorch sample DataLoader)\n",
    "- `params`: loss_function (weighted Cross Entropy Loss)\n",
    "- `params`: device (either GPU or CPU resource)\n",
    "- `params`: num_examples (count of batches of respective data split containing a total of 16 samples)\n",
    "- `returns`: validation accuracy `val_acc`per epoch (`correct_preds.double() / num_examples`)\n",
    "- `returns`: mean of validation loss value `val_loss"
   ]
  },
  {
   "cell_type": "code",
   "execution_count": 36,
   "id": "searching-sleep",
   "metadata": {},
   "outputs": [],
   "source": [
    "def evaluate_model(model, data_loader, loss_function, device, num_examples):\n",
    "    print(\"Validating model in progress...\")\n",
    "    print(\"-\" * 10)\n",
    "    \n",
    "    # Switching off regularization and normalization layers for evaluation mode\n",
    "    # Hence, no model parameters are adjusted. Model is evaluated in current state\n",
    "    model = model.eval()\n",
    "    \n",
    "    # Saving validation loss per epoch\n",
    "    val_losses = []\n",
    "    correct_preds = 0\n",
    "    \n",
    "    # Skipping gradient calulation over weights --> Not needed, because\n",
    "    # no parameters are updated and significantly speeds up iteration over samples batches\n",
    "    with torch.no_grad():\n",
    "        # Iteration over data (batches) contained in data split set DataLoader\n",
    "        for data in tqdm(data_loader):\n",
    "            \n",
    "            # Initializing image data and label per Reddit-Post\n",
    "            # and assigning to device\n",
    "            image = data[\"image\"].to(device)\n",
    "            labels = data[\"label\"].to(device)\n",
    "            \n",
    "            # Feeding input data to Image DistilFND state in current epoch\n",
    "            outputs = model(\n",
    "                    image = image\n",
    "            )\n",
    "            \n",
    "            # Final Softmax layer returns class predictions per sample in batch\n",
    "            # Highest probability value resembles class prediction and is assigned to preds variable\n",
    "            _, preds = torch.max(outputs, dim=1)\n",
    "            \n",
    "            # Validation loss is calculated by applying weighted Cross Entropy Loss\n",
    "            # on comparison between predicted label and ground truth label\n",
    "            val_loss = loss_function(outputs, labels)\n",
    "            \n",
    "            # Counting correct model predictions and incrementing correct prediction count\n",
    "            correct_preds += torch.sum(preds == labels)\n",
    "            \n",
    "            # Appending current validation loss per batch\n",
    "            # to list of validation losses per epoch\n",
    "            val_losses.append(val_loss.item())\n",
    "    \n",
    "    # Returns val_acc and val_loss values\n",
    "    return correct_preds.double() / num_examples, np.mean(val_losses)"
   ]
  },
  {
   "cell_type": "markdown",
   "id": "9f8e18a3",
   "metadata": {},
   "source": [
    "`Training loop` integrates `Hyperparameters`, `train_model()` and `evaluate_model` function into one training loop. Title DistilFND iterates over training and validation data splits a total of *20* times for the total number of epochs. Training history, `train_acc`, `train_loss`, `val_acc` and `val_loss` per epoch are saved in `history` dictionary for analysis after training procedure is completed. After each epoch the current state of model and optimizer is saved in a checkpoint and if the `val_acc` has increased in comparison to previous epoch, the complete model is saved as a `pth` file with the `torch.save` function."
   ]
  },
  {
   "cell_type": "code",
   "execution_count": 37,
   "id": "recent-geology",
   "metadata": {},
   "outputs": [
    {
     "name": "stdout",
     "output_type": "stream",
     "text": [
      "Epoch 1/20\n",
      "----------\n",
      "Training model in progress...\n",
      "----------\n"
     ]
    },
    {
     "data": {
      "application/vnd.jupyter.widget-view+json": {
       "model_id": "46052d16c12b4d049d2ba9137d08237e",
       "version_major": 2,
       "version_minor": 0
      },
      "text/plain": [
       "  0%|          | 0/5640 [00:00<?, ?it/s]"
      ]
     },
     "metadata": {},
     "output_type": "display_data"
    },
    {
     "name": "stderr",
     "output_type": "stream",
     "text": [
      "/home/ubuntu/anaconda3/envs/pytorch_latest_p37/lib/python3.7/site-packages/PIL/Image.py:974: UserWarning: Palette images with Transparency expressed in bytes should be converted to RGBA images\n",
      "  \"Palette images with Transparency expressed in bytes should be \"\n",
      "/home/ubuntu/anaconda3/envs/pytorch_latest_p37/lib/python3.7/site-packages/PIL/Image.py:974: UserWarning: Palette images with Transparency expressed in bytes should be converted to RGBA images\n",
      "  \"Palette images with Transparency expressed in bytes should be \"\n"
     ]
    },
    {
     "name": "stdout",
     "output_type": "stream",
     "text": [
      "Train loss 1.4742470859424441 | Accuracy 0.6051972517730497\n",
      "\n",
      "Validating model in progress...\n",
      "----------\n"
     ]
    },
    {
     "data": {
      "application/vnd.jupyter.widget-view+json": {
       "model_id": "5084678e891148fca11cf6126bd78619",
       "version_major": 2,
       "version_minor": 0
      },
      "text/plain": [
       "  0%|          | 0/705 [00:00<?, ?it/s]"
      ]
     },
     "metadata": {},
     "output_type": "display_data"
    },
    {
     "name": "stderr",
     "output_type": "stream",
     "text": [
      "/home/ubuntu/anaconda3/envs/pytorch_latest_p37/lib/python3.7/site-packages/PIL/Image.py:974: UserWarning: Palette images with Transparency expressed in bytes should be converted to RGBA images\n",
      "  \"Palette images with Transparency expressed in bytes should be \"\n"
     ]
    },
    {
     "name": "stdout",
     "output_type": "stream",
     "text": [
      "Val   loss 1.4448305726896786 | Accuracy 0.636968085106383\n",
      "\n",
      "Epoch 2/20\n",
      "----------\n",
      "Training model in progress...\n",
      "----------\n"
     ]
    },
    {
     "data": {
      "application/vnd.jupyter.widget-view+json": {
       "model_id": "b1f19c50702447ecaacf9524459f0dd3",
       "version_major": 2,
       "version_minor": 0
      },
      "text/plain": [
       "  0%|          | 0/5640 [00:00<?, ?it/s]"
      ]
     },
     "metadata": {},
     "output_type": "display_data"
    },
    {
     "name": "stderr",
     "output_type": "stream",
     "text": [
      "/home/ubuntu/anaconda3/envs/pytorch_latest_p37/lib/python3.7/site-packages/PIL/Image.py:974: UserWarning: Palette images with Transparency expressed in bytes should be converted to RGBA images\n",
      "  \"Palette images with Transparency expressed in bytes should be \"\n",
      "/home/ubuntu/anaconda3/envs/pytorch_latest_p37/lib/python3.7/site-packages/PIL/Image.py:974: UserWarning: Palette images with Transparency expressed in bytes should be converted to RGBA images\n",
      "  \"Palette images with Transparency expressed in bytes should be \"\n"
     ]
    },
    {
     "name": "stdout",
     "output_type": "stream",
     "text": [
      "Train loss 1.430058934946432 | Accuracy 0.6458222517730496\n",
      "\n",
      "Validating model in progress...\n",
      "----------\n"
     ]
    },
    {
     "data": {
      "application/vnd.jupyter.widget-view+json": {
       "model_id": "1fa491d1dde2414183743622b0dfa845",
       "version_major": 2,
       "version_minor": 0
      },
      "text/plain": [
       "  0%|          | 0/705 [00:00<?, ?it/s]"
      ]
     },
     "metadata": {},
     "output_type": "display_data"
    },
    {
     "name": "stderr",
     "output_type": "stream",
     "text": [
      "/home/ubuntu/anaconda3/envs/pytorch_latest_p37/lib/python3.7/site-packages/PIL/Image.py:974: UserWarning: Palette images with Transparency expressed in bytes should be converted to RGBA images\n",
      "  \"Palette images with Transparency expressed in bytes should be \"\n"
     ]
    },
    {
     "name": "stdout",
     "output_type": "stream",
     "text": [
      "Val   loss 1.3939122986286245 | Accuracy 0.6742907801418441\n",
      "\n",
      "Epoch 3/20\n",
      "----------\n",
      "Training model in progress...\n",
      "----------\n"
     ]
    },
    {
     "data": {
      "application/vnd.jupyter.widget-view+json": {
       "model_id": "7a1a15fc960445dd80461d47bcb5b461",
       "version_major": 2,
       "version_minor": 0
      },
      "text/plain": [
       "  0%|          | 0/5640 [00:00<?, ?it/s]"
      ]
     },
     "metadata": {},
     "output_type": "display_data"
    },
    {
     "name": "stderr",
     "output_type": "stream",
     "text": [
      "/home/ubuntu/anaconda3/envs/pytorch_latest_p37/lib/python3.7/site-packages/PIL/Image.py:974: UserWarning: Palette images with Transparency expressed in bytes should be converted to RGBA images\n",
      "  \"Palette images with Transparency expressed in bytes should be \"\n",
      "/home/ubuntu/anaconda3/envs/pytorch_latest_p37/lib/python3.7/site-packages/PIL/Image.py:974: UserWarning: Palette images with Transparency expressed in bytes should be converted to RGBA images\n",
      "  \"Palette images with Transparency expressed in bytes should be \"\n"
     ]
    },
    {
     "name": "stdout",
     "output_type": "stream",
     "text": [
      "Train loss 1.405368603100168 | Accuracy 0.6659685283687944\n",
      "\n",
      "Validating model in progress...\n",
      "----------\n"
     ]
    },
    {
     "data": {
      "application/vnd.jupyter.widget-view+json": {
       "model_id": "d722e4dea64242089c5de40df059602a",
       "version_major": 2,
       "version_minor": 0
      },
      "text/plain": [
       "  0%|          | 0/705 [00:00<?, ?it/s]"
      ]
     },
     "metadata": {},
     "output_type": "display_data"
    },
    {
     "name": "stderr",
     "output_type": "stream",
     "text": [
      "/home/ubuntu/anaconda3/envs/pytorch_latest_p37/lib/python3.7/site-packages/PIL/Image.py:974: UserWarning: Palette images with Transparency expressed in bytes should be converted to RGBA images\n",
      "  \"Palette images with Transparency expressed in bytes should be \"\n"
     ]
    },
    {
     "name": "stdout",
     "output_type": "stream",
     "text": [
      "Val   loss 1.3871489873169163 | Accuracy 0.687677304964539\n",
      "\n",
      "Epoch 4/20\n",
      "----------\n",
      "Training model in progress...\n",
      "----------\n"
     ]
    },
    {
     "data": {
      "application/vnd.jupyter.widget-view+json": {
       "model_id": "ccddfae366d14cd8a0d25df0a522e2f6",
       "version_major": 2,
       "version_minor": 0
      },
      "text/plain": [
       "  0%|          | 0/5640 [00:00<?, ?it/s]"
      ]
     },
     "metadata": {},
     "output_type": "display_data"
    },
    {
     "name": "stderr",
     "output_type": "stream",
     "text": [
      "/home/ubuntu/anaconda3/envs/pytorch_latest_p37/lib/python3.7/site-packages/PIL/Image.py:974: UserWarning: Palette images with Transparency expressed in bytes should be converted to RGBA images\n",
      "  \"Palette images with Transparency expressed in bytes should be \"\n",
      "/home/ubuntu/anaconda3/envs/pytorch_latest_p37/lib/python3.7/site-packages/PIL/Image.py:974: UserWarning: Palette images with Transparency expressed in bytes should be converted to RGBA images\n",
      "  \"Palette images with Transparency expressed in bytes should be \"\n"
     ]
    },
    {
     "name": "stdout",
     "output_type": "stream",
     "text": [
      "Train loss 1.3892875466575014 | Accuracy 0.6806294326241136\n",
      "\n",
      "Validating model in progress...\n",
      "----------\n"
     ]
    },
    {
     "data": {
      "application/vnd.jupyter.widget-view+json": {
       "model_id": "203c78e6d08e4d56b638c79f2ced6c58",
       "version_major": 2,
       "version_minor": 0
      },
      "text/plain": [
       "  0%|          | 0/705 [00:00<?, ?it/s]"
      ]
     },
     "metadata": {},
     "output_type": "display_data"
    },
    {
     "name": "stderr",
     "output_type": "stream",
     "text": [
      "/home/ubuntu/anaconda3/envs/pytorch_latest_p37/lib/python3.7/site-packages/PIL/Image.py:974: UserWarning: Palette images with Transparency expressed in bytes should be converted to RGBA images\n",
      "  \"Palette images with Transparency expressed in bytes should be \"\n"
     ]
    },
    {
     "name": "stdout",
     "output_type": "stream",
     "text": [
      "Val   loss 1.3703847041366795 | Accuracy 0.700177304964539\n",
      "\n",
      "Epoch 5/20\n",
      "----------\n",
      "Training model in progress...\n",
      "----------\n"
     ]
    },
    {
     "data": {
      "application/vnd.jupyter.widget-view+json": {
       "model_id": "dcf8627d41e64a57aa62996e9a5027cb",
       "version_major": 2,
       "version_minor": 0
      },
      "text/plain": [
       "  0%|          | 0/5640 [00:00<?, ?it/s]"
      ]
     },
     "metadata": {},
     "output_type": "display_data"
    },
    {
     "name": "stderr",
     "output_type": "stream",
     "text": [
      "/home/ubuntu/anaconda3/envs/pytorch_latest_p37/lib/python3.7/site-packages/PIL/Image.py:974: UserWarning: Palette images with Transparency expressed in bytes should be converted to RGBA images\n",
      "  \"Palette images with Transparency expressed in bytes should be \"\n",
      "/home/ubuntu/anaconda3/envs/pytorch_latest_p37/lib/python3.7/site-packages/PIL/Image.py:974: UserWarning: Palette images with Transparency expressed in bytes should be converted to RGBA images\n",
      "  \"Palette images with Transparency expressed in bytes should be \"\n"
     ]
    },
    {
     "name": "stdout",
     "output_type": "stream",
     "text": [
      "Train loss 1.3825621610626262 | Accuracy 0.6875554078014184\n",
      "\n",
      "Validating model in progress...\n",
      "----------\n"
     ]
    },
    {
     "data": {
      "application/vnd.jupyter.widget-view+json": {
       "model_id": "8010cccbc3bf4334b499969dc7ea7c12",
       "version_major": 2,
       "version_minor": 0
      },
      "text/plain": [
       "  0%|          | 0/705 [00:00<?, ?it/s]"
      ]
     },
     "metadata": {},
     "output_type": "display_data"
    },
    {
     "name": "stderr",
     "output_type": "stream",
     "text": [
      "/home/ubuntu/anaconda3/envs/pytorch_latest_p37/lib/python3.7/site-packages/PIL/Image.py:974: UserWarning: Palette images with Transparency expressed in bytes should be converted to RGBA images\n",
      "  \"Palette images with Transparency expressed in bytes should be \"\n"
     ]
    },
    {
     "name": "stdout",
     "output_type": "stream",
     "text": [
      "Val   loss 1.3778309083154014 | Accuracy 0.6959219858156029\n",
      "\n",
      "INFO: Early stopping counter 1 of 4.\n",
      "Epoch 6/20\n",
      "----------\n",
      "Training model in progress...\n",
      "----------\n"
     ]
    },
    {
     "data": {
      "application/vnd.jupyter.widget-view+json": {
       "model_id": "ae65a568611147628e30f60282ba403e",
       "version_major": 2,
       "version_minor": 0
      },
      "text/plain": [
       "  0%|          | 0/5640 [00:00<?, ?it/s]"
      ]
     },
     "metadata": {},
     "output_type": "display_data"
    },
    {
     "name": "stderr",
     "output_type": "stream",
     "text": [
      "/home/ubuntu/anaconda3/envs/pytorch_latest_p37/lib/python3.7/site-packages/PIL/Image.py:974: UserWarning: Palette images with Transparency expressed in bytes should be converted to RGBA images\n",
      "  \"Palette images with Transparency expressed in bytes should be \"\n",
      "/home/ubuntu/anaconda3/envs/pytorch_latest_p37/lib/python3.7/site-packages/PIL/Image.py:974: UserWarning: Palette images with Transparency expressed in bytes should be converted to RGBA images\n",
      "  \"Palette images with Transparency expressed in bytes should be \"\n"
     ]
    },
    {
     "name": "stdout",
     "output_type": "stream",
     "text": [
      "Train loss 1.375193325805326 | Accuracy 0.6949468085106384\n",
      "\n",
      "Validating model in progress...\n",
      "----------\n"
     ]
    },
    {
     "data": {
      "application/vnd.jupyter.widget-view+json": {
       "model_id": "85ddf4e4b3ff4edc988154de35a3d977",
       "version_major": 2,
       "version_minor": 0
      },
      "text/plain": [
       "  0%|          | 0/705 [00:00<?, ?it/s]"
      ]
     },
     "metadata": {},
     "output_type": "display_data"
    },
    {
     "name": "stderr",
     "output_type": "stream",
     "text": [
      "/home/ubuntu/anaconda3/envs/pytorch_latest_p37/lib/python3.7/site-packages/PIL/Image.py:974: UserWarning: Palette images with Transparency expressed in bytes should be converted to RGBA images\n",
      "  \"Palette images with Transparency expressed in bytes should be \"\n"
     ]
    },
    {
     "name": "stdout",
     "output_type": "stream",
     "text": [
      "Val   loss 1.3660275789017373 | Accuracy 0.7028368794326242\n",
      "\n",
      "Epoch 7/20\n",
      "----------\n",
      "Training model in progress...\n",
      "----------\n"
     ]
    },
    {
     "data": {
      "application/vnd.jupyter.widget-view+json": {
       "model_id": "dfff7204926449fea4abc82ff5dfd4bd",
       "version_major": 2,
       "version_minor": 0
      },
      "text/plain": [
       "  0%|          | 0/5640 [00:00<?, ?it/s]"
      ]
     },
     "metadata": {},
     "output_type": "display_data"
    },
    {
     "name": "stderr",
     "output_type": "stream",
     "text": [
      "/home/ubuntu/anaconda3/envs/pytorch_latest_p37/lib/python3.7/site-packages/PIL/Image.py:974: UserWarning: Palette images with Transparency expressed in bytes should be converted to RGBA images\n",
      "  \"Palette images with Transparency expressed in bytes should be \"\n",
      "/home/ubuntu/anaconda3/envs/pytorch_latest_p37/lib/python3.7/site-packages/PIL/Image.py:974: UserWarning: Palette images with Transparency expressed in bytes should be converted to RGBA images\n",
      "  \"Palette images with Transparency expressed in bytes should be \"\n"
     ]
    },
    {
     "name": "stdout",
     "output_type": "stream",
     "text": [
      "Train loss 1.3668729045712356 | Accuracy 0.7019835992907801\n",
      "\n",
      "Validating model in progress...\n",
      "----------\n"
     ]
    },
    {
     "data": {
      "application/vnd.jupyter.widget-view+json": {
       "model_id": "5771606239c6499795a77dbe8ec22e36",
       "version_major": 2,
       "version_minor": 0
      },
      "text/plain": [
       "  0%|          | 0/705 [00:00<?, ?it/s]"
      ]
     },
     "metadata": {},
     "output_type": "display_data"
    },
    {
     "name": "stderr",
     "output_type": "stream",
     "text": [
      "/home/ubuntu/anaconda3/envs/pytorch_latest_p37/lib/python3.7/site-packages/PIL/Image.py:974: UserWarning: Palette images with Transparency expressed in bytes should be converted to RGBA images\n",
      "  \"Palette images with Transparency expressed in bytes should be \"\n"
     ]
    },
    {
     "name": "stdout",
     "output_type": "stream",
     "text": [
      "Val   loss 1.3629947474662294 | Accuracy 0.7046985815602838\n",
      "\n",
      "Epoch 8/20\n",
      "----------\n",
      "Training model in progress...\n",
      "----------\n"
     ]
    },
    {
     "data": {
      "application/vnd.jupyter.widget-view+json": {
       "model_id": "cfd52bdf2d8d4c9d926fd5ef78cc9fc6",
       "version_major": 2,
       "version_minor": 0
      },
      "text/plain": [
       "  0%|          | 0/5640 [00:00<?, ?it/s]"
      ]
     },
     "metadata": {},
     "output_type": "display_data"
    },
    {
     "name": "stderr",
     "output_type": "stream",
     "text": [
      "/home/ubuntu/anaconda3/envs/pytorch_latest_p37/lib/python3.7/site-packages/PIL/Image.py:974: UserWarning: Palette images with Transparency expressed in bytes should be converted to RGBA images\n",
      "  \"Palette images with Transparency expressed in bytes should be \"\n",
      "/home/ubuntu/anaconda3/envs/pytorch_latest_p37/lib/python3.7/site-packages/PIL/Image.py:974: UserWarning: Palette images with Transparency expressed in bytes should be converted to RGBA images\n",
      "  \"Palette images with Transparency expressed in bytes should be \"\n"
     ]
    },
    {
     "name": "stdout",
     "output_type": "stream",
     "text": [
      "Train loss 1.3584039130743513 | Accuracy 0.7108045212765958\n",
      "\n",
      "Validating model in progress...\n",
      "----------\n"
     ]
    },
    {
     "data": {
      "application/vnd.jupyter.widget-view+json": {
       "model_id": "b9d8d108eeb94e78947354fc768ab851",
       "version_major": 2,
       "version_minor": 0
      },
      "text/plain": [
       "  0%|          | 0/705 [00:00<?, ?it/s]"
      ]
     },
     "metadata": {},
     "output_type": "display_data"
    },
    {
     "name": "stderr",
     "output_type": "stream",
     "text": [
      "/home/ubuntu/anaconda3/envs/pytorch_latest_p37/lib/python3.7/site-packages/PIL/Image.py:974: UserWarning: Palette images with Transparency expressed in bytes should be converted to RGBA images\n",
      "  \"Palette images with Transparency expressed in bytes should be \"\n"
     ]
    },
    {
     "name": "stdout",
     "output_type": "stream",
     "text": [
      "Val   loss 1.3637763118067532 | Accuracy 0.709840425531915\n",
      "\n",
      "INFO: Early stopping counter 1 of 4.\n",
      "Epoch 9/20\n",
      "----------\n",
      "Training model in progress...\n",
      "----------\n"
     ]
    },
    {
     "data": {
      "application/vnd.jupyter.widget-view+json": {
       "model_id": "af71405569aa47468883d0e97549d5de",
       "version_major": 2,
       "version_minor": 0
      },
      "text/plain": [
       "  0%|          | 0/5640 [00:00<?, ?it/s]"
      ]
     },
     "metadata": {},
     "output_type": "display_data"
    },
    {
     "name": "stderr",
     "output_type": "stream",
     "text": [
      "/home/ubuntu/anaconda3/envs/pytorch_latest_p37/lib/python3.7/site-packages/PIL/Image.py:974: UserWarning: Palette images with Transparency expressed in bytes should be converted to RGBA images\n",
      "  \"Palette images with Transparency expressed in bytes should be \"\n",
      "/home/ubuntu/anaconda3/envs/pytorch_latest_p37/lib/python3.7/site-packages/PIL/Image.py:974: UserWarning: Palette images with Transparency expressed in bytes should be converted to RGBA images\n",
      "  \"Palette images with Transparency expressed in bytes should be \"\n"
     ]
    },
    {
     "name": "stdout",
     "output_type": "stream",
     "text": [
      "Train loss 1.354335782460287 | Accuracy 0.7150487588652483\n",
      "\n",
      "Validating model in progress...\n",
      "----------\n"
     ]
    },
    {
     "data": {
      "application/vnd.jupyter.widget-view+json": {
       "model_id": "7d7d70534b9d48e1810367b1587a8c60",
       "version_major": 2,
       "version_minor": 0
      },
      "text/plain": [
       "  0%|          | 0/705 [00:00<?, ?it/s]"
      ]
     },
     "metadata": {},
     "output_type": "display_data"
    },
    {
     "name": "stderr",
     "output_type": "stream",
     "text": [
      "/home/ubuntu/anaconda3/envs/pytorch_latest_p37/lib/python3.7/site-packages/PIL/Image.py:974: UserWarning: Palette images with Transparency expressed in bytes should be converted to RGBA images\n",
      "  \"Palette images with Transparency expressed in bytes should be \"\n"
     ]
    },
    {
     "name": "stdout",
     "output_type": "stream",
     "text": [
      "Val   loss 1.3645473290842476 | Accuracy 0.7068262411347518\n",
      "\n",
      "Epoch     9: reducing learning rate of group 0 to 8.2500e-06.\n",
      "INFO: Early stopping counter 2 of 4.\n",
      "Epoch 10/20\n",
      "----------\n",
      "Training model in progress...\n",
      "----------\n"
     ]
    },
    {
     "data": {
      "application/vnd.jupyter.widget-view+json": {
       "model_id": "0b67ce57c40840cabbdd659ec70e5d7e",
       "version_major": 2,
       "version_minor": 0
      },
      "text/plain": [
       "  0%|          | 0/5640 [00:00<?, ?it/s]"
      ]
     },
     "metadata": {},
     "output_type": "display_data"
    },
    {
     "name": "stderr",
     "output_type": "stream",
     "text": [
      "/home/ubuntu/anaconda3/envs/pytorch_latest_p37/lib/python3.7/site-packages/PIL/Image.py:974: UserWarning: Palette images with Transparency expressed in bytes should be converted to RGBA images\n",
      "  \"Palette images with Transparency expressed in bytes should be \"\n",
      "/home/ubuntu/anaconda3/envs/pytorch_latest_p37/lib/python3.7/site-packages/PIL/Image.py:974: UserWarning: Palette images with Transparency expressed in bytes should be converted to RGBA images\n",
      "  \"Palette images with Transparency expressed in bytes should be \"\n"
     ]
    },
    {
     "name": "stdout",
     "output_type": "stream",
     "text": [
      "Train loss 1.3486799618876573 | Accuracy 0.7200022163120567\n",
      "\n",
      "Validating model in progress...\n",
      "----------\n"
     ]
    },
    {
     "data": {
      "application/vnd.jupyter.widget-view+json": {
       "model_id": "c870e49653d841faba80e1e16b5d2107",
       "version_major": 2,
       "version_minor": 0
      },
      "text/plain": [
       "  0%|          | 0/705 [00:00<?, ?it/s]"
      ]
     },
     "metadata": {},
     "output_type": "display_data"
    },
    {
     "name": "stderr",
     "output_type": "stream",
     "text": [
      "/home/ubuntu/anaconda3/envs/pytorch_latest_p37/lib/python3.7/site-packages/PIL/Image.py:974: UserWarning: Palette images with Transparency expressed in bytes should be converted to RGBA images\n",
      "  \"Palette images with Transparency expressed in bytes should be \"\n"
     ]
    },
    {
     "name": "stdout",
     "output_type": "stream",
     "text": [
      "Val   loss 1.356728298782457 | Accuracy 0.711436170212766\n",
      "\n",
      "Epoch 11/20\n",
      "----------\n",
      "Training model in progress...\n",
      "----------\n"
     ]
    },
    {
     "data": {
      "application/vnd.jupyter.widget-view+json": {
       "model_id": "88b8ec5d77774e61891429f384ead8be",
       "version_major": 2,
       "version_minor": 0
      },
      "text/plain": [
       "  0%|          | 0/5640 [00:00<?, ?it/s]"
      ]
     },
     "metadata": {},
     "output_type": "display_data"
    },
    {
     "name": "stderr",
     "output_type": "stream",
     "text": [
      "/home/ubuntu/anaconda3/envs/pytorch_latest_p37/lib/python3.7/site-packages/PIL/Image.py:974: UserWarning: Palette images with Transparency expressed in bytes should be converted to RGBA images\n",
      "  \"Palette images with Transparency expressed in bytes should be \"\n",
      "/home/ubuntu/anaconda3/envs/pytorch_latest_p37/lib/python3.7/site-packages/PIL/Image.py:974: UserWarning: Palette images with Transparency expressed in bytes should be converted to RGBA images\n",
      "  \"Palette images with Transparency expressed in bytes should be \"\n"
     ]
    },
    {
     "name": "stdout",
     "output_type": "stream",
     "text": [
      "Train loss 1.3451786600951607 | Accuracy 0.7234375000000001\n",
      "\n",
      "Validating model in progress...\n",
      "----------\n"
     ]
    },
    {
     "data": {
      "application/vnd.jupyter.widget-view+json": {
       "model_id": "b0f94f61d5bf4c639387c013ef6a3e9d",
       "version_major": 2,
       "version_minor": 0
      },
      "text/plain": [
       "  0%|          | 0/705 [00:00<?, ?it/s]"
      ]
     },
     "metadata": {},
     "output_type": "display_data"
    },
    {
     "name": "stderr",
     "output_type": "stream",
     "text": [
      "/home/ubuntu/anaconda3/envs/pytorch_latest_p37/lib/python3.7/site-packages/PIL/Image.py:974: UserWarning: Palette images with Transparency expressed in bytes should be converted to RGBA images\n",
      "  \"Palette images with Transparency expressed in bytes should be \"\n"
     ]
    },
    {
     "name": "stdout",
     "output_type": "stream",
     "text": [
      "Val   loss 1.3592876988945277 | Accuracy 0.7090425531914895\n",
      "\n",
      "INFO: Early stopping counter 1 of 4.\n",
      "Epoch 12/20\n",
      "----------\n",
      "Training model in progress...\n",
      "----------\n"
     ]
    },
    {
     "data": {
      "application/vnd.jupyter.widget-view+json": {
       "model_id": "1a1d290456024e7b93eb92f7528ead26",
       "version_major": 2,
       "version_minor": 0
      },
      "text/plain": [
       "  0%|          | 0/5640 [00:00<?, ?it/s]"
      ]
     },
     "metadata": {},
     "output_type": "display_data"
    },
    {
     "name": "stderr",
     "output_type": "stream",
     "text": [
      "/home/ubuntu/anaconda3/envs/pytorch_latest_p37/lib/python3.7/site-packages/PIL/Image.py:974: UserWarning: Palette images with Transparency expressed in bytes should be converted to RGBA images\n",
      "  \"Palette images with Transparency expressed in bytes should be \"\n",
      "/home/ubuntu/anaconda3/envs/pytorch_latest_p37/lib/python3.7/site-packages/PIL/Image.py:974: UserWarning: Palette images with Transparency expressed in bytes should be converted to RGBA images\n",
      "  \"Palette images with Transparency expressed in bytes should be \"\n"
     ]
    },
    {
     "name": "stdout",
     "output_type": "stream",
     "text": [
      "Train loss 1.3402838658567862 | Accuracy 0.7287455673758866\n",
      "\n",
      "Validating model in progress...\n",
      "----------\n"
     ]
    },
    {
     "data": {
      "application/vnd.jupyter.widget-view+json": {
       "model_id": "08cd30c55eb145b0a9813a0123883931",
       "version_major": 2,
       "version_minor": 0
      },
      "text/plain": [
       "  0%|          | 0/705 [00:00<?, ?it/s]"
      ]
     },
     "metadata": {},
     "output_type": "display_data"
    },
    {
     "name": "stderr",
     "output_type": "stream",
     "text": [
      "/home/ubuntu/anaconda3/envs/pytorch_latest_p37/lib/python3.7/site-packages/PIL/Image.py:974: UserWarning: Palette images with Transparency expressed in bytes should be converted to RGBA images\n",
      "  \"Palette images with Transparency expressed in bytes should be \"\n"
     ]
    },
    {
     "name": "stdout",
     "output_type": "stream",
     "text": [
      "Val   loss 1.3492475996626185 | Accuracy 0.7150709219858157\n",
      "\n",
      "Epoch 13/20\n",
      "----------\n",
      "Training model in progress...\n",
      "----------\n"
     ]
    },
    {
     "data": {
      "application/vnd.jupyter.widget-view+json": {
       "model_id": "928f665dccd74a8fbdf33db1bed1551d",
       "version_major": 2,
       "version_minor": 0
      },
      "text/plain": [
       "  0%|          | 0/5640 [00:00<?, ?it/s]"
      ]
     },
     "metadata": {},
     "output_type": "display_data"
    },
    {
     "name": "stderr",
     "output_type": "stream",
     "text": [
      "/home/ubuntu/anaconda3/envs/pytorch_latest_p37/lib/python3.7/site-packages/PIL/Image.py:974: UserWarning: Palette images with Transparency expressed in bytes should be converted to RGBA images\n",
      "  \"Palette images with Transparency expressed in bytes should be \"\n",
      "/home/ubuntu/anaconda3/envs/pytorch_latest_p37/lib/python3.7/site-packages/PIL/Image.py:974: UserWarning: Palette images with Transparency expressed in bytes should be converted to RGBA images\n",
      "  \"Palette images with Transparency expressed in bytes should be \"\n"
     ]
    },
    {
     "name": "stdout",
     "output_type": "stream",
     "text": [
      "Train loss 1.3339759701955403 | Accuracy 0.7344525709219859\n",
      "\n",
      "Validating model in progress...\n",
      "----------\n"
     ]
    },
    {
     "data": {
      "application/vnd.jupyter.widget-view+json": {
       "model_id": "7f710c93e4b84f319ccd2b44f217b8bf",
       "version_major": 2,
       "version_minor": 0
      },
      "text/plain": [
       "  0%|          | 0/705 [00:00<?, ?it/s]"
      ]
     },
     "metadata": {},
     "output_type": "display_data"
    },
    {
     "name": "stderr",
     "output_type": "stream",
     "text": [
      "/home/ubuntu/anaconda3/envs/pytorch_latest_p37/lib/python3.7/site-packages/PIL/Image.py:974: UserWarning: Palette images with Transparency expressed in bytes should be converted to RGBA images\n",
      "  \"Palette images with Transparency expressed in bytes should be \"\n"
     ]
    },
    {
     "name": "stdout",
     "output_type": "stream",
     "text": [
      "Val   loss 1.3522089447535521 | Accuracy 0.7173758865248228\n",
      "\n",
      "INFO: Early stopping counter 1 of 4.\n",
      "Epoch 14/20\n",
      "----------\n",
      "Training model in progress...\n",
      "----------\n"
     ]
    },
    {
     "data": {
      "application/vnd.jupyter.widget-view+json": {
       "model_id": "dc6ee12232434644bddd5718ba8842ae",
       "version_major": 2,
       "version_minor": 0
      },
      "text/plain": [
       "  0%|          | 0/5640 [00:00<?, ?it/s]"
      ]
     },
     "metadata": {},
     "output_type": "display_data"
    },
    {
     "name": "stderr",
     "output_type": "stream",
     "text": [
      "/home/ubuntu/anaconda3/envs/pytorch_latest_p37/lib/python3.7/site-packages/PIL/Image.py:974: UserWarning: Palette images with Transparency expressed in bytes should be converted to RGBA images\n",
      "  \"Palette images with Transparency expressed in bytes should be \"\n",
      "/home/ubuntu/anaconda3/envs/pytorch_latest_p37/lib/python3.7/site-packages/PIL/Image.py:974: UserWarning: Palette images with Transparency expressed in bytes should be converted to RGBA images\n",
      "  \"Palette images with Transparency expressed in bytes should be \"\n"
     ]
    },
    {
     "name": "stdout",
     "output_type": "stream",
     "text": [
      "Train loss 1.331484638059393 | Accuracy 0.7368018617021277\n",
      "\n",
      "Validating model in progress...\n",
      "----------\n"
     ]
    },
    {
     "data": {
      "application/vnd.jupyter.widget-view+json": {
       "model_id": "7a32692de6084a769779a8bcbf9862cb",
       "version_major": 2,
       "version_minor": 0
      },
      "text/plain": [
       "  0%|          | 0/705 [00:00<?, ?it/s]"
      ]
     },
     "metadata": {},
     "output_type": "display_data"
    },
    {
     "name": "stderr",
     "output_type": "stream",
     "text": [
      "/home/ubuntu/anaconda3/envs/pytorch_latest_p37/lib/python3.7/site-packages/PIL/Image.py:974: UserWarning: Palette images with Transparency expressed in bytes should be converted to RGBA images\n",
      "  \"Palette images with Transparency expressed in bytes should be \"\n"
     ]
    },
    {
     "name": "stdout",
     "output_type": "stream",
     "text": [
      "Val   loss 1.3394457565131763 | Accuracy 0.7284574468085107\n",
      "\n",
      "Epoch 15/20\n",
      "----------\n",
      "Training model in progress...\n",
      "----------\n"
     ]
    },
    {
     "data": {
      "application/vnd.jupyter.widget-view+json": {
       "model_id": "cacc101ead064554b73d98ad36048ec0",
       "version_major": 2,
       "version_minor": 0
      },
      "text/plain": [
       "  0%|          | 0/5640 [00:00<?, ?it/s]"
      ]
     },
     "metadata": {},
     "output_type": "display_data"
    },
    {
     "name": "stderr",
     "output_type": "stream",
     "text": [
      "/home/ubuntu/anaconda3/envs/pytorch_latest_p37/lib/python3.7/site-packages/PIL/Image.py:974: UserWarning: Palette images with Transparency expressed in bytes should be converted to RGBA images\n",
      "  \"Palette images with Transparency expressed in bytes should be \"\n",
      "/home/ubuntu/anaconda3/envs/pytorch_latest_p37/lib/python3.7/site-packages/PIL/Image.py:974: UserWarning: Palette images with Transparency expressed in bytes should be converted to RGBA images\n",
      "  \"Palette images with Transparency expressed in bytes should be \"\n"
     ]
    },
    {
     "name": "stdout",
     "output_type": "stream",
     "text": [
      "Train loss 1.325667666966188 | Accuracy 0.7422983156028369\n",
      "\n",
      "Validating model in progress...\n",
      "----------\n"
     ]
    },
    {
     "data": {
      "application/vnd.jupyter.widget-view+json": {
       "model_id": "00d44607fd254c5e9393b77271345d47",
       "version_major": 2,
       "version_minor": 0
      },
      "text/plain": [
       "  0%|          | 0/705 [00:00<?, ?it/s]"
      ]
     },
     "metadata": {},
     "output_type": "display_data"
    },
    {
     "name": "stderr",
     "output_type": "stream",
     "text": [
      "/home/ubuntu/anaconda3/envs/pytorch_latest_p37/lib/python3.7/site-packages/PIL/Image.py:974: UserWarning: Palette images with Transparency expressed in bytes should be converted to RGBA images\n",
      "  \"Palette images with Transparency expressed in bytes should be \"\n"
     ]
    },
    {
     "name": "stdout",
     "output_type": "stream",
     "text": [
      "Val   loss 1.3426589592128781 | Accuracy 0.7243794326241135\n",
      "\n",
      "INFO: Early stopping counter 1 of 4.\n",
      "Epoch 16/20\n",
      "----------\n",
      "Training model in progress...\n",
      "----------\n"
     ]
    },
    {
     "data": {
      "application/vnd.jupyter.widget-view+json": {
       "model_id": "d5641d5c76ca4b2190a754168af3ff2b",
       "version_major": 2,
       "version_minor": 0
      },
      "text/plain": [
       "  0%|          | 0/5640 [00:00<?, ?it/s]"
      ]
     },
     "metadata": {},
     "output_type": "display_data"
    },
    {
     "name": "stderr",
     "output_type": "stream",
     "text": [
      "/home/ubuntu/anaconda3/envs/pytorch_latest_p37/lib/python3.7/site-packages/PIL/Image.py:974: UserWarning: Palette images with Transparency expressed in bytes should be converted to RGBA images\n",
      "  \"Palette images with Transparency expressed in bytes should be \"\n",
      "/home/ubuntu/anaconda3/envs/pytorch_latest_p37/lib/python3.7/site-packages/PIL/Image.py:974: UserWarning: Palette images with Transparency expressed in bytes should be converted to RGBA images\n",
      "  \"Palette images with Transparency expressed in bytes should be \"\n"
     ]
    },
    {
     "name": "stdout",
     "output_type": "stream",
     "text": [
      "Train loss 1.3185861200728315 | Accuracy 0.749434840425532\n",
      "\n",
      "Validating model in progress...\n",
      "----------\n"
     ]
    },
    {
     "data": {
      "application/vnd.jupyter.widget-view+json": {
       "model_id": "d7e95c2e692243d1a148b8b7ce0438ce",
       "version_major": 2,
       "version_minor": 0
      },
      "text/plain": [
       "  0%|          | 0/705 [00:00<?, ?it/s]"
      ]
     },
     "metadata": {},
     "output_type": "display_data"
    },
    {
     "name": "stderr",
     "output_type": "stream",
     "text": [
      "/home/ubuntu/anaconda3/envs/pytorch_latest_p37/lib/python3.7/site-packages/PIL/Image.py:974: UserWarning: Palette images with Transparency expressed in bytes should be converted to RGBA images\n",
      "  \"Palette images with Transparency expressed in bytes should be \"\n"
     ]
    },
    {
     "name": "stdout",
     "output_type": "stream",
     "text": [
      "Val   loss 1.3438531346354925 | Accuracy 0.7265957446808511\n",
      "\n",
      "Epoch    16: reducing learning rate of group 0 to 3.0000e-06.\n",
      "INFO: Early stopping counter 2 of 4.\n",
      "Epoch 17/20\n",
      "----------\n",
      "Training model in progress...\n",
      "----------\n"
     ]
    },
    {
     "data": {
      "application/vnd.jupyter.widget-view+json": {
       "model_id": "9a0de6e45c734a5c90b308c7356f5b29",
       "version_major": 2,
       "version_minor": 0
      },
      "text/plain": [
       "  0%|          | 0/5640 [00:00<?, ?it/s]"
      ]
     },
     "metadata": {},
     "output_type": "display_data"
    },
    {
     "name": "stderr",
     "output_type": "stream",
     "text": [
      "/home/ubuntu/anaconda3/envs/pytorch_latest_p37/lib/python3.7/site-packages/PIL/Image.py:974: UserWarning: Palette images with Transparency expressed in bytes should be converted to RGBA images\n",
      "  \"Palette images with Transparency expressed in bytes should be \"\n",
      "/home/ubuntu/anaconda3/envs/pytorch_latest_p37/lib/python3.7/site-packages/PIL/Image.py:974: UserWarning: Palette images with Transparency expressed in bytes should be converted to RGBA images\n",
      "  \"Palette images with Transparency expressed in bytes should be \"\n"
     ]
    },
    {
     "name": "stdout",
     "output_type": "stream",
     "text": [
      "Train loss 1.3160917231165772 | Accuracy 0.751207890070922\n",
      "\n",
      "Validating model in progress...\n",
      "----------\n"
     ]
    },
    {
     "data": {
      "application/vnd.jupyter.widget-view+json": {
       "model_id": "632eba7e1fb14fcd8b56695203123e16",
       "version_major": 2,
       "version_minor": 0
      },
      "text/plain": [
       "  0%|          | 0/705 [00:00<?, ?it/s]"
      ]
     },
     "metadata": {},
     "output_type": "display_data"
    },
    {
     "name": "stderr",
     "output_type": "stream",
     "text": [
      "/home/ubuntu/anaconda3/envs/pytorch_latest_p37/lib/python3.7/site-packages/PIL/Image.py:974: UserWarning: Palette images with Transparency expressed in bytes should be converted to RGBA images\n",
      "  \"Palette images with Transparency expressed in bytes should be \"\n"
     ]
    },
    {
     "name": "stdout",
     "output_type": "stream",
     "text": [
      "Val   loss 1.3372354723883013 | Accuracy 0.7296099290780143\n",
      "\n",
      "Epoch 18/20\n",
      "----------\n",
      "Training model in progress...\n",
      "----------\n"
     ]
    },
    {
     "data": {
      "application/vnd.jupyter.widget-view+json": {
       "model_id": "de00d8946d264777ba5f2e8e3f5e6bb9",
       "version_major": 2,
       "version_minor": 0
      },
      "text/plain": [
       "  0%|          | 0/5640 [00:00<?, ?it/s]"
      ]
     },
     "metadata": {},
     "output_type": "display_data"
    },
    {
     "name": "stderr",
     "output_type": "stream",
     "text": [
      "/home/ubuntu/anaconda3/envs/pytorch_latest_p37/lib/python3.7/site-packages/PIL/Image.py:974: UserWarning: Palette images with Transparency expressed in bytes should be converted to RGBA images\n",
      "  \"Palette images with Transparency expressed in bytes should be \"\n",
      "/home/ubuntu/anaconda3/envs/pytorch_latest_p37/lib/python3.7/site-packages/PIL/Image.py:974: UserWarning: Palette images with Transparency expressed in bytes should be converted to RGBA images\n",
      "  \"Palette images with Transparency expressed in bytes should be \"\n"
     ]
    },
    {
     "name": "stdout",
     "output_type": "stream",
     "text": [
      "Train loss 1.3099406682007702 | Accuracy 0.7576906028368795\n",
      "\n",
      "Validating model in progress...\n",
      "----------\n"
     ]
    },
    {
     "data": {
      "application/vnd.jupyter.widget-view+json": {
       "model_id": "47415b5a9f664149ac07b4950bf92e50",
       "version_major": 2,
       "version_minor": 0
      },
      "text/plain": [
       "  0%|          | 0/705 [00:00<?, ?it/s]"
      ]
     },
     "metadata": {},
     "output_type": "display_data"
    },
    {
     "name": "stderr",
     "output_type": "stream",
     "text": [
      "/home/ubuntu/anaconda3/envs/pytorch_latest_p37/lib/python3.7/site-packages/PIL/Image.py:974: UserWarning: Palette images with Transparency expressed in bytes should be converted to RGBA images\n",
      "  \"Palette images with Transparency expressed in bytes should be \"\n"
     ]
    },
    {
     "name": "stdout",
     "output_type": "stream",
     "text": [
      "Val   loss 1.3406579259439564 | Accuracy 0.7266843971631206\n",
      "\n",
      "INFO: Early stopping counter 1 of 4.\n",
      "Epoch 19/20\n",
      "----------\n",
      "Training model in progress...\n",
      "----------\n"
     ]
    },
    {
     "data": {
      "application/vnd.jupyter.widget-view+json": {
       "model_id": "37347b3c4528478a82821031c1b75a93",
       "version_major": 2,
       "version_minor": 0
      },
      "text/plain": [
       "  0%|          | 0/5640 [00:00<?, ?it/s]"
      ]
     },
     "metadata": {},
     "output_type": "display_data"
    },
    {
     "name": "stderr",
     "output_type": "stream",
     "text": [
      "/home/ubuntu/anaconda3/envs/pytorch_latest_p37/lib/python3.7/site-packages/PIL/Image.py:974: UserWarning: Palette images with Transparency expressed in bytes should be converted to RGBA images\n",
      "  \"Palette images with Transparency expressed in bytes should be \"\n",
      "/home/ubuntu/anaconda3/envs/pytorch_latest_p37/lib/python3.7/site-packages/PIL/Image.py:974: UserWarning: Palette images with Transparency expressed in bytes should be converted to RGBA images\n",
      "  \"Palette images with Transparency expressed in bytes should be \"\n"
     ]
    },
    {
     "name": "stdout",
     "output_type": "stream",
     "text": [
      "Train loss 1.3081699703390717 | Accuracy 0.7600398936170213\n",
      "\n",
      "Validating model in progress...\n",
      "----------\n"
     ]
    },
    {
     "data": {
      "application/vnd.jupyter.widget-view+json": {
       "model_id": "ea8ead25b64e4506bd51fd569fbf8da8",
       "version_major": 2,
       "version_minor": 0
      },
      "text/plain": [
       "  0%|          | 0/705 [00:00<?, ?it/s]"
      ]
     },
     "metadata": {},
     "output_type": "display_data"
    },
    {
     "name": "stderr",
     "output_type": "stream",
     "text": [
      "/home/ubuntu/anaconda3/envs/pytorch_latest_p37/lib/python3.7/site-packages/PIL/Image.py:974: UserWarning: Palette images with Transparency expressed in bytes should be converted to RGBA images\n",
      "  \"Palette images with Transparency expressed in bytes should be \"\n"
     ]
    },
    {
     "name": "stdout",
     "output_type": "stream",
     "text": [
      "Val   loss 1.3379650591113044 | Accuracy 0.7296985815602838\n",
      "\n",
      "Epoch    19: reducing learning rate of group 0 to 1.0000e-06.\n",
      "INFO: Early stopping counter 2 of 4.\n",
      "Epoch 20/20\n",
      "----------\n",
      "Training model in progress...\n",
      "----------\n"
     ]
    },
    {
     "data": {
      "application/vnd.jupyter.widget-view+json": {
       "model_id": "5c6bfed75b1e4b2b8c193d6206fb13af",
       "version_major": 2,
       "version_minor": 0
      },
      "text/plain": [
       "  0%|          | 0/5640 [00:00<?, ?it/s]"
      ]
     },
     "metadata": {},
     "output_type": "display_data"
    },
    {
     "name": "stderr",
     "output_type": "stream",
     "text": [
      "/home/ubuntu/anaconda3/envs/pytorch_latest_p37/lib/python3.7/site-packages/PIL/Image.py:974: UserWarning: Palette images with Transparency expressed in bytes should be converted to RGBA images\n",
      "  \"Palette images with Transparency expressed in bytes should be \"\n",
      "/home/ubuntu/anaconda3/envs/pytorch_latest_p37/lib/python3.7/site-packages/PIL/Image.py:974: UserWarning: Palette images with Transparency expressed in bytes should be converted to RGBA images\n",
      "  \"Palette images with Transparency expressed in bytes should be \"\n"
     ]
    },
    {
     "name": "stdout",
     "output_type": "stream",
     "text": [
      "Train loss 1.306769421443026 | Accuracy 0.7604831560283688\n",
      "\n",
      "Validating model in progress...\n",
      "----------\n"
     ]
    },
    {
     "data": {
      "application/vnd.jupyter.widget-view+json": {
       "model_id": "1944e04961c649a4932afc3c10177974",
       "version_major": 2,
       "version_minor": 0
      },
      "text/plain": [
       "  0%|          | 0/705 [00:00<?, ?it/s]"
      ]
     },
     "metadata": {},
     "output_type": "display_data"
    },
    {
     "name": "stderr",
     "output_type": "stream",
     "text": [
      "/home/ubuntu/anaconda3/envs/pytorch_latest_p37/lib/python3.7/site-packages/PIL/Image.py:974: UserWarning: Palette images with Transparency expressed in bytes should be converted to RGBA images\n",
      "  \"Palette images with Transparency expressed in bytes should be \"\n"
     ]
    },
    {
     "name": "stdout",
     "output_type": "stream",
     "text": [
      "Val   loss 1.3345609935462897 | Accuracy 0.7334219858156029\n",
      "\n",
      "\n",
      "Completed Training!\n",
      "--------------------\n",
      "CPU times: user 6h 4min 52s, sys: 1h 8min 47s, total: 7h 13min 40s\n",
      "Wall time: 7h 25min 53s\n"
     ]
    }
   ],
   "source": [
    "%%time\n",
    "\n",
    "# Initializing training history dictionary and best_accuracy variable\n",
    "history = defaultdict(list)\n",
    "best_accuracy = 0\n",
    "\n",
    "# Iteration times the total number of epochs\n",
    "for epoch in range(EPOCHS):\n",
    "\n",
    "    print(f\"Epoch {epoch + 1}/{EPOCHS}\")\n",
    "    print(\"-\" * 10)\n",
    "\n",
    "    # Calling train_model() function, returns train_acc and train_loss\n",
    "    train_acc, train_loss = train_model(\n",
    "        fn_detector,\n",
    "        train_data_loader,\n",
    "        loss_function,\n",
    "        optimizer,\n",
    "        device,\n",
    "        scheduler,\n",
    "        len(df_train)\n",
    "    )\n",
    "\n",
    "    # Print train_loss and train_acc values for current epoch\n",
    "    print(f\"Train loss {train_loss} | Accuracy {train_acc}\")\n",
    "    print()\n",
    "\n",
    "    # Calling evaluate_model() function, returns val_acc and val_loss\n",
    "    val_acc, val_loss = evaluate_model(\n",
    "            fn_detector,\n",
    "            validate_data_loader,\n",
    "            loss_function,\n",
    "            device,\n",
    "            len(df_validate)\n",
    "    )\n",
    "\n",
    "    # Print val_loss and val_acc values for current epoch\n",
    "    print(f\"Val   loss {val_loss} | Accuracy {val_acc}\")\n",
    "    print()\n",
    "\n",
    "    # Save current values of train_acc, val_acc, train_loss and val_loss\n",
    "    # in respective keys of history dictionary for later analysis\n",
    "    history[\"train_acc\"].append(train_acc)\n",
    "    history[\"train_loss\"].append(train_loss)\n",
    "    history[\"val_acc\"].append(val_acc)\n",
    "    history[\"val_loss\"].append(val_loss)\n",
    "\n",
    "    # Feed current val_loss to LRScheduler and Early Stopping\n",
    "    # for evaluation\n",
    "    lr_scheduler(val_loss)\n",
    "    early_stopping(val_loss)\n",
    "    # If val_loss increases in 4 consecutive epochs, abort training procedure\n",
    "    if early_stopping.early_stop:\n",
    "        break\n",
    "\n",
    "    # Saving model checkpoint as dictionary and .tar file for continuing inference\n",
    "    # Saving keys for current epoch, model state, optimizer state, val_acc and val_loss\n",
    "    torch.save({\n",
    "        \"epoch\": epoch,\n",
    "        \"model_state_dict\": fn_detector.state_dict(),\n",
    "        \"optimizer_state_dict\": optimizer.state_dict(),\n",
    "        \"val_acc\": val_acc,\n",
    "        \"val_loss\": val_loss\n",
    "    }, f\"/home/ubuntu/FakeNewsDetector/models/image_research/checkpoints/imagedetector_checkpoint_epoch_{epoch+1}.tar\")\n",
    "\n",
    "    # If val_acc has increased compared to previous epoch, complete model .pth file is saved\n",
    "    if val_acc > best_accuracy:\n",
    "        torch.save(fn_detector.state_dict(), f\"/home/ubuntu/FakeNewsDetector/models/image_research/best_image_detector_epoch_{epoch+1}.pth\")\n",
    "        best_accuracy = val_acc\n",
    "\n",
    "# Print output when training procedure completed\n",
    "print()\n",
    "print(\"Completed Training!\")\n",
    "print(\"-\" * 20)"
   ]
  },
  {
   "cell_type": "markdown",
   "id": "9971a58d",
   "metadata": {},
   "source": [
    "Plotting and visualizing training history - `train_acc` vs. `val_acc` curves across *20* epochs. Accuracy values need to increase over time. Validation accuracy is a first indicator for model's capability to generalize, but needs confirmation on unseen data, e.g. test data split."
   ]
  },
  {
   "cell_type": "markdown",
   "id": "47230762",
   "metadata": {},
   "source": [
    "**Attention: Same cell was used to trim *20* epoch training history graphs to *10* epochs.**"
   ]
  },
  {
   "cell_type": "code",
   "execution_count": 54,
   "id": "romantic-sculpture",
   "metadata": {},
   "outputs": [
    {
     "data": {
      "image/png": "[encoded data removed]",
      "text/plain": [
       "<Figure size 864x576 with 1 Axes>"
      ]
     },
     "metadata": {
      "image/png": {
       "height": 506,
       "width": 740
      }
     },
     "output_type": "display_data"
    }
   ],
   "source": [
    "# Initializing accuracy plot name\n",
    "acc_plot_name = \"imagedetector_accuracy_training_results_10epochs\"\n",
    "\n",
    "# Plotting Training History per epoch (Accuracy) for Image DistilFND\n",
    "CLASSIFIER_STYLE = \"Image Only\"\n",
    "\n",
    "# Plotting training and validation accuracy curves across 20 epochs\n",
    "plt.plot(history[\"train_acc\"], color=\"green\", label=\"Training Accuracy\")\n",
    "plt.plot(history[\"val_acc\"], color=\"red\", label=\"Validation Accuracy\")\n",
    "\n",
    "plt.title(\"Training History - {classifier}\".format(classifier=CLASSIFIER_STYLE))\n",
    "# Defining x- and y-axis labels\n",
    "plt.ylabel(\"Accuracy\")\n",
    "plt.xlabel(\"Epochs\")\n",
    "# Setting x- and y-axis scale\n",
    "plt.ylim([0.5, 1])\n",
    "plt.xlim([0, 10])\n",
    "plt.legend()\n",
    "# Saving plotted graph as jpg file\n",
    "plt.savefig(f\"/home/ubuntu/FakeNewsDetector/results/image_research/{acc_plot_name}.jpg\")\n",
    "plt.show()"
   ]
  },
  {
   "cell_type": "code",
   "execution_count": 55,
   "id": "empirical-reality",
   "metadata": {},
   "outputs": [
    {
     "data": {
      "image/png": "[encoded data removed]",
      "text/plain": [
       "<Figure size 864x576 with 1 Axes>"
      ]
     },
     "metadata": {
      "image/png": {
       "height": 506,
       "width": 757
      }
     },
     "output_type": "display_data"
    }
   ],
   "source": [
    "# Initializing loss plot name\n",
    "loss_plot_name = \"imagedetector_loss_training_results_10epochs\"\n",
    "\n",
    "# Plotting Training History per epoch (Loss) for Image DistilFND\n",
    "CLASSIFIER_STYLE = \"Image Only\"\n",
    "\n",
    "plt.plot(history[\"train_loss\"], color=\"blue\", label=\"Training Loss\")\n",
    "plt.plot(history[\"val_loss\"], color=\"orange\", label=\"Validation Loss\")\n",
    "\n",
    "plt.title(\"Training History - {classifier}\".format(classifier=CLASSIFIER_STYLE))\n",
    "# Defining x- and y-axis labels\n",
    "plt.ylabel(\"Cross Entropy Loss\")\n",
    "plt.xlabel(\"Epochs\")\n",
    "# Setting x- and y-axis scale\n",
    "plt.ylim([1.3, 1.5])\n",
    "plt.xlim([0, 10])\n",
    "plt.legend()\n",
    "# Saving plotted graph as jpg file\n",
    "plt.savefig(f\"/home/ubuntu/FakeNewsDetector/results/image_research/{loss_plot_name}.jpg\")\n",
    "plt.show()"
   ]
  },
  {
   "cell_type": "markdown",
   "id": "f1a0f5c0",
   "metadata": {},
   "source": [
    "`test_model()` function is used to evaluate model performance on previously unseen and unknown data. Hence, the training error is an indication for the model's capability to generalize well. For comparison of DistilFND model variants within the ablation study, the `test_acc` and `test_loss` values are used. Testing procedure is conducted for one iteration on test data split with identical size to validation data split.\n",
    "- `params`: model (fake news detector)\n",
    "- `params`: data_loader (PyTorch sample DataLoader)\n",
    "- `params`: loss_function (weighted Cross Entropy Loss)\n",
    "- `params`: device (either GPU or CPU resource)\n",
    "- `params`: num_examples (count of batches of respective data split containing a total of 16 samples)\n",
    "- `returns`: test accuracy `test_acc` (`correct_preds.double() / num_examples`)\n",
    "- `returns`: mean of test loss value `val_loss`\n",
    "- `returns`: actual `post_titles` input sequences\n",
    "- `returns`: model `predictions` per sample in batch\n",
    "- `returns`: prediction distribution `prediction_probs` across classes per sample per batch\n",
    "- `returns`: ground truth labels `real_labels` per sample in batch"
   ]
  },
  {
   "cell_type": "code",
   "execution_count": 42,
   "id": "final-carbon",
   "metadata": {},
   "outputs": [],
   "source": [
    "def test_model(model, data_loader, loss_function, device, num_examples):\n",
    "    print(\"Testing model in progress...\")\n",
    "    print(\"-\" * 10)\n",
    "    \n",
    "    # Switching off regularization and normalization layers for evaluation mode\n",
    "    # Hence, no model parameters are adjusted. Model is evaluated in current state\n",
    "    model.eval()\n",
    "\n",
    "    # Initializing list of test_losses and correct_preds\n",
    "    test_losses = []\n",
    "    correct_preds = 0\n",
    "    \n",
    "    # Initializing lists for predictions,\n",
    "    # prediction_probs and real_labels\n",
    "    predictions = []\n",
    "    prediction_probs = []\n",
    "    real_labels = []\n",
    "    \n",
    "    # Skipping gradient calulation over weights --> Not needed, because\n",
    "    # no parameters are updated and significantly speeds up iteration over samples batches\n",
    "    with torch.no_grad():\n",
    "        # Iteration over data (batches) contained in data split set DataLoader\n",
    "        for data in tqdm(data_loader):\n",
    "            \n",
    "            # Initializing post image and label per Reddit-Post and assigning to device\n",
    "            image = data[\"image\"].to(device)\n",
    "            labels = data[\"label\"].to(device)\n",
    "            \n",
    "            # Feeding input data to trained Image DistilFND\n",
    "            outputs = model(\n",
    "                image = image\n",
    "            )\n",
    "            \n",
    "            # Final Softmax layer returns class predictions per sample in batch\n",
    "            # Highest probability value resembles class prediction and is assigned to preds variable\n",
    "            _, preds = torch.max(outputs, dim=1)\n",
    "            \n",
    "            # Test loss is calculated by applying weighted Cross Entropy Loss\n",
    "            # on comparison between predicted label and ground truth label\n",
    "            test_loss = loss_function(outputs, labels)\n",
    "\n",
    "            # Counting correct model predictions and incrementing correct prediction count\n",
    "            correct_preds += torch.sum(preds == labels)\n",
    "\n",
    "            # Appending current test loss per batch\n",
    "            # to list of test losses\n",
    "            test_losses.append(test_loss.item())\n",
    "            \n",
    "            # Append calulated values for sample to list of values per sample\n",
    "            predictions.extend(preds)\n",
    "            prediction_probs.extend(outputs)\n",
    "            real_labels.extend(labels)\n",
    "    \n",
    "    # Stack and concatenate calulated test values per batch\n",
    "    test_acc = correct_preds.double() / num_examples\n",
    "    test_loss = np.mean(test_losses)\n",
    "    predictions = torch.stack(predictions)\n",
    "    prediction_probs = torch.stack(prediction_probs)\n",
    "    real_labels = torch.stack(real_labels)\n",
    "    \n",
    "    # Return test_acc, test_loss, predictions, prediction_probs, real_labels\n",
    "    return test_acc, test_loss, predictions, prediction_probs, real_labels"
   ]
  },
  {
   "cell_type": "markdown",
   "id": "a47118ac",
   "metadata": {},
   "source": [
    "Calling `test_model()` function to test model's generalization capability after training procedure is concluded. Respective return values are saved in test_acc, test_loss is ignored, post_titles, y_preds, y_prediction_probs and y_test for gound truth labels."
   ]
  },
  {
   "cell_type": "code",
   "execution_count": 43,
   "id": "fuzzy-treat",
   "metadata": {},
   "outputs": [
    {
     "name": "stdout",
     "output_type": "stream",
     "text": [
      "Testing model in progress...\n",
      "----------\n"
     ]
    },
    {
     "data": {
      "application/vnd.jupyter.widget-view+json": {
       "model_id": "72c2d4a118414f2bbb8f315cb1462bd7",
       "version_major": 2,
       "version_minor": 0
      },
      "text/plain": [
       "  0%|          | 0/705 [00:00<?, ?it/s]"
      ]
     },
     "metadata": {},
     "output_type": "display_data"
    },
    {
     "name": "stderr",
     "output_type": "stream",
     "text": [
      "/home/ubuntu/anaconda3/envs/pytorch_latest_p37/lib/python3.7/site-packages/PIL/Image.py:974: UserWarning: Palette images with Transparency expressed in bytes should be converted to RGBA images\n",
      "  \"Palette images with Transparency expressed in bytes should be \"\n"
     ]
    },
    {
     "name": "stdout",
     "output_type": "stream",
     "text": [
      "Model testing accuracy for classifier: Image Only = 0.7284574468085107%\n"
     ]
    }
   ],
   "source": [
    "# Testing model on test data split and initilaizing test values\n",
    "test_acc, _, y_preds, y_prediction_probs, y_test = test_model(\n",
    "    fn_detector,\n",
    "    test_data_loader,\n",
    "    loss_function,\n",
    "    device,\n",
    "    len(df_test)\n",
    ")\n",
    "\n",
    "# Printing model test accuracy\n",
    "print(f\"Model testing accuracy for classifier: {CLASSIFIER_STYLE} = {test_acc}%\")"
   ]
  },
  {
   "cell_type": "markdown",
   "id": "9d65694c",
   "metadata": {},
   "source": [
    "Sckit-learn `Classification Report` returns defined average weighted evaluation metrics `precision`, `recall` and `f1-score` across all classes as well as class specific evaluation metrics. Those metrics are used to analyse models classification capability across all classes and class-specific."
   ]
  },
  {
   "cell_type": "code",
   "execution_count": 76,
   "id": "greater-familiar",
   "metadata": {},
   "outputs": [
    {
     "name": "stdout",
     "output_type": "stream",
     "text": [
      "                 precision    recall  f1-score   support\n",
      "\n",
      "           True       0.67      0.85      0.75      4442\n",
      "         Satire       0.53      0.28      0.36       670\n",
      "    False Conn.       0.57      0.48      0.52      2144\n",
      "Impost. Content       0.00      0.00      0.00       236\n",
      "   Man. Content       0.91      0.84      0.87      3357\n",
      "   Mis. Content       0.58      0.57      0.57       431\n",
      "\n",
      "       accuracy                           0.71     11280\n",
      "      macro avg       0.54      0.50      0.51     11280\n",
      "   weighted avg       0.70      0.71      0.70     11280\n",
      "\n"
     ]
    },
    {
     "name": "stderr",
     "output_type": "stream",
     "text": [
      "/home/ubuntu/anaconda3/envs/pytorch_latest_p37/lib/python3.7/site-packages/sklearn/metrics/_classification.py:1221: UndefinedMetricWarning: Precision and F-score are ill-defined and being set to 0.0 in labels with no predicted samples. Use `zero_division` parameter to control this behavior.\n",
      "  _warn_prf(average, modifier, msg_start, len(result))\n"
     ]
    }
   ],
   "source": [
    "# Plotting classification report for test run\n",
    "print(classification_report(y_test.cpu(), y_preds.cpu(), target_names=CLASS_NAMES))"
   ]
  },
  {
   "cell_type": "markdown",
   "id": "67b35bbf",
   "metadata": {},
   "source": [
    "`Confusion Matrix` provides an detailed view on how many Reddit-Post samples of each class are classified correctly and if not classified correctly, as which class a given Reddit-Post is classified. On the *y*-axis the actual ground truth labels per Reddit-Post are displayed, and the predicted labels by the model are given on the *x*-axis. Values indicate models capability to correctly differentiate between classes of defined classification problem. Ultimate goal is to shift all numeric sample counts to the diagonal of the confusion matrix. Color intensity gives an indication, if a large portion of given class samples are correctly classified. Sum of numeric values per row, returns the total number of samples per class."
   ]
  },
  {
   "cell_type": "code",
   "execution_count": 77,
   "id": "paperback-polymer",
   "metadata": {},
   "outputs": [
    {
     "data": {
      "image/png": "[encoded data removed]",
      "text/plain": [
       "<Figure size 864x576 with 2 Axes>"
      ]
     },
     "metadata": {
      "image/png": {
       "height": 541,
       "width": 782
      }
     },
     "output_type": "display_data"
    }
   ],
   "source": [
    "# Initialize confusion matrix plot name\n",
    "cm_plot_name = \"imagedetector_testing_confusion_matrix_20epochs\"\n",
    "\n",
    "# Function to generate and plot confusion matrix for Image DistilFND\n",
    "def plot_confusion_matrix(confusion_matrix):\n",
    "    hmap = sns.heatmap(confusion_matrix, annot=True, fmt=\"d\", cmap=\"Oranges\")\n",
    "    hmap.yaxis.set_ticklabels(hmap.yaxis.get_ticklabels(), rotation=0, ha=\"right\")\n",
    "    hmap.xaxis.set_ticklabels(hmap.xaxis.get_ticklabels(), rotation=30, ha=\"right\")\n",
    "    # Set x- and y-axis labels\n",
    "    plt.ylabel(\"Fakeddit Dataset Label\")\n",
    "    plt.xlabel(\"Predicted Label\")\n",
    "    # Tighten layout of confusion matrix\n",
    "    plt.tight_layout\n",
    "    # Save confusion matrix in jpg format\n",
    "    plt.savefig(f\"/home/ubuntu/FakeNewsDetector/results/image_research/{cm_plot_name}.jpg\", bbox_inches=\"tight\")\n",
    "\n",
    "# Initialize confusion_matrix with y_test (ground truth labels) and predicted labels\n",
    "cm = confusion_matrix(y_test.cpu(), y_preds.cpu())\n",
    "# Plot and show resulting confusion matrix for Image DistilFND\n",
    "df_cm = pd.DataFrame(cm, index=CLASS_NAMES, columns=CLASS_NAMES)\n",
    "plot_confusion_matrix(df_cm)"
   ]
  },
  {
   "cell_type": "markdown",
   "id": "39afe662",
   "metadata": {},
   "source": [
    "`Cohen Kappa` score quantifies the inter-rater reliability of two raters rating an identical dataset. A large alignment of *1* or *100%* indicates that two raters separately classify each sample identically. In this context here, the `Cohen Kappa` score gives an indication of how much the predicted labels by the model are in alignment with the ground truth labels labeled by two researchers for the `Fakeddit` benchmark dataset. Hence, the Title DistilFND has an inter-rater alignment with the `Fakeddit` dataset of roughly *60,68%*."
   ]
  },
  {
   "cell_type": "code",
   "execution_count": 51,
   "id": "proved-share",
   "metadata": {},
   "outputs": [
    {
     "name": "stdout",
     "output_type": "stream",
     "text": [
      "0.6067715037287899\n"
     ]
    }
   ],
   "source": [
    "# Calculating and printing Cohen Kappa Score\n",
    "print(cohen_kappa_score(y_preds.cpu(), y_test.cpu()))"
   ]
  },
  {
   "cell_type": "markdown",
   "id": "da885c55",
   "metadata": {},
   "source": [
    "Calulating the `receiver operating characteristic (ROC)` and `area under the curve (AUC)` scores for the Title DistilFND model. This gives an indication of the model's capability to separate between given classes by leveraging the `One-vs-One-Algorithm (OVO)`, which convrts the multi-class problem into a binary classification problem by calculating every pairwise combination of classes within the *6* defined classes. A value of *1* or *100%* indicates that the model has perfect separation capability and correctly classifies all samples, the goal then is to converge the `ROC-AUC` score towards *1* or *100%*. For comparison of different model variants of DistilFND, the `One-vs-One ROC-AUC score weighted by prevalence` is leveraged due to the highly imabalanced `Fakeddit` dataset. This minimizes the proportionally large effect on the evaluation criteria by an underrepresented class with only comparably view samples. Th weighted metrics are also used in above classification report in order to normalize the evaluation metrics across classes."
   ]
  },
  {
   "cell_type": "code",
   "execution_count": 78,
   "id": "fuzzy-myanmar",
   "metadata": {},
   "outputs": [],
   "source": [
    "# Importing needed modules to calculate ROC-AUC scores\n",
    "from sklearn.metrics import roc_curve, auc, roc_auc_score\n",
    "from sklearn.preprocessing import label_binarize\n",
    "from sklearn.multiclass import OneVsRestClassifier\n",
    "from scipy import interp"
   ]
  },
  {
   "cell_type": "code",
   "execution_count": 79,
   "id": "rolled-wisdom",
   "metadata": {},
   "outputs": [
    {
     "name": "stdout",
     "output_type": "stream",
     "text": [
      "One-vs-One ROC AUC scores:\n",
      "0.778087 (macro),\n",
      "0.816789 (weighted by prevalence)\n",
      "One-vs-Rest ROC AUC scores:\n",
      "0.813221 (macro),\n",
      "0.870356 (weighted by prevalence)\n"
     ]
    }
   ],
   "source": [
    "# Calculating ROC-AUC-Score with One-vs-One and One-vsRest algorithms, regular and weighted by prevalence\n",
    "macro_roc_auc_ovo = roc_auc_score(y_test.cpu(), y_prediction_probs.cpu(), multi_class=\"ovo\", average=\"macro\")\n",
    "# weighted_roc_auc_ovo is used for comparison of model variants of DistilFND\n",
    "weighted_roc_auc_ovo = roc_auc_score(y_test.cpu(), y_prediction_probs.cpu(), multi_class=\"ovo\", average=\"weighted\")\n",
    "macro_roc_auc_ovr = roc_auc_score(y_test.cpu(), y_prediction_probs.cpu(), multi_class=\"ovr\", average=\"macro\")\n",
    "weighted_roc_auc_ovr = roc_auc_score(y_test.cpu(), y_prediction_probs.cpu(), multi_class=\"ovr\", average=\"weighted\")\n",
    "\n",
    "print(\"One-vs-One ROC AUC scores:\\n{:.6f} (macro),\\n{:.6f} \"\n",
    "      \"(weighted by prevalence)\"\n",
    "      .format(macro_roc_auc_ovo, weighted_roc_auc_ovo))\n",
    "print(\"One-vs-Rest ROC AUC scores:\\n{:.6f} (macro),\\n{:.6f} \"\n",
    "      \"(weighted by prevalence)\"\n",
    "      .format(macro_roc_auc_ovr, weighted_roc_auc_ovr))"
   ]
  },
  {
   "cell_type": "markdown",
   "id": "f68d1dab",
   "metadata": {},
   "source": [
    "# Additional helper function"
   ]
  },
  {
   "cell_type": "markdown",
   "id": "e0432896",
   "metadata": {},
   "source": [
    "Before applying random pixel initialization within the image processing exception handling, it was made sure that not a large portion of image data is compromised. Here only 731 of *777.564* images are compromised and cannot be processed."
   ]
  },
  {
   "cell_type": "code",
   "execution_count": 185,
   "id": "breathing-september",
   "metadata": {},
   "outputs": [
    {
     "data": {
      "application/vnd.jupyter.widget-view+json": {
       "model_id": "98b93d6bd7f5496b86efa571bfc8832e",
       "version_major": 2,
       "version_minor": 0
      },
      "text/plain": [
       "  0%|          | 0/773564 [00:00<?, ?it/s]"
      ]
     },
     "metadata": {},
     "output_type": "display_data"
    }
   ],
   "source": [
    "# Iterate through entire image data folder and count compromised images\n",
    "bad_list = []\n",
    "for file in tqdm(os.listdir(\"/home/ubuntu/FakeNewsDetector/dataset/image_set/\")):\n",
    "    file_path = os.path.join(\"/home/ubuntu/FakeNewsDetector/dataset/image_set/\", file)\n",
    "    try:\n",
    "        image = Image.open(file_path)\n",
    "    except UnidentifiedImageError:\n",
    "        bad_list.append(file)\n",
    "    except OSError:\n",
    "        continue"
   ]
  },
  {
   "cell_type": "code",
   "execution_count": 186,
   "id": "turned-arthritis",
   "metadata": {},
   "outputs": [
    {
     "data": {
      "text/plain": [
       "731"
      ]
     },
     "execution_count": 186,
     "metadata": {},
     "output_type": "execute_result"
    }
   ],
   "source": [
    "# Count of compromised images\n",
    "len(bad_list)"
   ]
  }
 ],
 "metadata": {
  "kernelspec": {
   "display_name": "Python 3",
   "language": "python",
   "name": "python3"
  },
  "language_info": {
   "codemirror_mode": {
    "name": "ipython",
    "version": 3
   },
   "file_extension": ".py",
   "mimetype": "text/x-python",
   "name": "python",
   "nbconvert_exporter": "python",
   "pygments_lexer": "ipython3",
   "version": "3.8.10"
  }
 },
 "nbformat": 4,
 "nbformat_minor": 5
}
